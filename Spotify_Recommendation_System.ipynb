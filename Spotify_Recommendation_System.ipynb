{
  "nbformat": 4,
  "nbformat_minor": 0,
  "metadata": {
    "colab": {
      "name": "Spotify Recommendation System.ipynb",
      "provenance": [],
      "collapsed_sections": [],
      "authorship_tag": "ABX9TyP5IQLLSvbORA5Ojqz3iBp9",
      "include_colab_link": true
    },
    "kernelspec": {
      "name": "python3",
      "display_name": "Python 3"
    },
    "language_info": {
      "name": "python"
    }
  },
  "cells": [
    {
      "cell_type": "markdown",
      "metadata": {
        "id": "view-in-github",
        "colab_type": "text"
      },
      "source": [
        "<a href=\"https://colab.research.google.com/github/ankityadav2193/machine_learning-projects/blob/main/Spotify_Recommendation_System.ipynb\" target=\"_parent\"><img src=\"https://colab.research.google.com/assets/colab-badge.svg\" alt=\"Open In Colab\"/></a>"
      ]
    },
    {
      "cell_type": "code",
      "metadata": {
        "id": "B_lbzb_vuxF2"
      },
      "source": [
        "import pandas as pd\n",
        "import numpy as np\n",
        "import matplotlib.pyplot as plt\n",
        "import seaborn as sns\n",
        "from tqdm import tqdm\n",
        "sns.set()\n",
        "%matplotlib inline"
      ],
      "execution_count": 2,
      "outputs": []
    },
    {
      "cell_type": "code",
      "metadata": {
        "id": "zm4Bn4HGvzoI"
      },
      "source": [
        "data=pd.read_csv('/content/spotify.csv')"
      ],
      "execution_count": 3,
      "outputs": []
    },
    {
      "cell_type": "code",
      "metadata": {
        "colab": {
          "base_uri": "https://localhost:8080/",
          "height": 411
        },
        "id": "jzjQ4hAhwj1K",
        "outputId": "8daff336-0052-40f1-daf9-1785f16a2bf5"
      },
      "source": [
        "data.head()"
      ],
      "execution_count": 4,
      "outputs": [
        {
          "output_type": "execute_result",
          "data": {
            "text/html": [
              "<div>\n",
              "<style scoped>\n",
              "    .dataframe tbody tr th:only-of-type {\n",
              "        vertical-align: middle;\n",
              "    }\n",
              "\n",
              "    .dataframe tbody tr th {\n",
              "        vertical-align: top;\n",
              "    }\n",
              "\n",
              "    .dataframe thead th {\n",
              "        text-align: right;\n",
              "    }\n",
              "</style>\n",
              "<table border=\"1\" class=\"dataframe\">\n",
              "  <thead>\n",
              "    <tr style=\"text-align: right;\">\n",
              "      <th></th>\n",
              "      <th>acousticness</th>\n",
              "      <th>artists</th>\n",
              "      <th>danceability</th>\n",
              "      <th>duration_ms</th>\n",
              "      <th>energy</th>\n",
              "      <th>explicit</th>\n",
              "      <th>id</th>\n",
              "      <th>instrumentalness</th>\n",
              "      <th>key</th>\n",
              "      <th>liveness</th>\n",
              "      <th>loudness</th>\n",
              "      <th>mode</th>\n",
              "      <th>name</th>\n",
              "      <th>popularity</th>\n",
              "      <th>release_date</th>\n",
              "      <th>speechiness</th>\n",
              "      <th>tempo</th>\n",
              "      <th>valence</th>\n",
              "      <th>year</th>\n",
              "    </tr>\n",
              "  </thead>\n",
              "  <tbody>\n",
              "    <tr>\n",
              "      <th>0</th>\n",
              "      <td>0.991000</td>\n",
              "      <td>['Mamie Smith']</td>\n",
              "      <td>0.598</td>\n",
              "      <td>168333</td>\n",
              "      <td>0.224</td>\n",
              "      <td>0</td>\n",
              "      <td>0cS0A1fUEUd1EW3FcF8AEI</td>\n",
              "      <td>0.000522</td>\n",
              "      <td>5</td>\n",
              "      <td>0.3790</td>\n",
              "      <td>-12.628</td>\n",
              "      <td>0</td>\n",
              "      <td>Keep A Song In Your Soul</td>\n",
              "      <td>12</td>\n",
              "      <td>1920</td>\n",
              "      <td>0.0936</td>\n",
              "      <td>149.976</td>\n",
              "      <td>0.6340</td>\n",
              "      <td>1920</td>\n",
              "    </tr>\n",
              "    <tr>\n",
              "      <th>1</th>\n",
              "      <td>0.643000</td>\n",
              "      <td>[\"Screamin' Jay Hawkins\"]</td>\n",
              "      <td>0.852</td>\n",
              "      <td>150200</td>\n",
              "      <td>0.517</td>\n",
              "      <td>0</td>\n",
              "      <td>0hbkKFIJm7Z05H8Zl9w30f</td>\n",
              "      <td>0.026400</td>\n",
              "      <td>5</td>\n",
              "      <td>0.0809</td>\n",
              "      <td>-7.261</td>\n",
              "      <td>0</td>\n",
              "      <td>I Put A Spell On You</td>\n",
              "      <td>7</td>\n",
              "      <td>1920-01-05</td>\n",
              "      <td>0.0534</td>\n",
              "      <td>86.889</td>\n",
              "      <td>0.9500</td>\n",
              "      <td>1920</td>\n",
              "    </tr>\n",
              "    <tr>\n",
              "      <th>2</th>\n",
              "      <td>0.993000</td>\n",
              "      <td>['Mamie Smith']</td>\n",
              "      <td>0.647</td>\n",
              "      <td>163827</td>\n",
              "      <td>0.186</td>\n",
              "      <td>0</td>\n",
              "      <td>11m7laMUgmOKqI3oYzuhne</td>\n",
              "      <td>0.000018</td>\n",
              "      <td>0</td>\n",
              "      <td>0.5190</td>\n",
              "      <td>-12.098</td>\n",
              "      <td>1</td>\n",
              "      <td>Golfing Papa</td>\n",
              "      <td>4</td>\n",
              "      <td>1920</td>\n",
              "      <td>0.1740</td>\n",
              "      <td>97.600</td>\n",
              "      <td>0.6890</td>\n",
              "      <td>1920</td>\n",
              "    </tr>\n",
              "    <tr>\n",
              "      <th>3</th>\n",
              "      <td>0.000173</td>\n",
              "      <td>['Oscar Velazquez']</td>\n",
              "      <td>0.730</td>\n",
              "      <td>422087</td>\n",
              "      <td>0.798</td>\n",
              "      <td>0</td>\n",
              "      <td>19Lc5SfJJ5O1oaxY0fpwfh</td>\n",
              "      <td>0.801000</td>\n",
              "      <td>2</td>\n",
              "      <td>0.1280</td>\n",
              "      <td>-7.311</td>\n",
              "      <td>1</td>\n",
              "      <td>True House Music - Xavier Santos &amp; Carlos Gomi...</td>\n",
              "      <td>17</td>\n",
              "      <td>1920-01-01</td>\n",
              "      <td>0.0425</td>\n",
              "      <td>127.997</td>\n",
              "      <td>0.0422</td>\n",
              "      <td>1920</td>\n",
              "    </tr>\n",
              "    <tr>\n",
              "      <th>4</th>\n",
              "      <td>0.295000</td>\n",
              "      <td>['Mixe']</td>\n",
              "      <td>0.704</td>\n",
              "      <td>165224</td>\n",
              "      <td>0.707</td>\n",
              "      <td>1</td>\n",
              "      <td>2hJjbsLCytGsnAHfdsLejp</td>\n",
              "      <td>0.000246</td>\n",
              "      <td>10</td>\n",
              "      <td>0.4020</td>\n",
              "      <td>-6.036</td>\n",
              "      <td>0</td>\n",
              "      <td>Xuniverxe</td>\n",
              "      <td>2</td>\n",
              "      <td>1920-10-01</td>\n",
              "      <td>0.0768</td>\n",
              "      <td>122.076</td>\n",
              "      <td>0.2990</td>\n",
              "      <td>1920</td>\n",
              "    </tr>\n",
              "  </tbody>\n",
              "</table>\n",
              "</div>"
            ],
            "text/plain": [
              "   acousticness                    artists  ...  valence  year\n",
              "0      0.991000            ['Mamie Smith']  ...   0.6340  1920\n",
              "1      0.643000  [\"Screamin' Jay Hawkins\"]  ...   0.9500  1920\n",
              "2      0.993000            ['Mamie Smith']  ...   0.6890  1920\n",
              "3      0.000173        ['Oscar Velazquez']  ...   0.0422  1920\n",
              "4      0.295000                   ['Mixe']  ...   0.2990  1920\n",
              "\n",
              "[5 rows x 19 columns]"
            ]
          },
          "metadata": {
            "tags": []
          },
          "execution_count": 4
        }
      ]
    },
    {
      "cell_type": "code",
      "metadata": {
        "colab": {
          "base_uri": "https://localhost:8080/"
        },
        "id": "GBfOaPH6wl2b",
        "outputId": "38987caf-8823-4a6a-a44c-7970a9adc65b"
      },
      "source": [
        "data.shape"
      ],
      "execution_count": 5,
      "outputs": [
        {
          "output_type": "execute_result",
          "data": {
            "text/plain": [
              "(174389, 19)"
            ]
          },
          "metadata": {
            "tags": []
          },
          "execution_count": 5
        }
      ]
    },
    {
      "cell_type": "code",
      "metadata": {
        "colab": {
          "base_uri": "https://localhost:8080/"
        },
        "id": "imCrkRd2wotV",
        "outputId": "e948bce0-2e68-4007-d725-e8c293f8d2f4"
      },
      "source": [
        "data.info()"
      ],
      "execution_count": 6,
      "outputs": [
        {
          "output_type": "stream",
          "text": [
            "<class 'pandas.core.frame.DataFrame'>\n",
            "RangeIndex: 174389 entries, 0 to 174388\n",
            "Data columns (total 19 columns):\n",
            " #   Column            Non-Null Count   Dtype  \n",
            "---  ------            --------------   -----  \n",
            " 0   acousticness      174389 non-null  float64\n",
            " 1   artists           174389 non-null  object \n",
            " 2   danceability      174389 non-null  float64\n",
            " 3   duration_ms       174389 non-null  int64  \n",
            " 4   energy            174389 non-null  float64\n",
            " 5   explicit          174389 non-null  int64  \n",
            " 6   id                174389 non-null  object \n",
            " 7   instrumentalness  174389 non-null  float64\n",
            " 8   key               174389 non-null  int64  \n",
            " 9   liveness          174389 non-null  float64\n",
            " 10  loudness          174389 non-null  float64\n",
            " 11  mode              174389 non-null  int64  \n",
            " 12  name              174389 non-null  object \n",
            " 13  popularity        174389 non-null  int64  \n",
            " 14  release_date      174389 non-null  object \n",
            " 15  speechiness       174389 non-null  float64\n",
            " 16  tempo             174389 non-null  float64\n",
            " 17  valence           174389 non-null  float64\n",
            " 18  year              174389 non-null  int64  \n",
            "dtypes: float64(9), int64(6), object(4)\n",
            "memory usage: 25.3+ MB\n"
          ],
          "name": "stdout"
        }
      ]
    },
    {
      "cell_type": "code",
      "metadata": {
        "colab": {
          "base_uri": "https://localhost:8080/",
          "height": 317
        },
        "id": "4tHIFpjHwwdS",
        "outputId": "db027c07-7b69-4ea9-d6b9-36c1e4376d33"
      },
      "source": [
        "data.describe()"
      ],
      "execution_count": 7,
      "outputs": [
        {
          "output_type": "execute_result",
          "data": {
            "text/html": [
              "<div>\n",
              "<style scoped>\n",
              "    .dataframe tbody tr th:only-of-type {\n",
              "        vertical-align: middle;\n",
              "    }\n",
              "\n",
              "    .dataframe tbody tr th {\n",
              "        vertical-align: top;\n",
              "    }\n",
              "\n",
              "    .dataframe thead th {\n",
              "        text-align: right;\n",
              "    }\n",
              "</style>\n",
              "<table border=\"1\" class=\"dataframe\">\n",
              "  <thead>\n",
              "    <tr style=\"text-align: right;\">\n",
              "      <th></th>\n",
              "      <th>acousticness</th>\n",
              "      <th>danceability</th>\n",
              "      <th>duration_ms</th>\n",
              "      <th>energy</th>\n",
              "      <th>explicit</th>\n",
              "      <th>instrumentalness</th>\n",
              "      <th>key</th>\n",
              "      <th>liveness</th>\n",
              "      <th>loudness</th>\n",
              "      <th>mode</th>\n",
              "      <th>popularity</th>\n",
              "      <th>speechiness</th>\n",
              "      <th>tempo</th>\n",
              "      <th>valence</th>\n",
              "      <th>year</th>\n",
              "    </tr>\n",
              "  </thead>\n",
              "  <tbody>\n",
              "    <tr>\n",
              "      <th>count</th>\n",
              "      <td>174389.000000</td>\n",
              "      <td>174389.000000</td>\n",
              "      <td>1.743890e+05</td>\n",
              "      <td>174389.000000</td>\n",
              "      <td>174389.000000</td>\n",
              "      <td>174389.000000</td>\n",
              "      <td>174389.000000</td>\n",
              "      <td>174389.000000</td>\n",
              "      <td>174389.000000</td>\n",
              "      <td>174389.000000</td>\n",
              "      <td>174389.000000</td>\n",
              "      <td>174389.000000</td>\n",
              "      <td>174389.000000</td>\n",
              "      <td>174389.000000</td>\n",
              "      <td>174389.000000</td>\n",
              "    </tr>\n",
              "    <tr>\n",
              "      <th>mean</th>\n",
              "      <td>0.499228</td>\n",
              "      <td>0.536758</td>\n",
              "      <td>2.328100e+05</td>\n",
              "      <td>0.482721</td>\n",
              "      <td>0.068135</td>\n",
              "      <td>0.197252</td>\n",
              "      <td>5.205305</td>\n",
              "      <td>0.211123</td>\n",
              "      <td>-11.750865</td>\n",
              "      <td>0.702384</td>\n",
              "      <td>25.693381</td>\n",
              "      <td>0.105729</td>\n",
              "      <td>117.006500</td>\n",
              "      <td>0.524533</td>\n",
              "      <td>1977.061764</td>\n",
              "    </tr>\n",
              "    <tr>\n",
              "      <th>std</th>\n",
              "      <td>0.379936</td>\n",
              "      <td>0.176025</td>\n",
              "      <td>1.483958e+05</td>\n",
              "      <td>0.272685</td>\n",
              "      <td>0.251978</td>\n",
              "      <td>0.334574</td>\n",
              "      <td>3.518292</td>\n",
              "      <td>0.180493</td>\n",
              "      <td>5.691591</td>\n",
              "      <td>0.457211</td>\n",
              "      <td>21.872740</td>\n",
              "      <td>0.182260</td>\n",
              "      <td>30.254178</td>\n",
              "      <td>0.264477</td>\n",
              "      <td>26.907950</td>\n",
              "    </tr>\n",
              "    <tr>\n",
              "      <th>min</th>\n",
              "      <td>0.000000</td>\n",
              "      <td>0.000000</td>\n",
              "      <td>4.937000e+03</td>\n",
              "      <td>0.000000</td>\n",
              "      <td>0.000000</td>\n",
              "      <td>0.000000</td>\n",
              "      <td>0.000000</td>\n",
              "      <td>0.000000</td>\n",
              "      <td>-60.000000</td>\n",
              "      <td>0.000000</td>\n",
              "      <td>0.000000</td>\n",
              "      <td>0.000000</td>\n",
              "      <td>0.000000</td>\n",
              "      <td>0.000000</td>\n",
              "      <td>1920.000000</td>\n",
              "    </tr>\n",
              "    <tr>\n",
              "      <th>25%</th>\n",
              "      <td>0.087700</td>\n",
              "      <td>0.414000</td>\n",
              "      <td>1.661330e+05</td>\n",
              "      <td>0.249000</td>\n",
              "      <td>0.000000</td>\n",
              "      <td>0.000000</td>\n",
              "      <td>2.000000</td>\n",
              "      <td>0.099200</td>\n",
              "      <td>-14.908000</td>\n",
              "      <td>0.000000</td>\n",
              "      <td>1.000000</td>\n",
              "      <td>0.035200</td>\n",
              "      <td>93.931000</td>\n",
              "      <td>0.311000</td>\n",
              "      <td>1955.000000</td>\n",
              "    </tr>\n",
              "    <tr>\n",
              "      <th>50%</th>\n",
              "      <td>0.517000</td>\n",
              "      <td>0.548000</td>\n",
              "      <td>2.057870e+05</td>\n",
              "      <td>0.465000</td>\n",
              "      <td>0.000000</td>\n",
              "      <td>0.000524</td>\n",
              "      <td>5.000000</td>\n",
              "      <td>0.138000</td>\n",
              "      <td>-10.836000</td>\n",
              "      <td>1.000000</td>\n",
              "      <td>25.000000</td>\n",
              "      <td>0.045500</td>\n",
              "      <td>115.816000</td>\n",
              "      <td>0.536000</td>\n",
              "      <td>1977.000000</td>\n",
              "    </tr>\n",
              "    <tr>\n",
              "      <th>75%</th>\n",
              "      <td>0.895000</td>\n",
              "      <td>0.669000</td>\n",
              "      <td>2.657200e+05</td>\n",
              "      <td>0.711000</td>\n",
              "      <td>0.000000</td>\n",
              "      <td>0.252000</td>\n",
              "      <td>8.000000</td>\n",
              "      <td>0.270000</td>\n",
              "      <td>-7.499000</td>\n",
              "      <td>1.000000</td>\n",
              "      <td>42.000000</td>\n",
              "      <td>0.076300</td>\n",
              "      <td>135.011000</td>\n",
              "      <td>0.743000</td>\n",
              "      <td>1999.000000</td>\n",
              "    </tr>\n",
              "    <tr>\n",
              "      <th>max</th>\n",
              "      <td>0.996000</td>\n",
              "      <td>0.988000</td>\n",
              "      <td>5.338302e+06</td>\n",
              "      <td>1.000000</td>\n",
              "      <td>1.000000</td>\n",
              "      <td>1.000000</td>\n",
              "      <td>11.000000</td>\n",
              "      <td>1.000000</td>\n",
              "      <td>3.855000</td>\n",
              "      <td>1.000000</td>\n",
              "      <td>100.000000</td>\n",
              "      <td>0.971000</td>\n",
              "      <td>243.507000</td>\n",
              "      <td>1.000000</td>\n",
              "      <td>2021.000000</td>\n",
              "    </tr>\n",
              "  </tbody>\n",
              "</table>\n",
              "</div>"
            ],
            "text/plain": [
              "        acousticness   danceability  ...        valence           year\n",
              "count  174389.000000  174389.000000  ...  174389.000000  174389.000000\n",
              "mean        0.499228       0.536758  ...       0.524533    1977.061764\n",
              "std         0.379936       0.176025  ...       0.264477      26.907950\n",
              "min         0.000000       0.000000  ...       0.000000    1920.000000\n",
              "25%         0.087700       0.414000  ...       0.311000    1955.000000\n",
              "50%         0.517000       0.548000  ...       0.536000    1977.000000\n",
              "75%         0.895000       0.669000  ...       0.743000    1999.000000\n",
              "max         0.996000       0.988000  ...       1.000000    2021.000000\n",
              "\n",
              "[8 rows x 15 columns]"
            ]
          },
          "metadata": {
            "tags": []
          },
          "execution_count": 7
        }
      ]
    },
    {
      "cell_type": "code",
      "metadata": {
        "colab": {
          "base_uri": "https://localhost:8080/"
        },
        "id": "ZHek_1ECw09L",
        "outputId": "a3ed5ad7-8404-47ed-83ef-b1c78af04b63"
      },
      "source": [
        "data.isnull().sum()"
      ],
      "execution_count": 8,
      "outputs": [
        {
          "output_type": "execute_result",
          "data": {
            "text/plain": [
              "acousticness        0\n",
              "artists             0\n",
              "danceability        0\n",
              "duration_ms         0\n",
              "energy              0\n",
              "explicit            0\n",
              "id                  0\n",
              "instrumentalness    0\n",
              "key                 0\n",
              "liveness            0\n",
              "loudness            0\n",
              "mode                0\n",
              "name                0\n",
              "popularity          0\n",
              "release_date        0\n",
              "speechiness         0\n",
              "tempo               0\n",
              "valence             0\n",
              "year                0\n",
              "dtype: int64"
            ]
          },
          "metadata": {
            "tags": []
          },
          "execution_count": 8
        }
      ]
    },
    {
      "cell_type": "code",
      "metadata": {
        "id": "NsmdGCFxw8DX"
      },
      "source": [
        "df = data.drop(['id','name', 'artists', 'release_date', 'year'],axis=1)"
      ],
      "execution_count": 9,
      "outputs": []
    },
    {
      "cell_type": "code",
      "metadata": {
        "colab": {
          "base_uri": "https://localhost:8080/",
          "height": 204
        },
        "id": "db64SqmYxZ3B",
        "outputId": "6f99d511-3c6b-4c65-b0d3-1ab9eed64ea2"
      },
      "source": [
        "df.head()"
      ],
      "execution_count": 10,
      "outputs": [
        {
          "output_type": "execute_result",
          "data": {
            "text/html": [
              "<div>\n",
              "<style scoped>\n",
              "    .dataframe tbody tr th:only-of-type {\n",
              "        vertical-align: middle;\n",
              "    }\n",
              "\n",
              "    .dataframe tbody tr th {\n",
              "        vertical-align: top;\n",
              "    }\n",
              "\n",
              "    .dataframe thead th {\n",
              "        text-align: right;\n",
              "    }\n",
              "</style>\n",
              "<table border=\"1\" class=\"dataframe\">\n",
              "  <thead>\n",
              "    <tr style=\"text-align: right;\">\n",
              "      <th></th>\n",
              "      <th>acousticness</th>\n",
              "      <th>danceability</th>\n",
              "      <th>duration_ms</th>\n",
              "      <th>energy</th>\n",
              "      <th>explicit</th>\n",
              "      <th>instrumentalness</th>\n",
              "      <th>key</th>\n",
              "      <th>liveness</th>\n",
              "      <th>loudness</th>\n",
              "      <th>mode</th>\n",
              "      <th>popularity</th>\n",
              "      <th>speechiness</th>\n",
              "      <th>tempo</th>\n",
              "      <th>valence</th>\n",
              "    </tr>\n",
              "  </thead>\n",
              "  <tbody>\n",
              "    <tr>\n",
              "      <th>0</th>\n",
              "      <td>0.991000</td>\n",
              "      <td>0.598</td>\n",
              "      <td>168333</td>\n",
              "      <td>0.224</td>\n",
              "      <td>0</td>\n",
              "      <td>0.000522</td>\n",
              "      <td>5</td>\n",
              "      <td>0.3790</td>\n",
              "      <td>-12.628</td>\n",
              "      <td>0</td>\n",
              "      <td>12</td>\n",
              "      <td>0.0936</td>\n",
              "      <td>149.976</td>\n",
              "      <td>0.6340</td>\n",
              "    </tr>\n",
              "    <tr>\n",
              "      <th>1</th>\n",
              "      <td>0.643000</td>\n",
              "      <td>0.852</td>\n",
              "      <td>150200</td>\n",
              "      <td>0.517</td>\n",
              "      <td>0</td>\n",
              "      <td>0.026400</td>\n",
              "      <td>5</td>\n",
              "      <td>0.0809</td>\n",
              "      <td>-7.261</td>\n",
              "      <td>0</td>\n",
              "      <td>7</td>\n",
              "      <td>0.0534</td>\n",
              "      <td>86.889</td>\n",
              "      <td>0.9500</td>\n",
              "    </tr>\n",
              "    <tr>\n",
              "      <th>2</th>\n",
              "      <td>0.993000</td>\n",
              "      <td>0.647</td>\n",
              "      <td>163827</td>\n",
              "      <td>0.186</td>\n",
              "      <td>0</td>\n",
              "      <td>0.000018</td>\n",
              "      <td>0</td>\n",
              "      <td>0.5190</td>\n",
              "      <td>-12.098</td>\n",
              "      <td>1</td>\n",
              "      <td>4</td>\n",
              "      <td>0.1740</td>\n",
              "      <td>97.600</td>\n",
              "      <td>0.6890</td>\n",
              "    </tr>\n",
              "    <tr>\n",
              "      <th>3</th>\n",
              "      <td>0.000173</td>\n",
              "      <td>0.730</td>\n",
              "      <td>422087</td>\n",
              "      <td>0.798</td>\n",
              "      <td>0</td>\n",
              "      <td>0.801000</td>\n",
              "      <td>2</td>\n",
              "      <td>0.1280</td>\n",
              "      <td>-7.311</td>\n",
              "      <td>1</td>\n",
              "      <td>17</td>\n",
              "      <td>0.0425</td>\n",
              "      <td>127.997</td>\n",
              "      <td>0.0422</td>\n",
              "    </tr>\n",
              "    <tr>\n",
              "      <th>4</th>\n",
              "      <td>0.295000</td>\n",
              "      <td>0.704</td>\n",
              "      <td>165224</td>\n",
              "      <td>0.707</td>\n",
              "      <td>1</td>\n",
              "      <td>0.000246</td>\n",
              "      <td>10</td>\n",
              "      <td>0.4020</td>\n",
              "      <td>-6.036</td>\n",
              "      <td>0</td>\n",
              "      <td>2</td>\n",
              "      <td>0.0768</td>\n",
              "      <td>122.076</td>\n",
              "      <td>0.2990</td>\n",
              "    </tr>\n",
              "  </tbody>\n",
              "</table>\n",
              "</div>"
            ],
            "text/plain": [
              "   acousticness  danceability  duration_ms  ...  speechiness    tempo  valence\n",
              "0      0.991000         0.598       168333  ...       0.0936  149.976   0.6340\n",
              "1      0.643000         0.852       150200  ...       0.0534   86.889   0.9500\n",
              "2      0.993000         0.647       163827  ...       0.1740   97.600   0.6890\n",
              "3      0.000173         0.730       422087  ...       0.0425  127.997   0.0422\n",
              "4      0.295000         0.704       165224  ...       0.0768  122.076   0.2990\n",
              "\n",
              "[5 rows x 14 columns]"
            ]
          },
          "metadata": {
            "tags": []
          },
          "execution_count": 10
        }
      ]
    },
    {
      "cell_type": "code",
      "metadata": {
        "colab": {
          "base_uri": "https://localhost:8080/",
          "height": 503
        },
        "id": "U8qKkJSrxb7J",
        "outputId": "6d1ce593-49b7-48ac-a529-84ff392ec79e"
      },
      "source": [
        "df.corr()"
      ],
      "execution_count": 12,
      "outputs": [
        {
          "output_type": "execute_result",
          "data": {
            "text/html": [
              "<div>\n",
              "<style scoped>\n",
              "    .dataframe tbody tr th:only-of-type {\n",
              "        vertical-align: middle;\n",
              "    }\n",
              "\n",
              "    .dataframe tbody tr th {\n",
              "        vertical-align: top;\n",
              "    }\n",
              "\n",
              "    .dataframe thead th {\n",
              "        text-align: right;\n",
              "    }\n",
              "</style>\n",
              "<table border=\"1\" class=\"dataframe\">\n",
              "  <thead>\n",
              "    <tr style=\"text-align: right;\">\n",
              "      <th></th>\n",
              "      <th>acousticness</th>\n",
              "      <th>danceability</th>\n",
              "      <th>duration_ms</th>\n",
              "      <th>energy</th>\n",
              "      <th>explicit</th>\n",
              "      <th>instrumentalness</th>\n",
              "      <th>key</th>\n",
              "      <th>liveness</th>\n",
              "      <th>loudness</th>\n",
              "      <th>mode</th>\n",
              "      <th>popularity</th>\n",
              "      <th>speechiness</th>\n",
              "      <th>tempo</th>\n",
              "      <th>valence</th>\n",
              "    </tr>\n",
              "  </thead>\n",
              "  <tbody>\n",
              "    <tr>\n",
              "      <th>acousticness</th>\n",
              "      <td>1.000000</td>\n",
              "      <td>-0.263217</td>\n",
              "      <td>-0.089169</td>\n",
              "      <td>-0.750852</td>\n",
              "      <td>-0.208176</td>\n",
              "      <td>0.221956</td>\n",
              "      <td>-0.028028</td>\n",
              "      <td>-0.029654</td>\n",
              "      <td>-0.546639</td>\n",
              "      <td>0.064633</td>\n",
              "      <td>-0.396744</td>\n",
              "      <td>-0.022437</td>\n",
              "      <td>-0.223840</td>\n",
              "      <td>-0.166968</td>\n",
              "    </tr>\n",
              "    <tr>\n",
              "      <th>danceability</th>\n",
              "      <td>-0.263217</td>\n",
              "      <td>1.000000</td>\n",
              "      <td>-0.100757</td>\n",
              "      <td>0.204838</td>\n",
              "      <td>0.200842</td>\n",
              "      <td>-0.215589</td>\n",
              "      <td>0.026266</td>\n",
              "      <td>-0.110033</td>\n",
              "      <td>0.249541</td>\n",
              "      <td>-0.048358</td>\n",
              "      <td>0.123746</td>\n",
              "      <td>0.239962</td>\n",
              "      <td>0.005479</td>\n",
              "      <td>0.536713</td>\n",
              "    </tr>\n",
              "    <tr>\n",
              "      <th>duration_ms</th>\n",
              "      <td>-0.089169</td>\n",
              "      <td>-0.100757</td>\n",
              "      <td>1.000000</td>\n",
              "      <td>0.060516</td>\n",
              "      <td>-0.033808</td>\n",
              "      <td>0.103621</td>\n",
              "      <td>0.002020</td>\n",
              "      <td>0.028942</td>\n",
              "      <td>0.019791</td>\n",
              "      <td>-0.046849</td>\n",
              "      <td>0.024717</td>\n",
              "      <td>-0.097838</td>\n",
              "      <td>-0.008182</td>\n",
              "      <td>-0.183199</td>\n",
              "    </tr>\n",
              "    <tr>\n",
              "      <th>energy</th>\n",
              "      <td>-0.750852</td>\n",
              "      <td>0.204838</td>\n",
              "      <td>0.060516</td>\n",
              "      <td>1.000000</td>\n",
              "      <td>0.102561</td>\n",
              "      <td>-0.177750</td>\n",
              "      <td>0.035780</td>\n",
              "      <td>0.134815</td>\n",
              "      <td>0.779267</td>\n",
              "      <td>-0.056160</td>\n",
              "      <td>0.328939</td>\n",
              "      <td>-0.112616</td>\n",
              "      <td>0.266448</td>\n",
              "      <td>0.326418</td>\n",
              "    </tr>\n",
              "    <tr>\n",
              "      <th>explicit</th>\n",
              "      <td>-0.208176</td>\n",
              "      <td>0.200842</td>\n",
              "      <td>-0.033808</td>\n",
              "      <td>0.102561</td>\n",
              "      <td>1.000000</td>\n",
              "      <td>-0.130609</td>\n",
              "      <td>0.005282</td>\n",
              "      <td>0.037288</td>\n",
              "      <td>0.106249</td>\n",
              "      <td>-0.062503</td>\n",
              "      <td>0.152545</td>\n",
              "      <td>0.353872</td>\n",
              "      <td>0.008075</td>\n",
              "      <td>-0.009275</td>\n",
              "    </tr>\n",
              "    <tr>\n",
              "      <th>instrumentalness</th>\n",
              "      <td>0.221956</td>\n",
              "      <td>-0.215589</td>\n",
              "      <td>0.103621</td>\n",
              "      <td>-0.177750</td>\n",
              "      <td>-0.130609</td>\n",
              "      <td>1.000000</td>\n",
              "      <td>-0.004619</td>\n",
              "      <td>-0.047941</td>\n",
              "      <td>-0.317562</td>\n",
              "      <td>-0.056731</td>\n",
              "      <td>-0.300625</td>\n",
              "      <td>-0.133966</td>\n",
              "      <td>-0.068656</td>\n",
              "      <td>-0.219188</td>\n",
              "    </tr>\n",
              "    <tr>\n",
              "      <th>key</th>\n",
              "      <td>-0.028028</td>\n",
              "      <td>0.026266</td>\n",
              "      <td>0.002020</td>\n",
              "      <td>0.035780</td>\n",
              "      <td>0.005282</td>\n",
              "      <td>-0.004619</td>\n",
              "      <td>1.000000</td>\n",
              "      <td>-0.003368</td>\n",
              "      <td>0.025227</td>\n",
              "      <td>-0.127397</td>\n",
              "      <td>0.001951</td>\n",
              "      <td>0.009648</td>\n",
              "      <td>0.005009</td>\n",
              "      <td>0.025592</td>\n",
              "    </tr>\n",
              "    <tr>\n",
              "      <th>liveness</th>\n",
              "      <td>-0.029654</td>\n",
              "      <td>-0.110033</td>\n",
              "      <td>0.028942</td>\n",
              "      <td>0.134815</td>\n",
              "      <td>0.037288</td>\n",
              "      <td>-0.047941</td>\n",
              "      <td>-0.003368</td>\n",
              "      <td>1.000000</td>\n",
              "      <td>0.062695</td>\n",
              "      <td>0.001677</td>\n",
              "      <td>-0.078959</td>\n",
              "      <td>0.122034</td>\n",
              "      <td>0.008586</td>\n",
              "      <td>-0.005781</td>\n",
              "    </tr>\n",
              "    <tr>\n",
              "      <th>loudness</th>\n",
              "      <td>-0.546639</td>\n",
              "      <td>0.249541</td>\n",
              "      <td>0.019791</td>\n",
              "      <td>0.779267</td>\n",
              "      <td>0.106249</td>\n",
              "      <td>-0.317562</td>\n",
              "      <td>0.025227</td>\n",
              "      <td>0.062695</td>\n",
              "      <td>1.000000</td>\n",
              "      <td>-0.019250</td>\n",
              "      <td>0.337194</td>\n",
              "      <td>-0.213504</td>\n",
              "      <td>0.217914</td>\n",
              "      <td>0.302520</td>\n",
              "    </tr>\n",
              "    <tr>\n",
              "      <th>mode</th>\n",
              "      <td>0.064633</td>\n",
              "      <td>-0.048358</td>\n",
              "      <td>-0.046849</td>\n",
              "      <td>-0.056160</td>\n",
              "      <td>-0.062503</td>\n",
              "      <td>-0.056731</td>\n",
              "      <td>-0.127397</td>\n",
              "      <td>0.001677</td>\n",
              "      <td>-0.019250</td>\n",
              "      <td>1.000000</td>\n",
              "      <td>0.007652</td>\n",
              "      <td>-0.040711</td>\n",
              "      <td>0.002438</td>\n",
              "      <td>0.021592</td>\n",
              "    </tr>\n",
              "    <tr>\n",
              "      <th>popularity</th>\n",
              "      <td>-0.396744</td>\n",
              "      <td>0.123746</td>\n",
              "      <td>0.024717</td>\n",
              "      <td>0.328939</td>\n",
              "      <td>0.152545</td>\n",
              "      <td>-0.300625</td>\n",
              "      <td>0.001951</td>\n",
              "      <td>-0.078959</td>\n",
              "      <td>0.337194</td>\n",
              "      <td>0.007652</td>\n",
              "      <td>1.000000</td>\n",
              "      <td>-0.195329</td>\n",
              "      <td>0.094985</td>\n",
              "      <td>0.063471</td>\n",
              "    </tr>\n",
              "    <tr>\n",
              "      <th>speechiness</th>\n",
              "      <td>-0.022437</td>\n",
              "      <td>0.239962</td>\n",
              "      <td>-0.097838</td>\n",
              "      <td>-0.112616</td>\n",
              "      <td>0.353872</td>\n",
              "      <td>-0.133966</td>\n",
              "      <td>0.009648</td>\n",
              "      <td>0.122034</td>\n",
              "      <td>-0.213504</td>\n",
              "      <td>-0.040711</td>\n",
              "      <td>-0.195329</td>\n",
              "      <td>1.000000</td>\n",
              "      <td>-0.033530</td>\n",
              "      <td>0.050600</td>\n",
              "    </tr>\n",
              "    <tr>\n",
              "      <th>tempo</th>\n",
              "      <td>-0.223840</td>\n",
              "      <td>0.005479</td>\n",
              "      <td>-0.008182</td>\n",
              "      <td>0.266448</td>\n",
              "      <td>0.008075</td>\n",
              "      <td>-0.068656</td>\n",
              "      <td>0.005009</td>\n",
              "      <td>0.008586</td>\n",
              "      <td>0.217914</td>\n",
              "      <td>0.002438</td>\n",
              "      <td>0.094985</td>\n",
              "      <td>-0.033530</td>\n",
              "      <td>1.000000</td>\n",
              "      <td>0.163118</td>\n",
              "    </tr>\n",
              "    <tr>\n",
              "      <th>valence</th>\n",
              "      <td>-0.166968</td>\n",
              "      <td>0.536713</td>\n",
              "      <td>-0.183199</td>\n",
              "      <td>0.326418</td>\n",
              "      <td>-0.009275</td>\n",
              "      <td>-0.219188</td>\n",
              "      <td>0.025592</td>\n",
              "      <td>-0.005781</td>\n",
              "      <td>0.302520</td>\n",
              "      <td>0.021592</td>\n",
              "      <td>0.063471</td>\n",
              "      <td>0.050600</td>\n",
              "      <td>0.163118</td>\n",
              "      <td>1.000000</td>\n",
              "    </tr>\n",
              "  </tbody>\n",
              "</table>\n",
              "</div>"
            ],
            "text/plain": [
              "                  acousticness  danceability  ...     tempo   valence\n",
              "acousticness          1.000000     -0.263217  ... -0.223840 -0.166968\n",
              "danceability         -0.263217      1.000000  ...  0.005479  0.536713\n",
              "duration_ms          -0.089169     -0.100757  ... -0.008182 -0.183199\n",
              "energy               -0.750852      0.204838  ...  0.266448  0.326418\n",
              "explicit             -0.208176      0.200842  ...  0.008075 -0.009275\n",
              "instrumentalness      0.221956     -0.215589  ... -0.068656 -0.219188\n",
              "key                  -0.028028      0.026266  ...  0.005009  0.025592\n",
              "liveness             -0.029654     -0.110033  ...  0.008586 -0.005781\n",
              "loudness             -0.546639      0.249541  ...  0.217914  0.302520\n",
              "mode                  0.064633     -0.048358  ...  0.002438  0.021592\n",
              "popularity           -0.396744      0.123746  ...  0.094985  0.063471\n",
              "speechiness          -0.022437      0.239962  ... -0.033530  0.050600\n",
              "tempo                -0.223840      0.005479  ...  1.000000  0.163118\n",
              "valence              -0.166968      0.536713  ...  0.163118  1.000000\n",
              "\n",
              "[14 rows x 14 columns]"
            ]
          },
          "metadata": {
            "tags": []
          },
          "execution_count": 12
        }
      ]
    },
    {
      "cell_type": "code",
      "metadata": {
        "colab": {
          "base_uri": "https://localhost:8080/"
        },
        "id": "K1F4oio7xmBC",
        "outputId": "a7ede4ad-84c9-4b9f-853b-6893be9720b7"
      },
      "source": [
        "df.dtypes"
      ],
      "execution_count": 16,
      "outputs": [
        {
          "output_type": "execute_result",
          "data": {
            "text/plain": [
              "acousticness        float64\n",
              "danceability        float64\n",
              "duration_ms           int64\n",
              "energy              float64\n",
              "explicit              int64\n",
              "instrumentalness    float64\n",
              "key                   int64\n",
              "liveness            float64\n",
              "loudness            float64\n",
              "mode                  int64\n",
              "popularity            int64\n",
              "speechiness         float64\n",
              "tempo               float64\n",
              "valence             float64\n",
              "dtype: object"
            ]
          },
          "metadata": {
            "tags": []
          },
          "execution_count": 16
        }
      ]
    },
    {
      "cell_type": "code",
      "metadata": {
        "id": "RBR_Ah34xzVn"
      },
      "source": [
        "from sklearn.preprocessing import MinMaxScaler , StandardScaler"
      ],
      "execution_count": 14,
      "outputs": []
    },
    {
      "cell_type": "code",
      "metadata": {
        "id": "2-i1I5sqx_hO"
      },
      "source": [
        "minmax =MinMaxScaler()\n",
        "x=minmax.fit_transform(df)"
      ],
      "execution_count": 18,
      "outputs": []
    },
    {
      "cell_type": "code",
      "metadata": {
        "colab": {
          "base_uri": "https://localhost:8080/"
        },
        "id": "shyQiZ91ydLG",
        "outputId": "771100ff-179c-457d-c384-1075d2005261"
      },
      "source": [
        "x"
      ],
      "execution_count": 20,
      "outputs": [
        {
          "output_type": "execute_result",
          "data": {
            "text/plain": [
              "array([[0.99497992, 0.60526316, 0.03063657, ..., 0.09639547, 0.61590016,\n",
              "        0.634     ],\n",
              "       [0.64558233, 0.86234818, 0.02723665, ..., 0.05499485, 0.35682342,\n",
              "        0.95      ],\n",
              "       [0.99698795, 0.6548583 , 0.0297917 , ..., 0.1791967 , 0.40080983,\n",
              "        0.689     ],\n",
              "       ...,\n",
              "       [0.80923695, 0.6791498 , 0.03997664, ..., 0.02904222, 0.44375726,\n",
              "        0.714     ],\n",
              "       [0.92369478, 0.46761134, 0.04482405, ..., 0.03882595, 0.70354856,\n",
              "        0.32      ],\n",
              "       [0.23995984, 0.68522267, 0.03614472, ..., 0.02657055, 0.46079989,\n",
              "        0.747     ]])"
            ]
          },
          "metadata": {
            "tags": []
          },
          "execution_count": 20
        }
      ]
    },
    {
      "cell_type": "code",
      "metadata": {
        "id": "pjyw_30OysNM"
      },
      "source": [
        "from sklearn.cluster import KMeans\n",
        "kmeans=KMeans(10)\n",
        "features=kmeans.fit_predict(x)\n"
      ],
      "execution_count": 21,
      "outputs": []
    },
    {
      "cell_type": "code",
      "metadata": {
        "id": "rAKpvHF20HrJ"
      },
      "source": [
        "labels=kmeans.labels_"
      ],
      "execution_count": 22,
      "outputs": []
    },
    {
      "cell_type": "code",
      "metadata": {
        "colab": {
          "base_uri": "https://localhost:8080/"
        },
        "id": "iJZGFocj2PlR",
        "outputId": "60acbdb9-0b14-44ae-ffe3-c6017d76d516"
      },
      "source": [
        "labels"
      ],
      "execution_count": 23,
      "outputs": [
        {
          "output_type": "execute_result",
          "data": {
            "text/plain": [
              "array([3, 3, 1, ..., 8, 6, 9], dtype=int32)"
            ]
          },
          "metadata": {
            "tags": []
          },
          "execution_count": 23
        }
      ]
    },
    {
      "cell_type": "code",
      "metadata": {
        "id": "4NW7tEwB2SJ5"
      },
      "source": [
        "data['features']=features"
      ],
      "execution_count": 24,
      "outputs": []
    },
    {
      "cell_type": "code",
      "metadata": {
        "colab": {
          "base_uri": "https://localhost:8080/"
        },
        "id": "etWyoAoG28Fo",
        "outputId": "1517a598-dfdd-4f30-c83f-e44e6b370533"
      },
      "source": [
        "features"
      ],
      "execution_count": 25,
      "outputs": [
        {
          "output_type": "execute_result",
          "data": {
            "text/plain": [
              "array([3, 3, 1, ..., 8, 6, 9], dtype=int32)"
            ]
          },
          "metadata": {
            "tags": []
          },
          "execution_count": 25
        }
      ]
    },
    {
      "cell_type": "code",
      "metadata": {
        "colab": {
          "base_uri": "https://localhost:8080/"
        },
        "id": "ZOwoF4PT29yb",
        "outputId": "92543683-8831-4843-b1e0-f4c72583617b"
      },
      "source": [
        "MinMaxScaler(data['features'])"
      ],
      "execution_count": 26,
      "outputs": [
        {
          "output_type": "execute_result",
          "data": {
            "text/plain": [
              "MinMaxScaler(copy=True,\n",
              "             feature_range=0         3\n",
              "1         3\n",
              "2         1\n",
              "3         9\n",
              "4         6\n",
              "         ..\n",
              "174384    4\n",
              "174385    1\n",
              "174386    8\n",
              "174387    6\n",
              "174388    9\n",
              "Name: features, Length: 174389, dtype: int32)"
            ]
          },
          "metadata": {
            "tags": []
          },
          "execution_count": 26
        }
      ]
    },
    {
      "cell_type": "code",
      "metadata": {
        "colab": {
          "base_uri": "https://localhost:8080/",
          "height": 478
        },
        "id": "FdRp-sEj3Ejq",
        "outputId": "8e045c0d-4038-4c18-ebdd-161212a167c6"
      },
      "source": [
        "class Spotify_Recommendation():\n",
        "    def __init__(self, dataset):\n",
        "        self.dataset = dataset\n",
        "    def recommend(self, songs, amount=1):\n",
        "        distance = []\n",
        "        song = self.dataset[(self.dataset.name.str.lower() == songs.lower())].head(1).values[0]\n",
        "        rec = self.dataset[self.dataset.name.str.lower() != songs.lower()]\n",
        "        for songs in tqdm(rec.values):\n",
        "            d = 0\n",
        "            for col in np.arange(len(rec.columns)):\n",
        "                if not col in [1, 6, 12, 14, 18]:\n",
        "                    d = d + np.absolute(float(song[col]) - float(songs[col]))\n",
        "            distance.append(d)\n",
        "        rec['distance'] = distance\n",
        "        rec = rec.sort_values('distance')\n",
        "        columns = ['artists', 'name']\n",
        "        return rec[columns][:amount]\n",
        "\n",
        "recommendations = Spotify_Recommendation(data)\n",
        "recommendations.recommend(\"Lovers Rock\", 10)"
      ],
      "execution_count": 34,
      "outputs": [
        {
          "output_type": "stream",
          "text": [
            "100%|██████████| 174387/174387 [00:14<00:00, 11890.79it/s]\n",
            "/usr/local/lib/python3.7/dist-packages/ipykernel_launcher.py:14: SettingWithCopyWarning: \n",
            "A value is trying to be set on a copy of a slice from a DataFrame.\n",
            "Try using .loc[row_indexer,col_indexer] = value instead\n",
            "\n",
            "See the caveats in the documentation: https://pandas.pydata.org/pandas-docs/stable/user_guide/indexing.html#returning-a-view-versus-a-copy\n",
            "  \n"
          ],
          "name": "stderr"
        },
        {
          "output_type": "execute_result",
          "data": {
            "text/html": [
              "<div>\n",
              "<style scoped>\n",
              "    .dataframe tbody tr th:only-of-type {\n",
              "        vertical-align: middle;\n",
              "    }\n",
              "\n",
              "    .dataframe tbody tr th {\n",
              "        vertical-align: top;\n",
              "    }\n",
              "\n",
              "    .dataframe thead th {\n",
              "        text-align: right;\n",
              "    }\n",
              "</style>\n",
              "<table border=\"1\" class=\"dataframe\">\n",
              "  <thead>\n",
              "    <tr style=\"text-align: right;\">\n",
              "      <th></th>\n",
              "      <th>artists</th>\n",
              "      <th>name</th>\n",
              "    </tr>\n",
              "  </thead>\n",
              "  <tbody>\n",
              "    <tr>\n",
              "      <th>103171</th>\n",
              "      <td>['Barão Vermelho']</td>\n",
              "      <td>Bete Balanço</td>\n",
              "    </tr>\n",
              "    <tr>\n",
              "      <th>55318</th>\n",
              "      <td>['Shinedown']</td>\n",
              "      <td>Save Me</td>\n",
              "    </tr>\n",
              "    <tr>\n",
              "      <th>16385</th>\n",
              "      <td>['O-Zone']</td>\n",
              "      <td>Dragostea Din Tei</td>\n",
              "    </tr>\n",
              "    <tr>\n",
              "      <th>11168</th>\n",
              "      <td>['Bob Marley &amp; The Wailers']</td>\n",
              "      <td>Positive Vibration</td>\n",
              "    </tr>\n",
              "    <tr>\n",
              "      <th>158441</th>\n",
              "      <td>[\"Olivia O'Brien\"]</td>\n",
              "      <td>Love Myself</td>\n",
              "    </tr>\n",
              "    <tr>\n",
              "      <th>54226</th>\n",
              "      <td>['Naughty By Nature', 'Zhané']</td>\n",
              "      <td>Jamboree (feat. Zhané)</td>\n",
              "    </tr>\n",
              "    <tr>\n",
              "      <th>107163</th>\n",
              "      <td>['Britney Spears']</td>\n",
              "      <td>My Prerogative</td>\n",
              "    </tr>\n",
              "    <tr>\n",
              "      <th>35098</th>\n",
              "      <td>['Los Askis']</td>\n",
              "      <td>¡Ay! El Amor</td>\n",
              "    </tr>\n",
              "    <tr>\n",
              "      <th>85047</th>\n",
              "      <td>['The Outlaws']</td>\n",
              "      <td>Song For You</td>\n",
              "    </tr>\n",
              "    <tr>\n",
              "      <th>154257</th>\n",
              "      <td>['Pavement']</td>\n",
              "      <td>Blue Hawaiian</td>\n",
              "    </tr>\n",
              "  </tbody>\n",
              "</table>\n",
              "</div>"
            ],
            "text/plain": [
              "                               artists                    name\n",
              "103171              ['Barão Vermelho']            Bete Balanço\n",
              "55318                    ['Shinedown']                 Save Me\n",
              "16385                       ['O-Zone']       Dragostea Din Tei\n",
              "11168     ['Bob Marley & The Wailers']      Positive Vibration\n",
              "158441              [\"Olivia O'Brien\"]             Love Myself\n",
              "54226   ['Naughty By Nature', 'Zhané']  Jamboree (feat. Zhané)\n",
              "107163              ['Britney Spears']          My Prerogative\n",
              "35098                    ['Los Askis']            ¡Ay! El Amor\n",
              "85047                  ['The Outlaws']            Song For You\n",
              "154257                    ['Pavement']           Blue Hawaiian"
            ]
          },
          "metadata": {
            "tags": []
          },
          "execution_count": 34
        }
      ]
    },
    {
      "cell_type": "code",
      "metadata": {
        "id": "l9sC8ysr5sOo"
      },
      "source": [
        ""
      ],
      "execution_count": null,
      "outputs": []
    }
  ]
}