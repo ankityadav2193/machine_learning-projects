{
  "nbformat": 4,
  "nbformat_minor": 0,
  "metadata": {
    "colab": {
      "name": "filght_price_prediction.ipynb",
      "provenance": [],
      "collapsed_sections": [],
      "authorship_tag": "ABX9TyNpiDg7HQctHOldAt7bj+oR",
      "include_colab_link": true
    },
    "kernelspec": {
      "display_name": "Python 3",
      "name": "python3"
    }
  },
  "cells": [
    {
      "cell_type": "markdown",
      "metadata": {
        "id": "view-in-github",
        "colab_type": "text"
      },
      "source": [
        "<a href=\"https://colab.research.google.com/github/ankityadav2193/machine_learning-projects/blob/main/filght_price_prediction.ipynb\" target=\"_parent\"><img src=\"https://colab.research.google.com/assets/colab-badge.svg\" alt=\"Open In Colab\"/></a>"
      ]
    },
    {
      "cell_type": "markdown",
      "metadata": {
        "id": "xmFqv9ZxPhf7"
      },
      "source": [
        "## flight price prediction"
      ]
    },
    {
      "cell_type": "markdown",
      "metadata": {
        "id": "GH04cAiPPr09"
      },
      "source": [
        "## import some important libraries"
      ]
    },
    {
      "cell_type": "code",
      "metadata": {
        "id": "MogBwxQhP19x"
      },
      "source": [
        "import pandas as pd\r\n",
        "import numpy as np\r\n",
        "import seaborn as sns\r\n",
        "import matplotlib.pyplot as plt\r\n",
        "%matplotlib inline"
      ],
      "execution_count": 1104,
      "outputs": []
    },
    {
      "cell_type": "code",
      "metadata": {
        "id": "FY3dl-oDQaxi"
      },
      "source": [
        "## after importing some libraries than we import and read the data by pd.read_excel because the dataset in in excel format"
      ],
      "execution_count": 1105,
      "outputs": []
    },
    {
      "cell_type": "code",
      "metadata": {
        "id": "SQGRmBmVRJ6_"
      },
      "source": [
        "train_data = pd.read_excel('/Data_Train.xlsx')"
      ],
      "execution_count": 1106,
      "outputs": []
    },
    {
      "cell_type": "code",
      "metadata": {
        "colab": {
          "base_uri": "https://localhost:8080/",
          "height": 238
        },
        "id": "rDi1VcgVRSMc",
        "outputId": "24d97a98-b880-4c4a-f50a-7e8459c65409"
      },
      "source": [
        "train_data.head()"
      ],
      "execution_count": 1107,
      "outputs": [
        {
          "output_type": "execute_result",
          "data": {
            "text/html": [
              "<div>\n",
              "<style scoped>\n",
              "    .dataframe tbody tr th:only-of-type {\n",
              "        vertical-align: middle;\n",
              "    }\n",
              "\n",
              "    .dataframe tbody tr th {\n",
              "        vertical-align: top;\n",
              "    }\n",
              "\n",
              "    .dataframe thead th {\n",
              "        text-align: right;\n",
              "    }\n",
              "</style>\n",
              "<table border=\"1\" class=\"dataframe\">\n",
              "  <thead>\n",
              "    <tr style=\"text-align: right;\">\n",
              "      <th></th>\n",
              "      <th>Airline</th>\n",
              "      <th>Date_of_Journey</th>\n",
              "      <th>Source</th>\n",
              "      <th>Destination</th>\n",
              "      <th>Route</th>\n",
              "      <th>Dep_Time</th>\n",
              "      <th>Arrival_Time</th>\n",
              "      <th>Duration</th>\n",
              "      <th>Total_Stops</th>\n",
              "      <th>Additional_Info</th>\n",
              "      <th>Price</th>\n",
              "    </tr>\n",
              "  </thead>\n",
              "  <tbody>\n",
              "    <tr>\n",
              "      <th>0</th>\n",
              "      <td>IndiGo</td>\n",
              "      <td>24/03/2019</td>\n",
              "      <td>Banglore</td>\n",
              "      <td>New Delhi</td>\n",
              "      <td>BLR → DEL</td>\n",
              "      <td>22:20</td>\n",
              "      <td>01:10 22 Mar</td>\n",
              "      <td>2h 50m</td>\n",
              "      <td>non-stop</td>\n",
              "      <td>No info</td>\n",
              "      <td>3897</td>\n",
              "    </tr>\n",
              "    <tr>\n",
              "      <th>1</th>\n",
              "      <td>Air India</td>\n",
              "      <td>1/05/2019</td>\n",
              "      <td>Kolkata</td>\n",
              "      <td>Banglore</td>\n",
              "      <td>CCU → IXR → BBI → BLR</td>\n",
              "      <td>05:50</td>\n",
              "      <td>13:15</td>\n",
              "      <td>7h 25m</td>\n",
              "      <td>2 stops</td>\n",
              "      <td>No info</td>\n",
              "      <td>7662</td>\n",
              "    </tr>\n",
              "    <tr>\n",
              "      <th>2</th>\n",
              "      <td>Jet Airways</td>\n",
              "      <td>9/06/2019</td>\n",
              "      <td>Delhi</td>\n",
              "      <td>Cochin</td>\n",
              "      <td>DEL → LKO → BOM → COK</td>\n",
              "      <td>09:25</td>\n",
              "      <td>04:25 10 Jun</td>\n",
              "      <td>19h</td>\n",
              "      <td>2 stops</td>\n",
              "      <td>No info</td>\n",
              "      <td>13882</td>\n",
              "    </tr>\n",
              "    <tr>\n",
              "      <th>3</th>\n",
              "      <td>IndiGo</td>\n",
              "      <td>12/05/2019</td>\n",
              "      <td>Kolkata</td>\n",
              "      <td>Banglore</td>\n",
              "      <td>CCU → NAG → BLR</td>\n",
              "      <td>18:05</td>\n",
              "      <td>23:30</td>\n",
              "      <td>5h 25m</td>\n",
              "      <td>1 stop</td>\n",
              "      <td>No info</td>\n",
              "      <td>6218</td>\n",
              "    </tr>\n",
              "    <tr>\n",
              "      <th>4</th>\n",
              "      <td>IndiGo</td>\n",
              "      <td>01/03/2019</td>\n",
              "      <td>Banglore</td>\n",
              "      <td>New Delhi</td>\n",
              "      <td>BLR → NAG → DEL</td>\n",
              "      <td>16:50</td>\n",
              "      <td>21:35</td>\n",
              "      <td>4h 45m</td>\n",
              "      <td>1 stop</td>\n",
              "      <td>No info</td>\n",
              "      <td>13302</td>\n",
              "    </tr>\n",
              "  </tbody>\n",
              "</table>\n",
              "</div>"
            ],
            "text/plain": [
              "       Airline Date_of_Journey    Source  ... Total_Stops Additional_Info  Price\n",
              "0       IndiGo      24/03/2019  Banglore  ...    non-stop         No info   3897\n",
              "1    Air India       1/05/2019   Kolkata  ...     2 stops         No info   7662\n",
              "2  Jet Airways       9/06/2019     Delhi  ...     2 stops         No info  13882\n",
              "3       IndiGo      12/05/2019   Kolkata  ...      1 stop         No info   6218\n",
              "4       IndiGo      01/03/2019  Banglore  ...      1 stop         No info  13302\n",
              "\n",
              "[5 rows x 11 columns]"
            ]
          },
          "metadata": {
            "tags": []
          },
          "execution_count": 1107
        }
      ]
    },
    {
      "cell_type": "code",
      "metadata": {
        "colab": {
          "base_uri": "https://localhost:8080/"
        },
        "id": "CgRsIp9nRYYz",
        "outputId": "608e610a-73dd-455c-a44e-01f2ae943e49"
      },
      "source": [
        "train_data.shape"
      ],
      "execution_count": 1108,
      "outputs": [
        {
          "output_type": "execute_result",
          "data": {
            "text/plain": [
              "(10683, 11)"
            ]
          },
          "metadata": {
            "tags": []
          },
          "execution_count": 1108
        }
      ]
    },
    {
      "cell_type": "code",
      "metadata": {
        "colab": {
          "base_uri": "https://localhost:8080/"
        },
        "id": "zNPaGNqmRghT",
        "outputId": "2befa9fc-36b9-416e-a2d2-6895391a660b"
      },
      "source": [
        "train_data.info()"
      ],
      "execution_count": 1109,
      "outputs": [
        {
          "output_type": "stream",
          "text": [
            "<class 'pandas.core.frame.DataFrame'>\n",
            "RangeIndex: 10683 entries, 0 to 10682\n",
            "Data columns (total 11 columns):\n",
            " #   Column           Non-Null Count  Dtype \n",
            "---  ------           --------------  ----- \n",
            " 0   Airline          10683 non-null  object\n",
            " 1   Date_of_Journey  10683 non-null  object\n",
            " 2   Source           10683 non-null  object\n",
            " 3   Destination      10683 non-null  object\n",
            " 4   Route            10682 non-null  object\n",
            " 5   Dep_Time         10683 non-null  object\n",
            " 6   Arrival_Time     10683 non-null  object\n",
            " 7   Duration         10683 non-null  object\n",
            " 8   Total_Stops      10682 non-null  object\n",
            " 9   Additional_Info  10683 non-null  object\n",
            " 10  Price            10683 non-null  int64 \n",
            "dtypes: int64(1), object(10)\n",
            "memory usage: 918.2+ KB\n"
          ],
          "name": "stdout"
        }
      ]
    },
    {
      "cell_type": "code",
      "metadata": {
        "colab": {
          "base_uri": "https://localhost:8080/"
        },
        "id": "EeDgQZtDRydh",
        "outputId": "e87140eb-425d-4ae4-d914-0281576273b6"
      },
      "source": [
        "train_data.isnull().sum()"
      ],
      "execution_count": 1110,
      "outputs": [
        {
          "output_type": "execute_result",
          "data": {
            "text/plain": [
              "Airline            0\n",
              "Date_of_Journey    0\n",
              "Source             0\n",
              "Destination        0\n",
              "Route              1\n",
              "Dep_Time           0\n",
              "Arrival_Time       0\n",
              "Duration           0\n",
              "Total_Stops        1\n",
              "Additional_Info    0\n",
              "Price              0\n",
              "dtype: int64"
            ]
          },
          "metadata": {
            "tags": []
          },
          "execution_count": 1110
        }
      ]
    },
    {
      "cell_type": "code",
      "metadata": {
        "colab": {
          "base_uri": "https://localhost:8080/"
        },
        "id": "um3YqhbbRlZH",
        "outputId": "cc8dcaba-6818-4dd3-f103-cd74dca5f98a"
      },
      "source": [
        "train_data.columns"
      ],
      "execution_count": 1111,
      "outputs": [
        {
          "output_type": "execute_result",
          "data": {
            "text/plain": [
              "Index(['Airline', 'Date_of_Journey', 'Source', 'Destination', 'Route',\n",
              "       'Dep_Time', 'Arrival_Time', 'Duration', 'Total_Stops',\n",
              "       'Additional_Info', 'Price'],\n",
              "      dtype='object')"
            ]
          },
          "metadata": {
            "tags": []
          },
          "execution_count": 1111
        }
      ]
    },
    {
      "cell_type": "code",
      "metadata": {
        "colab": {
          "base_uri": "https://localhost:8080/"
        },
        "id": "mVfh9u9VShOH",
        "outputId": "1db75556-b4fc-4d7f-8b33-dac565cf1b8a"
      },
      "source": [
        "train_data[\"Duration\"].value_counts()"
      ],
      "execution_count": 1112,
      "outputs": [
        {
          "output_type": "execute_result",
          "data": {
            "text/plain": [
              "2h 50m     550\n",
              "1h 30m     386\n",
              "2h 45m     337\n",
              "2h 55m     337\n",
              "2h 35m     329\n",
              "          ... \n",
              "29h 40m      1\n",
              "36h 25m      1\n",
              "31h 50m      1\n",
              "29h 10m      1\n",
              "28h 30m      1\n",
              "Name: Duration, Length: 368, dtype: int64"
            ]
          },
          "metadata": {
            "tags": []
          },
          "execution_count": 1112
        }
      ]
    },
    {
      "cell_type": "code",
      "metadata": {
        "id": "X-fromjQSxqi"
      },
      "source": [
        "train_data.dropna(inplace=True)"
      ],
      "execution_count": 1113,
      "outputs": []
    },
    {
      "cell_type": "code",
      "metadata": {
        "colab": {
          "base_uri": "https://localhost:8080/"
        },
        "id": "iWEmhYMGTXyj",
        "outputId": "5d30f9dc-79d4-4231-e480-bac4de90125b"
      },
      "source": [
        "train_data.isnull().sum()"
      ],
      "execution_count": 1114,
      "outputs": [
        {
          "output_type": "execute_result",
          "data": {
            "text/plain": [
              "Airline            0\n",
              "Date_of_Journey    0\n",
              "Source             0\n",
              "Destination        0\n",
              "Route              0\n",
              "Dep_Time           0\n",
              "Arrival_Time       0\n",
              "Duration           0\n",
              "Total_Stops        0\n",
              "Additional_Info    0\n",
              "Price              0\n",
              "dtype: int64"
            ]
          },
          "metadata": {
            "tags": []
          },
          "execution_count": 1114
        }
      ]
    },
    {
      "cell_type": "code",
      "metadata": {
        "colab": {
          "base_uri": "https://localhost:8080/"
        },
        "id": "Yaj6WwSRTeYA",
        "outputId": "073bc7fa-3aff-4d2f-d663-7408f76e0a50"
      },
      "source": [
        "train_data.shape"
      ],
      "execution_count": 1115,
      "outputs": [
        {
          "output_type": "execute_result",
          "data": {
            "text/plain": [
              "(10682, 11)"
            ]
          },
          "metadata": {
            "tags": []
          },
          "execution_count": 1115
        }
      ]
    },
    {
      "cell_type": "code",
      "metadata": {
        "id": "S9QzvDlSTw-U"
      },
      "source": [
        "##Exploratory Data Analysis.\r\n"
      ],
      "execution_count": 1116,
      "outputs": []
    },
    {
      "cell_type": "code",
      "metadata": {
        "id": "KxmhFVdLUM0i"
      },
      "source": [
        "train_data[\"Journey_day\"]=pd.to_datetime(train_data.Date_of_Journey, format=\"%d/%m/%Y\").dt.day\r\n",
        "train_data[\"Journey_month\"]=pd.to_datetime(train_data.Date_of_Journey, format=\"%d/%m/%Y\").dt.month\r\n",
        "\r\n"
      ],
      "execution_count": 1117,
      "outputs": []
    },
    {
      "cell_type": "code",
      "metadata": {
        "colab": {
          "base_uri": "https://localhost:8080/",
          "height": 598
        },
        "id": "yNBqJ6OyVgAI",
        "outputId": "124354be-c8b2-46f9-bb30-fb96bb5bf702"
      },
      "source": [
        "train_data.head()"
      ],
      "execution_count": 1118,
      "outputs": [
        {
          "output_type": "execute_result",
          "data": {
            "text/html": [
              "<div>\n",
              "<style scoped>\n",
              "    .dataframe tbody tr th:only-of-type {\n",
              "        vertical-align: middle;\n",
              "    }\n",
              "\n",
              "    .dataframe tbody tr th {\n",
              "        vertical-align: top;\n",
              "    }\n",
              "\n",
              "    .dataframe thead th {\n",
              "        text-align: right;\n",
              "    }\n",
              "</style>\n",
              "<table border=\"1\" class=\"dataframe\">\n",
              "  <thead>\n",
              "    <tr style=\"text-align: right;\">\n",
              "      <th></th>\n",
              "      <th>Airline</th>\n",
              "      <th>Date_of_Journey</th>\n",
              "      <th>Source</th>\n",
              "      <th>Destination</th>\n",
              "      <th>Route</th>\n",
              "      <th>Dep_Time</th>\n",
              "      <th>Arrival_Time</th>\n",
              "      <th>Duration</th>\n",
              "      <th>Total_Stops</th>\n",
              "      <th>Additional_Info</th>\n",
              "      <th>Price</th>\n",
              "      <th>Journey_day</th>\n",
              "      <th>Journey_month</th>\n",
              "    </tr>\n",
              "  </thead>\n",
              "  <tbody>\n",
              "    <tr>\n",
              "      <th>0</th>\n",
              "      <td>IndiGo</td>\n",
              "      <td>24/03/2019</td>\n",
              "      <td>Banglore</td>\n",
              "      <td>New Delhi</td>\n",
              "      <td>BLR → DEL</td>\n",
              "      <td>22:20</td>\n",
              "      <td>01:10 22 Mar</td>\n",
              "      <td>2h 50m</td>\n",
              "      <td>non-stop</td>\n",
              "      <td>No info</td>\n",
              "      <td>3897</td>\n",
              "      <td>24</td>\n",
              "      <td>3</td>\n",
              "    </tr>\n",
              "    <tr>\n",
              "      <th>1</th>\n",
              "      <td>Air India</td>\n",
              "      <td>1/05/2019</td>\n",
              "      <td>Kolkata</td>\n",
              "      <td>Banglore</td>\n",
              "      <td>CCU → IXR → BBI → BLR</td>\n",
              "      <td>05:50</td>\n",
              "      <td>13:15</td>\n",
              "      <td>7h 25m</td>\n",
              "      <td>2 stops</td>\n",
              "      <td>No info</td>\n",
              "      <td>7662</td>\n",
              "      <td>1</td>\n",
              "      <td>5</td>\n",
              "    </tr>\n",
              "    <tr>\n",
              "      <th>2</th>\n",
              "      <td>Jet Airways</td>\n",
              "      <td>9/06/2019</td>\n",
              "      <td>Delhi</td>\n",
              "      <td>Cochin</td>\n",
              "      <td>DEL → LKO → BOM → COK</td>\n",
              "      <td>09:25</td>\n",
              "      <td>04:25 10 Jun</td>\n",
              "      <td>19h</td>\n",
              "      <td>2 stops</td>\n",
              "      <td>No info</td>\n",
              "      <td>13882</td>\n",
              "      <td>9</td>\n",
              "      <td>6</td>\n",
              "    </tr>\n",
              "    <tr>\n",
              "      <th>3</th>\n",
              "      <td>IndiGo</td>\n",
              "      <td>12/05/2019</td>\n",
              "      <td>Kolkata</td>\n",
              "      <td>Banglore</td>\n",
              "      <td>CCU → NAG → BLR</td>\n",
              "      <td>18:05</td>\n",
              "      <td>23:30</td>\n",
              "      <td>5h 25m</td>\n",
              "      <td>1 stop</td>\n",
              "      <td>No info</td>\n",
              "      <td>6218</td>\n",
              "      <td>12</td>\n",
              "      <td>5</td>\n",
              "    </tr>\n",
              "    <tr>\n",
              "      <th>4</th>\n",
              "      <td>IndiGo</td>\n",
              "      <td>01/03/2019</td>\n",
              "      <td>Banglore</td>\n",
              "      <td>New Delhi</td>\n",
              "      <td>BLR → NAG → DEL</td>\n",
              "      <td>16:50</td>\n",
              "      <td>21:35</td>\n",
              "      <td>4h 45m</td>\n",
              "      <td>1 stop</td>\n",
              "      <td>No info</td>\n",
              "      <td>13302</td>\n",
              "      <td>1</td>\n",
              "      <td>3</td>\n",
              "    </tr>\n",
              "  </tbody>\n",
              "</table>\n",
              "</div>"
            ],
            "text/plain": [
              "       Airline Date_of_Journey    Source  ...  Price Journey_day Journey_month\n",
              "0       IndiGo      24/03/2019  Banglore  ...   3897          24             3\n",
              "1    Air India       1/05/2019   Kolkata  ...   7662           1             5\n",
              "2  Jet Airways       9/06/2019     Delhi  ...  13882           9             6\n",
              "3       IndiGo      12/05/2019   Kolkata  ...   6218          12             5\n",
              "4       IndiGo      01/03/2019  Banglore  ...  13302           1             3\n",
              "\n",
              "[5 rows x 13 columns]"
            ]
          },
          "metadata": {
            "tags": []
          },
          "execution_count": 1118
        }
      ]
    },
    {
      "cell_type": "code",
      "metadata": {
        "id": "kElHBOq3WKSE"
      },
      "source": [
        "train_data.drop([\"Date_of_Journey\"], axis=1,inplace=True)"
      ],
      "execution_count": 1119,
      "outputs": []
    },
    {
      "cell_type": "code",
      "metadata": {
        "colab": {
          "base_uri": "https://localhost:8080/",
          "height": 391
        },
        "id": "S6lzW2r_Wi9O",
        "outputId": "e2ce4f3a-9a9f-4807-a233-1105960e6d27"
      },
      "source": [
        "train_data.head()"
      ],
      "execution_count": 1120,
      "outputs": [
        {
          "output_type": "execute_result",
          "data": {
            "text/html": [
              "<div>\n",
              "<style scoped>\n",
              "    .dataframe tbody tr th:only-of-type {\n",
              "        vertical-align: middle;\n",
              "    }\n",
              "\n",
              "    .dataframe tbody tr th {\n",
              "        vertical-align: top;\n",
              "    }\n",
              "\n",
              "    .dataframe thead th {\n",
              "        text-align: right;\n",
              "    }\n",
              "</style>\n",
              "<table border=\"1\" class=\"dataframe\">\n",
              "  <thead>\n",
              "    <tr style=\"text-align: right;\">\n",
              "      <th></th>\n",
              "      <th>Airline</th>\n",
              "      <th>Source</th>\n",
              "      <th>Destination</th>\n",
              "      <th>Route</th>\n",
              "      <th>Dep_Time</th>\n",
              "      <th>Arrival_Time</th>\n",
              "      <th>Duration</th>\n",
              "      <th>Total_Stops</th>\n",
              "      <th>Additional_Info</th>\n",
              "      <th>Price</th>\n",
              "      <th>Journey_day</th>\n",
              "      <th>Journey_month</th>\n",
              "    </tr>\n",
              "  </thead>\n",
              "  <tbody>\n",
              "    <tr>\n",
              "      <th>0</th>\n",
              "      <td>IndiGo</td>\n",
              "      <td>Banglore</td>\n",
              "      <td>New Delhi</td>\n",
              "      <td>BLR → DEL</td>\n",
              "      <td>22:20</td>\n",
              "      <td>01:10 22 Mar</td>\n",
              "      <td>2h 50m</td>\n",
              "      <td>non-stop</td>\n",
              "      <td>No info</td>\n",
              "      <td>3897</td>\n",
              "      <td>24</td>\n",
              "      <td>3</td>\n",
              "    </tr>\n",
              "    <tr>\n",
              "      <th>1</th>\n",
              "      <td>Air India</td>\n",
              "      <td>Kolkata</td>\n",
              "      <td>Banglore</td>\n",
              "      <td>CCU → IXR → BBI → BLR</td>\n",
              "      <td>05:50</td>\n",
              "      <td>13:15</td>\n",
              "      <td>7h 25m</td>\n",
              "      <td>2 stops</td>\n",
              "      <td>No info</td>\n",
              "      <td>7662</td>\n",
              "      <td>1</td>\n",
              "      <td>5</td>\n",
              "    </tr>\n",
              "    <tr>\n",
              "      <th>2</th>\n",
              "      <td>Jet Airways</td>\n",
              "      <td>Delhi</td>\n",
              "      <td>Cochin</td>\n",
              "      <td>DEL → LKO → BOM → COK</td>\n",
              "      <td>09:25</td>\n",
              "      <td>04:25 10 Jun</td>\n",
              "      <td>19h</td>\n",
              "      <td>2 stops</td>\n",
              "      <td>No info</td>\n",
              "      <td>13882</td>\n",
              "      <td>9</td>\n",
              "      <td>6</td>\n",
              "    </tr>\n",
              "    <tr>\n",
              "      <th>3</th>\n",
              "      <td>IndiGo</td>\n",
              "      <td>Kolkata</td>\n",
              "      <td>Banglore</td>\n",
              "      <td>CCU → NAG → BLR</td>\n",
              "      <td>18:05</td>\n",
              "      <td>23:30</td>\n",
              "      <td>5h 25m</td>\n",
              "      <td>1 stop</td>\n",
              "      <td>No info</td>\n",
              "      <td>6218</td>\n",
              "      <td>12</td>\n",
              "      <td>5</td>\n",
              "    </tr>\n",
              "    <tr>\n",
              "      <th>4</th>\n",
              "      <td>IndiGo</td>\n",
              "      <td>Banglore</td>\n",
              "      <td>New Delhi</td>\n",
              "      <td>BLR → NAG → DEL</td>\n",
              "      <td>16:50</td>\n",
              "      <td>21:35</td>\n",
              "      <td>4h 45m</td>\n",
              "      <td>1 stop</td>\n",
              "      <td>No info</td>\n",
              "      <td>13302</td>\n",
              "      <td>1</td>\n",
              "      <td>3</td>\n",
              "    </tr>\n",
              "  </tbody>\n",
              "</table>\n",
              "</div>"
            ],
            "text/plain": [
              "       Airline    Source Destination  ...  Price Journey_day Journey_month\n",
              "0       IndiGo  Banglore   New Delhi  ...   3897          24             3\n",
              "1    Air India   Kolkata    Banglore  ...   7662           1             5\n",
              "2  Jet Airways     Delhi      Cochin  ...  13882           9             6\n",
              "3       IndiGo   Kolkata    Banglore  ...   6218          12             5\n",
              "4       IndiGo  Banglore   New Delhi  ...  13302           1             3\n",
              "\n",
              "[5 rows x 12 columns]"
            ]
          },
          "metadata": {
            "tags": []
          },
          "execution_count": 1120
        }
      ]
    },
    {
      "cell_type": "code",
      "metadata": {
        "colab": {
          "base_uri": "https://localhost:8080/"
        },
        "id": "2obVOC-uWxF9",
        "outputId": "31b0cc01-997e-4808-cdaa-3162879cf5d6"
      },
      "source": [
        "train_data.columns"
      ],
      "execution_count": 1121,
      "outputs": [
        {
          "output_type": "execute_result",
          "data": {
            "text/plain": [
              "Index(['Airline', 'Source', 'Destination', 'Route', 'Dep_Time', 'Arrival_Time',\n",
              "       'Duration', 'Total_Stops', 'Additional_Info', 'Price', 'Journey_day',\n",
              "       'Journey_month'],\n",
              "      dtype='object')"
            ]
          },
          "metadata": {
            "tags": []
          },
          "execution_count": 1121
        }
      ]
    },
    {
      "cell_type": "code",
      "metadata": {
        "id": "JOhRxnU4W7Dh"
      },
      "source": [
        "train_data[\"Departure_hour\"]=pd.to_datetime(train_data[\"Dep_Time\"]).dt.hour\r\n",
        "train_data[\"Departure_min\"]=pd.to_datetime(train_data[\"Dep_Time\"]).dt.minute"
      ],
      "execution_count": 1122,
      "outputs": []
    },
    {
      "cell_type": "code",
      "metadata": {
        "id": "uOhkoCWzXrHP"
      },
      "source": [
        "train_data.drop([\"Dep_Time\"], axis=1,inplace=True)"
      ],
      "execution_count": 1123,
      "outputs": []
    },
    {
      "cell_type": "code",
      "metadata": {
        "colab": {
          "base_uri": "https://localhost:8080/",
          "height": 598
        },
        "id": "QvscBot8X_vj",
        "outputId": "edcda14a-eec6-44fd-ab91-f14ac7fb8c20"
      },
      "source": [
        "train_data.head()"
      ],
      "execution_count": 1124,
      "outputs": [
        {
          "output_type": "execute_result",
          "data": {
            "text/html": [
              "<div>\n",
              "<style scoped>\n",
              "    .dataframe tbody tr th:only-of-type {\n",
              "        vertical-align: middle;\n",
              "    }\n",
              "\n",
              "    .dataframe tbody tr th {\n",
              "        vertical-align: top;\n",
              "    }\n",
              "\n",
              "    .dataframe thead th {\n",
              "        text-align: right;\n",
              "    }\n",
              "</style>\n",
              "<table border=\"1\" class=\"dataframe\">\n",
              "  <thead>\n",
              "    <tr style=\"text-align: right;\">\n",
              "      <th></th>\n",
              "      <th>Airline</th>\n",
              "      <th>Source</th>\n",
              "      <th>Destination</th>\n",
              "      <th>Route</th>\n",
              "      <th>Arrival_Time</th>\n",
              "      <th>Duration</th>\n",
              "      <th>Total_Stops</th>\n",
              "      <th>Additional_Info</th>\n",
              "      <th>Price</th>\n",
              "      <th>Journey_day</th>\n",
              "      <th>Journey_month</th>\n",
              "      <th>Departure_hour</th>\n",
              "      <th>Departure_min</th>\n",
              "    </tr>\n",
              "  </thead>\n",
              "  <tbody>\n",
              "    <tr>\n",
              "      <th>0</th>\n",
              "      <td>IndiGo</td>\n",
              "      <td>Banglore</td>\n",
              "      <td>New Delhi</td>\n",
              "      <td>BLR → DEL</td>\n",
              "      <td>01:10 22 Mar</td>\n",
              "      <td>2h 50m</td>\n",
              "      <td>non-stop</td>\n",
              "      <td>No info</td>\n",
              "      <td>3897</td>\n",
              "      <td>24</td>\n",
              "      <td>3</td>\n",
              "      <td>22</td>\n",
              "      <td>20</td>\n",
              "    </tr>\n",
              "    <tr>\n",
              "      <th>1</th>\n",
              "      <td>Air India</td>\n",
              "      <td>Kolkata</td>\n",
              "      <td>Banglore</td>\n",
              "      <td>CCU → IXR → BBI → BLR</td>\n",
              "      <td>13:15</td>\n",
              "      <td>7h 25m</td>\n",
              "      <td>2 stops</td>\n",
              "      <td>No info</td>\n",
              "      <td>7662</td>\n",
              "      <td>1</td>\n",
              "      <td>5</td>\n",
              "      <td>5</td>\n",
              "      <td>50</td>\n",
              "    </tr>\n",
              "    <tr>\n",
              "      <th>2</th>\n",
              "      <td>Jet Airways</td>\n",
              "      <td>Delhi</td>\n",
              "      <td>Cochin</td>\n",
              "      <td>DEL → LKO → BOM → COK</td>\n",
              "      <td>04:25 10 Jun</td>\n",
              "      <td>19h</td>\n",
              "      <td>2 stops</td>\n",
              "      <td>No info</td>\n",
              "      <td>13882</td>\n",
              "      <td>9</td>\n",
              "      <td>6</td>\n",
              "      <td>9</td>\n",
              "      <td>25</td>\n",
              "    </tr>\n",
              "    <tr>\n",
              "      <th>3</th>\n",
              "      <td>IndiGo</td>\n",
              "      <td>Kolkata</td>\n",
              "      <td>Banglore</td>\n",
              "      <td>CCU → NAG → BLR</td>\n",
              "      <td>23:30</td>\n",
              "      <td>5h 25m</td>\n",
              "      <td>1 stop</td>\n",
              "      <td>No info</td>\n",
              "      <td>6218</td>\n",
              "      <td>12</td>\n",
              "      <td>5</td>\n",
              "      <td>18</td>\n",
              "      <td>5</td>\n",
              "    </tr>\n",
              "    <tr>\n",
              "      <th>4</th>\n",
              "      <td>IndiGo</td>\n",
              "      <td>Banglore</td>\n",
              "      <td>New Delhi</td>\n",
              "      <td>BLR → NAG → DEL</td>\n",
              "      <td>21:35</td>\n",
              "      <td>4h 45m</td>\n",
              "      <td>1 stop</td>\n",
              "      <td>No info</td>\n",
              "      <td>13302</td>\n",
              "      <td>1</td>\n",
              "      <td>3</td>\n",
              "      <td>16</td>\n",
              "      <td>50</td>\n",
              "    </tr>\n",
              "  </tbody>\n",
              "</table>\n",
              "</div>"
            ],
            "text/plain": [
              "       Airline    Source  ... Departure_hour Departure_min\n",
              "0       IndiGo  Banglore  ...             22            20\n",
              "1    Air India   Kolkata  ...              5            50\n",
              "2  Jet Airways     Delhi  ...              9            25\n",
              "3       IndiGo   Kolkata  ...             18             5\n",
              "4       IndiGo  Banglore  ...             16            50\n",
              "\n",
              "[5 rows x 13 columns]"
            ]
          },
          "metadata": {
            "tags": []
          },
          "execution_count": 1124
        }
      ]
    },
    {
      "cell_type": "code",
      "metadata": {
        "colab": {
          "base_uri": "https://localhost:8080/"
        },
        "id": "RifHrmHGYCsf",
        "outputId": "6c672136-7dc8-4201-a1ca-fd11d2e67d06"
      },
      "source": [
        "train_data.columns"
      ],
      "execution_count": 1125,
      "outputs": [
        {
          "output_type": "execute_result",
          "data": {
            "text/plain": [
              "Index(['Airline', 'Source', 'Destination', 'Route', 'Arrival_Time', 'Duration',\n",
              "       'Total_Stops', 'Additional_Info', 'Price', 'Journey_day',\n",
              "       'Journey_month', 'Departure_hour', 'Departure_min'],\n",
              "      dtype='object')"
            ]
          },
          "metadata": {
            "tags": []
          },
          "execution_count": 1125
        }
      ]
    },
    {
      "cell_type": "code",
      "metadata": {
        "id": "TwGsai9KYG2I"
      },
      "source": [
        "train_data[\"Arrival_hour\"]=pd.to_datetime(train_data[\"Arrival_Time\"]).dt.hour\r\n",
        "train_data[\"Arrival_min\"]=pd.to_datetime(train_data[\"Arrival_Time\"]).dt.minute"
      ],
      "execution_count": 1126,
      "outputs": []
    },
    {
      "cell_type": "code",
      "metadata": {
        "id": "bjBpJyNgYoJJ"
      },
      "source": [
        "train_data.drop([\"Arrival_Time\"], axis=1,inplace=True)"
      ],
      "execution_count": 1127,
      "outputs": []
    },
    {
      "cell_type": "code",
      "metadata": {
        "colab": {
          "base_uri": "https://localhost:8080/"
        },
        "id": "Q4LreKhxYt0o",
        "outputId": "3cd1712e-26ef-4330-f6a5-52266c9b01ad"
      },
      "source": [
        "train_data.columns"
      ],
      "execution_count": 1128,
      "outputs": [
        {
          "output_type": "execute_result",
          "data": {
            "text/plain": [
              "Index(['Airline', 'Source', 'Destination', 'Route', 'Duration', 'Total_Stops',\n",
              "       'Additional_Info', 'Price', 'Journey_day', 'Journey_month',\n",
              "       'Departure_hour', 'Departure_min', 'Arrival_hour', 'Arrival_min'],\n",
              "      dtype='object')"
            ]
          },
          "metadata": {
            "tags": []
          },
          "execution_count": 1128
        }
      ]
    },
    {
      "cell_type": "code",
      "metadata": {
        "colab": {
          "base_uri": "https://localhost:8080/",
          "height": 598
        },
        "id": "uXi75tE1YvzU",
        "outputId": "0adb762d-67b8-4f3b-8519-1c437108aeca"
      },
      "source": [
        "train_data.head()"
      ],
      "execution_count": 1129,
      "outputs": [
        {
          "output_type": "execute_result",
          "data": {
            "text/html": [
              "<div>\n",
              "<style scoped>\n",
              "    .dataframe tbody tr th:only-of-type {\n",
              "        vertical-align: middle;\n",
              "    }\n",
              "\n",
              "    .dataframe tbody tr th {\n",
              "        vertical-align: top;\n",
              "    }\n",
              "\n",
              "    .dataframe thead th {\n",
              "        text-align: right;\n",
              "    }\n",
              "</style>\n",
              "<table border=\"1\" class=\"dataframe\">\n",
              "  <thead>\n",
              "    <tr style=\"text-align: right;\">\n",
              "      <th></th>\n",
              "      <th>Airline</th>\n",
              "      <th>Source</th>\n",
              "      <th>Destination</th>\n",
              "      <th>Route</th>\n",
              "      <th>Duration</th>\n",
              "      <th>Total_Stops</th>\n",
              "      <th>Additional_Info</th>\n",
              "      <th>Price</th>\n",
              "      <th>Journey_day</th>\n",
              "      <th>Journey_month</th>\n",
              "      <th>Departure_hour</th>\n",
              "      <th>Departure_min</th>\n",
              "      <th>Arrival_hour</th>\n",
              "      <th>Arrival_min</th>\n",
              "    </tr>\n",
              "  </thead>\n",
              "  <tbody>\n",
              "    <tr>\n",
              "      <th>0</th>\n",
              "      <td>IndiGo</td>\n",
              "      <td>Banglore</td>\n",
              "      <td>New Delhi</td>\n",
              "      <td>BLR → DEL</td>\n",
              "      <td>2h 50m</td>\n",
              "      <td>non-stop</td>\n",
              "      <td>No info</td>\n",
              "      <td>3897</td>\n",
              "      <td>24</td>\n",
              "      <td>3</td>\n",
              "      <td>22</td>\n",
              "      <td>20</td>\n",
              "      <td>1</td>\n",
              "      <td>10</td>\n",
              "    </tr>\n",
              "    <tr>\n",
              "      <th>1</th>\n",
              "      <td>Air India</td>\n",
              "      <td>Kolkata</td>\n",
              "      <td>Banglore</td>\n",
              "      <td>CCU → IXR → BBI → BLR</td>\n",
              "      <td>7h 25m</td>\n",
              "      <td>2 stops</td>\n",
              "      <td>No info</td>\n",
              "      <td>7662</td>\n",
              "      <td>1</td>\n",
              "      <td>5</td>\n",
              "      <td>5</td>\n",
              "      <td>50</td>\n",
              "      <td>13</td>\n",
              "      <td>15</td>\n",
              "    </tr>\n",
              "    <tr>\n",
              "      <th>2</th>\n",
              "      <td>Jet Airways</td>\n",
              "      <td>Delhi</td>\n",
              "      <td>Cochin</td>\n",
              "      <td>DEL → LKO → BOM → COK</td>\n",
              "      <td>19h</td>\n",
              "      <td>2 stops</td>\n",
              "      <td>No info</td>\n",
              "      <td>13882</td>\n",
              "      <td>9</td>\n",
              "      <td>6</td>\n",
              "      <td>9</td>\n",
              "      <td>25</td>\n",
              "      <td>4</td>\n",
              "      <td>25</td>\n",
              "    </tr>\n",
              "    <tr>\n",
              "      <th>3</th>\n",
              "      <td>IndiGo</td>\n",
              "      <td>Kolkata</td>\n",
              "      <td>Banglore</td>\n",
              "      <td>CCU → NAG → BLR</td>\n",
              "      <td>5h 25m</td>\n",
              "      <td>1 stop</td>\n",
              "      <td>No info</td>\n",
              "      <td>6218</td>\n",
              "      <td>12</td>\n",
              "      <td>5</td>\n",
              "      <td>18</td>\n",
              "      <td>5</td>\n",
              "      <td>23</td>\n",
              "      <td>30</td>\n",
              "    </tr>\n",
              "    <tr>\n",
              "      <th>4</th>\n",
              "      <td>IndiGo</td>\n",
              "      <td>Banglore</td>\n",
              "      <td>New Delhi</td>\n",
              "      <td>BLR → NAG → DEL</td>\n",
              "      <td>4h 45m</td>\n",
              "      <td>1 stop</td>\n",
              "      <td>No info</td>\n",
              "      <td>13302</td>\n",
              "      <td>1</td>\n",
              "      <td>3</td>\n",
              "      <td>16</td>\n",
              "      <td>50</td>\n",
              "      <td>21</td>\n",
              "      <td>35</td>\n",
              "    </tr>\n",
              "  </tbody>\n",
              "</table>\n",
              "</div>"
            ],
            "text/plain": [
              "       Airline    Source Destination  ... Departure_min Arrival_hour Arrival_min\n",
              "0       IndiGo  Banglore   New Delhi  ...            20            1          10\n",
              "1    Air India   Kolkata    Banglore  ...            50           13          15\n",
              "2  Jet Airways     Delhi      Cochin  ...            25            4          25\n",
              "3       IndiGo   Kolkata    Banglore  ...             5           23          30\n",
              "4       IndiGo  Banglore   New Delhi  ...            50           21          35\n",
              "\n",
              "[5 rows x 14 columns]"
            ]
          },
          "metadata": {
            "tags": []
          },
          "execution_count": 1129
        }
      ]
    },
    {
      "cell_type": "code",
      "metadata": {
        "id": "Gr0WR51qZjLd"
      },
      "source": [
        "duration = list(train_data[\"Duration\"])\r\n",
        "\r\n",
        "for i in range(len(duration)):\r\n",
        "    if len(duration[i].split()) != 2:    # Check if duration contains only hour or mins\r\n",
        "        if \"h\" in duration[i]:\r\n",
        "            duration[i] = duration[i].strip() + \" 0m\"   # Adds 0 minute\r\n",
        "        else:\r\n",
        "            duration[i] = \"0h \" + duration[i]           # Adds 0 hour\r\n",
        "\r\n",
        "duration_hours = []\r\n",
        "duration_mins = []\r\n",
        "for i in range(len(duration)):\r\n",
        "    duration_hours.append(int(duration[i].split(sep = \"h\")[0]))    \r\n",
        "    duration_mins.append(int(duration[i].split(sep = \"m\")[0].split()[-1]))   "
      ],
      "execution_count": 1130,
      "outputs": []
    },
    {
      "cell_type": "code",
      "metadata": {
        "id": "EIHBpzSeMbxW"
      },
      "source": [
        "train_data[\"Duration_hours\"] = duration_hours\r\n",
        "train_data[\"Duration_mins\"] = duration_mins\r\n",
        "train_data.drop([\"Duration\"], axis = 1, inplace = True)"
      ],
      "execution_count": 1131,
      "outputs": []
    },
    {
      "cell_type": "code",
      "metadata": {
        "colab": {
          "base_uri": "https://localhost:8080/",
          "height": 598
        },
        "id": "ZkRYRj1CMq6A",
        "outputId": "261ce3ec-900f-4e03-ac52-8b93ad8fecbc"
      },
      "source": [
        "train_data.head()"
      ],
      "execution_count": 1132,
      "outputs": [
        {
          "output_type": "execute_result",
          "data": {
            "text/html": [
              "<div>\n",
              "<style scoped>\n",
              "    .dataframe tbody tr th:only-of-type {\n",
              "        vertical-align: middle;\n",
              "    }\n",
              "\n",
              "    .dataframe tbody tr th {\n",
              "        vertical-align: top;\n",
              "    }\n",
              "\n",
              "    .dataframe thead th {\n",
              "        text-align: right;\n",
              "    }\n",
              "</style>\n",
              "<table border=\"1\" class=\"dataframe\">\n",
              "  <thead>\n",
              "    <tr style=\"text-align: right;\">\n",
              "      <th></th>\n",
              "      <th>Airline</th>\n",
              "      <th>Source</th>\n",
              "      <th>Destination</th>\n",
              "      <th>Route</th>\n",
              "      <th>Total_Stops</th>\n",
              "      <th>Additional_Info</th>\n",
              "      <th>Price</th>\n",
              "      <th>Journey_day</th>\n",
              "      <th>Journey_month</th>\n",
              "      <th>Departure_hour</th>\n",
              "      <th>Departure_min</th>\n",
              "      <th>Arrival_hour</th>\n",
              "      <th>Arrival_min</th>\n",
              "      <th>Duration_hours</th>\n",
              "      <th>Duration_mins</th>\n",
              "    </tr>\n",
              "  </thead>\n",
              "  <tbody>\n",
              "    <tr>\n",
              "      <th>0</th>\n",
              "      <td>IndiGo</td>\n",
              "      <td>Banglore</td>\n",
              "      <td>New Delhi</td>\n",
              "      <td>BLR → DEL</td>\n",
              "      <td>non-stop</td>\n",
              "      <td>No info</td>\n",
              "      <td>3897</td>\n",
              "      <td>24</td>\n",
              "      <td>3</td>\n",
              "      <td>22</td>\n",
              "      <td>20</td>\n",
              "      <td>1</td>\n",
              "      <td>10</td>\n",
              "      <td>2</td>\n",
              "      <td>50</td>\n",
              "    </tr>\n",
              "    <tr>\n",
              "      <th>1</th>\n",
              "      <td>Air India</td>\n",
              "      <td>Kolkata</td>\n",
              "      <td>Banglore</td>\n",
              "      <td>CCU → IXR → BBI → BLR</td>\n",
              "      <td>2 stops</td>\n",
              "      <td>No info</td>\n",
              "      <td>7662</td>\n",
              "      <td>1</td>\n",
              "      <td>5</td>\n",
              "      <td>5</td>\n",
              "      <td>50</td>\n",
              "      <td>13</td>\n",
              "      <td>15</td>\n",
              "      <td>7</td>\n",
              "      <td>25</td>\n",
              "    </tr>\n",
              "    <tr>\n",
              "      <th>2</th>\n",
              "      <td>Jet Airways</td>\n",
              "      <td>Delhi</td>\n",
              "      <td>Cochin</td>\n",
              "      <td>DEL → LKO → BOM → COK</td>\n",
              "      <td>2 stops</td>\n",
              "      <td>No info</td>\n",
              "      <td>13882</td>\n",
              "      <td>9</td>\n",
              "      <td>6</td>\n",
              "      <td>9</td>\n",
              "      <td>25</td>\n",
              "      <td>4</td>\n",
              "      <td>25</td>\n",
              "      <td>19</td>\n",
              "      <td>0</td>\n",
              "    </tr>\n",
              "    <tr>\n",
              "      <th>3</th>\n",
              "      <td>IndiGo</td>\n",
              "      <td>Kolkata</td>\n",
              "      <td>Banglore</td>\n",
              "      <td>CCU → NAG → BLR</td>\n",
              "      <td>1 stop</td>\n",
              "      <td>No info</td>\n",
              "      <td>6218</td>\n",
              "      <td>12</td>\n",
              "      <td>5</td>\n",
              "      <td>18</td>\n",
              "      <td>5</td>\n",
              "      <td>23</td>\n",
              "      <td>30</td>\n",
              "      <td>5</td>\n",
              "      <td>25</td>\n",
              "    </tr>\n",
              "    <tr>\n",
              "      <th>4</th>\n",
              "      <td>IndiGo</td>\n",
              "      <td>Banglore</td>\n",
              "      <td>New Delhi</td>\n",
              "      <td>BLR → NAG → DEL</td>\n",
              "      <td>1 stop</td>\n",
              "      <td>No info</td>\n",
              "      <td>13302</td>\n",
              "      <td>1</td>\n",
              "      <td>3</td>\n",
              "      <td>16</td>\n",
              "      <td>50</td>\n",
              "      <td>21</td>\n",
              "      <td>35</td>\n",
              "      <td>4</td>\n",
              "      <td>45</td>\n",
              "    </tr>\n",
              "  </tbody>\n",
              "</table>\n",
              "</div>"
            ],
            "text/plain": [
              "       Airline    Source  ... Duration_hours Duration_mins\n",
              "0       IndiGo  Banglore  ...              2            50\n",
              "1    Air India   Kolkata  ...              7            25\n",
              "2  Jet Airways     Delhi  ...             19             0\n",
              "3       IndiGo   Kolkata  ...              5            25\n",
              "4       IndiGo  Banglore  ...              4            45\n",
              "\n",
              "[5 rows x 15 columns]"
            ]
          },
          "metadata": {
            "tags": []
          },
          "execution_count": 1132
        }
      ]
    },
    {
      "cell_type": "code",
      "metadata": {
        "colab": {
          "base_uri": "https://localhost:8080/"
        },
        "id": "mk5D7v3pMtYj",
        "outputId": "61e11767-06e8-4a32-8f04-871a5bc94026"
      },
      "source": [
        "train_data.columns"
      ],
      "execution_count": 1133,
      "outputs": [
        {
          "output_type": "execute_result",
          "data": {
            "text/plain": [
              "Index(['Airline', 'Source', 'Destination', 'Route', 'Total_Stops',\n",
              "       'Additional_Info', 'Price', 'Journey_day', 'Journey_month',\n",
              "       'Departure_hour', 'Departure_min', 'Arrival_hour', 'Arrival_min',\n",
              "       'Duration_hours', 'Duration_mins'],\n",
              "      dtype='object')"
            ]
          },
          "metadata": {
            "tags": []
          },
          "execution_count": 1133
        }
      ]
    },
    {
      "cell_type": "code",
      "metadata": {
        "colab": {
          "base_uri": "https://localhost:8080/"
        },
        "id": "ClrpY4AyM6Pe",
        "outputId": "c209cc2f-7f76-41af-c821-be67b4a2133d"
      },
      "source": [
        "train_data[\"Airline\"].value_counts()"
      ],
      "execution_count": 1134,
      "outputs": [
        {
          "output_type": "execute_result",
          "data": {
            "text/plain": [
              "Jet Airways                          3849\n",
              "IndiGo                               2053\n",
              "Air India                            1751\n",
              "Multiple carriers                    1196\n",
              "SpiceJet                              818\n",
              "Vistara                               479\n",
              "Air Asia                              319\n",
              "GoAir                                 194\n",
              "Multiple carriers Premium economy      13\n",
              "Jet Airways Business                    6\n",
              "Vistara Premium economy                 3\n",
              "Trujet                                  1\n",
              "Name: Airline, dtype: int64"
            ]
          },
          "metadata": {
            "tags": []
          },
          "execution_count": 1134
        }
      ]
    },
    {
      "cell_type": "code",
      "metadata": {
        "colab": {
          "base_uri": "https://localhost:8080/",
          "height": 279
        },
        "id": "io20XSVyNBjS",
        "outputId": "cc2c1272-4698-425f-eb6e-d226f89f1e8b"
      },
      "source": [
        "sns.boxplot(y = \"Price\", x = \"Airline\", data = train_data.sort_values(\"Price\", ascending = False))\r\n",
        "plt.show()"
      ],
      "execution_count": 1135,
      "outputs": [
        {
          "output_type": "display_data",
          "data": {
            "image/png": "[encoded data removed]",
            "text/plain": [
              "<Figure size 432x288 with 1 Axes>"
            ]
          },
          "metadata": {
            "tags": [],
            "needs_background": "light"
          }
        }
      ]
    },
    {
      "cell_type": "code",
      "metadata": {
        "colab": {
          "base_uri": "https://localhost:8080/",
          "height": 258
        },
        "id": "i-Uh5CJGNXdN",
        "outputId": "0548de9f-ebad-4282-f74b-b2356ec82b7a"
      },
      "source": [
        "Airline = train_data[[\"Airline\"]]\r\n",
        "\r\n",
        "Airline = pd.get_dummies(Airline, drop_first= True)\r\n",
        "\r\n",
        "Airline.head()"
      ],
      "execution_count": 1136,
      "outputs": [
        {
          "output_type": "execute_result",
          "data": {
            "text/html": [
              "<div>\n",
              "<style scoped>\n",
              "    .dataframe tbody tr th:only-of-type {\n",
              "        vertical-align: middle;\n",
              "    }\n",
              "\n",
              "    .dataframe tbody tr th {\n",
              "        vertical-align: top;\n",
              "    }\n",
              "\n",
              "    .dataframe thead th {\n",
              "        text-align: right;\n",
              "    }\n",
              "</style>\n",
              "<table border=\"1\" class=\"dataframe\">\n",
              "  <thead>\n",
              "    <tr style=\"text-align: right;\">\n",
              "      <th></th>\n",
              "      <th>Airline_Air India</th>\n",
              "      <th>Airline_GoAir</th>\n",
              "      <th>Airline_IndiGo</th>\n",
              "      <th>Airline_Jet Airways</th>\n",
              "      <th>Airline_Jet Airways Business</th>\n",
              "      <th>Airline_Multiple carriers</th>\n",
              "      <th>Airline_Multiple carriers Premium economy</th>\n",
              "      <th>Airline_SpiceJet</th>\n",
              "      <th>Airline_Trujet</th>\n",
              "      <th>Airline_Vistara</th>\n",
              "      <th>Airline_Vistara Premium economy</th>\n",
              "    </tr>\n",
              "  </thead>\n",
              "  <tbody>\n",
              "    <tr>\n",
              "      <th>0</th>\n",
              "      <td>0</td>\n",
              "      <td>0</td>\n",
              "      <td>1</td>\n",
              "      <td>0</td>\n",
              "      <td>0</td>\n",
              "      <td>0</td>\n",
              "      <td>0</td>\n",
              "      <td>0</td>\n",
              "      <td>0</td>\n",
              "      <td>0</td>\n",
              "      <td>0</td>\n",
              "    </tr>\n",
              "    <tr>\n",
              "      <th>1</th>\n",
              "      <td>1</td>\n",
              "      <td>0</td>\n",
              "      <td>0</td>\n",
              "      <td>0</td>\n",
              "      <td>0</td>\n",
              "      <td>0</td>\n",
              "      <td>0</td>\n",
              "      <td>0</td>\n",
              "      <td>0</td>\n",
              "      <td>0</td>\n",
              "      <td>0</td>\n",
              "    </tr>\n",
              "    <tr>\n",
              "      <th>2</th>\n",
              "      <td>0</td>\n",
              "      <td>0</td>\n",
              "      <td>0</td>\n",
              "      <td>1</td>\n",
              "      <td>0</td>\n",
              "      <td>0</td>\n",
              "      <td>0</td>\n",
              "      <td>0</td>\n",
              "      <td>0</td>\n",
              "      <td>0</td>\n",
              "      <td>0</td>\n",
              "    </tr>\n",
              "    <tr>\n",
              "      <th>3</th>\n",
              "      <td>0</td>\n",
              "      <td>0</td>\n",
              "      <td>1</td>\n",
              "      <td>0</td>\n",
              "      <td>0</td>\n",
              "      <td>0</td>\n",
              "      <td>0</td>\n",
              "      <td>0</td>\n",
              "      <td>0</td>\n",
              "      <td>0</td>\n",
              "      <td>0</td>\n",
              "    </tr>\n",
              "    <tr>\n",
              "      <th>4</th>\n",
              "      <td>0</td>\n",
              "      <td>0</td>\n",
              "      <td>1</td>\n",
              "      <td>0</td>\n",
              "      <td>0</td>\n",
              "      <td>0</td>\n",
              "      <td>0</td>\n",
              "      <td>0</td>\n",
              "      <td>0</td>\n",
              "      <td>0</td>\n",
              "      <td>0</td>\n",
              "    </tr>\n",
              "  </tbody>\n",
              "</table>\n",
              "</div>"
            ],
            "text/plain": [
              "   Airline_Air India  ...  Airline_Vistara Premium economy\n",
              "0                  0  ...                                0\n",
              "1                  1  ...                                0\n",
              "2                  0  ...                                0\n",
              "3                  0  ...                                0\n",
              "4                  0  ...                                0\n",
              "\n",
              "[5 rows x 11 columns]"
            ]
          },
          "metadata": {
            "tags": []
          },
          "execution_count": 1136
        }
      ]
    },
    {
      "cell_type": "code",
      "metadata": {
        "colab": {
          "base_uri": "https://localhost:8080/"
        },
        "id": "WfFp8AmJN6RK",
        "outputId": "d07befa0-b0dd-43b6-a13c-6f3879d55f5f"
      },
      "source": [
        "train_data[\"Source\"].value_counts()"
      ],
      "execution_count": 1137,
      "outputs": [
        {
          "output_type": "execute_result",
          "data": {
            "text/plain": [
              "Delhi       4536\n",
              "Kolkata     2871\n",
              "Banglore    2197\n",
              "Mumbai       697\n",
              "Chennai      381\n",
              "Name: Source, dtype: int64"
            ]
          },
          "metadata": {
            "tags": []
          },
          "execution_count": 1137
        }
      ]
    },
    {
      "cell_type": "code",
      "metadata": {
        "colab": {
          "base_uri": "https://localhost:8080/",
          "height": 279
        },
        "id": "k7E1SlwKOGht",
        "outputId": "18e3024c-6a4b-4b90-fc9b-ec4868795151"
      },
      "source": [
        "sns.boxplot(y = \"Price\", x = \"Source\", data = train_data.sort_values(\"Price\", ascending = False))\r\n",
        "plt.show()"
      ],
      "execution_count": 1138,
      "outputs": [
        {
          "output_type": "display_data",
          "data": {
            "image/png": "[encoded data removed]",
            "text/plain": [
              "<Figure size 432x288 with 1 Axes>"
            ]
          },
          "metadata": {
            "tags": [],
            "needs_background": "light"
          }
        }
      ]
    },
    {
      "cell_type": "code",
      "metadata": {
        "colab": {
          "base_uri": "https://localhost:8080/",
          "height": 204
        },
        "id": "hOoiMubCOMrz",
        "outputId": "d88bc587-e28f-4c88-8eb8-f0c46eac71c7"
      },
      "source": [
        "Source = train_data[[\"Source\"]]\r\n",
        "\r\n",
        "Source = pd.get_dummies(Source, drop_first= True)\r\n",
        "\r\n",
        "Source.head()"
      ],
      "execution_count": 1139,
      "outputs": [
        {
          "output_type": "execute_result",
          "data": {
            "text/html": [
              "<div>\n",
              "<style scoped>\n",
              "    .dataframe tbody tr th:only-of-type {\n",
              "        vertical-align: middle;\n",
              "    }\n",
              "\n",
              "    .dataframe tbody tr th {\n",
              "        vertical-align: top;\n",
              "    }\n",
              "\n",
              "    .dataframe thead th {\n",
              "        text-align: right;\n",
              "    }\n",
              "</style>\n",
              "<table border=\"1\" class=\"dataframe\">\n",
              "  <thead>\n",
              "    <tr style=\"text-align: right;\">\n",
              "      <th></th>\n",
              "      <th>Source_Chennai</th>\n",
              "      <th>Source_Delhi</th>\n",
              "      <th>Source_Kolkata</th>\n",
              "      <th>Source_Mumbai</th>\n",
              "    </tr>\n",
              "  </thead>\n",
              "  <tbody>\n",
              "    <tr>\n",
              "      <th>0</th>\n",
              "      <td>0</td>\n",
              "      <td>0</td>\n",
              "      <td>0</td>\n",
              "      <td>0</td>\n",
              "    </tr>\n",
              "    <tr>\n",
              "      <th>1</th>\n",
              "      <td>0</td>\n",
              "      <td>0</td>\n",
              "      <td>1</td>\n",
              "      <td>0</td>\n",
              "    </tr>\n",
              "    <tr>\n",
              "      <th>2</th>\n",
              "      <td>0</td>\n",
              "      <td>1</td>\n",
              "      <td>0</td>\n",
              "      <td>0</td>\n",
              "    </tr>\n",
              "    <tr>\n",
              "      <th>3</th>\n",
              "      <td>0</td>\n",
              "      <td>0</td>\n",
              "      <td>1</td>\n",
              "      <td>0</td>\n",
              "    </tr>\n",
              "    <tr>\n",
              "      <th>4</th>\n",
              "      <td>0</td>\n",
              "      <td>0</td>\n",
              "      <td>0</td>\n",
              "      <td>0</td>\n",
              "    </tr>\n",
              "  </tbody>\n",
              "</table>\n",
              "</div>"
            ],
            "text/plain": [
              "   Source_Chennai  Source_Delhi  Source_Kolkata  Source_Mumbai\n",
              "0               0             0               0              0\n",
              "1               0             0               1              0\n",
              "2               0             1               0              0\n",
              "3               0             0               1              0\n",
              "4               0             0               0              0"
            ]
          },
          "metadata": {
            "tags": []
          },
          "execution_count": 1139
        }
      ]
    },
    {
      "cell_type": "code",
      "metadata": {
        "colab": {
          "base_uri": "https://localhost:8080/",
          "height": 598
        },
        "id": "QcPAu_JHOThC",
        "outputId": "2361798f-ed64-4f76-cf2c-725baa59b3ce"
      },
      "source": [
        "train_data.head()"
      ],
      "execution_count": 1140,
      "outputs": [
        {
          "output_type": "execute_result",
          "data": {
            "text/html": [
              "<div>\n",
              "<style scoped>\n",
              "    .dataframe tbody tr th:only-of-type {\n",
              "        vertical-align: middle;\n",
              "    }\n",
              "\n",
              "    .dataframe tbody tr th {\n",
              "        vertical-align: top;\n",
              "    }\n",
              "\n",
              "    .dataframe thead th {\n",
              "        text-align: right;\n",
              "    }\n",
              "</style>\n",
              "<table border=\"1\" class=\"dataframe\">\n",
              "  <thead>\n",
              "    <tr style=\"text-align: right;\">\n",
              "      <th></th>\n",
              "      <th>Airline</th>\n",
              "      <th>Source</th>\n",
              "      <th>Destination</th>\n",
              "      <th>Route</th>\n",
              "      <th>Total_Stops</th>\n",
              "      <th>Additional_Info</th>\n",
              "      <th>Price</th>\n",
              "      <th>Journey_day</th>\n",
              "      <th>Journey_month</th>\n",
              "      <th>Departure_hour</th>\n",
              "      <th>Departure_min</th>\n",
              "      <th>Arrival_hour</th>\n",
              "      <th>Arrival_min</th>\n",
              "      <th>Duration_hours</th>\n",
              "      <th>Duration_mins</th>\n",
              "    </tr>\n",
              "  </thead>\n",
              "  <tbody>\n",
              "    <tr>\n",
              "      <th>0</th>\n",
              "      <td>IndiGo</td>\n",
              "      <td>Banglore</td>\n",
              "      <td>New Delhi</td>\n",
              "      <td>BLR → DEL</td>\n",
              "      <td>non-stop</td>\n",
              "      <td>No info</td>\n",
              "      <td>3897</td>\n",
              "      <td>24</td>\n",
              "      <td>3</td>\n",
              "      <td>22</td>\n",
              "      <td>20</td>\n",
              "      <td>1</td>\n",
              "      <td>10</td>\n",
              "      <td>2</td>\n",
              "      <td>50</td>\n",
              "    </tr>\n",
              "    <tr>\n",
              "      <th>1</th>\n",
              "      <td>Air India</td>\n",
              "      <td>Kolkata</td>\n",
              "      <td>Banglore</td>\n",
              "      <td>CCU → IXR → BBI → BLR</td>\n",
              "      <td>2 stops</td>\n",
              "      <td>No info</td>\n",
              "      <td>7662</td>\n",
              "      <td>1</td>\n",
              "      <td>5</td>\n",
              "      <td>5</td>\n",
              "      <td>50</td>\n",
              "      <td>13</td>\n",
              "      <td>15</td>\n",
              "      <td>7</td>\n",
              "      <td>25</td>\n",
              "    </tr>\n",
              "    <tr>\n",
              "      <th>2</th>\n",
              "      <td>Jet Airways</td>\n",
              "      <td>Delhi</td>\n",
              "      <td>Cochin</td>\n",
              "      <td>DEL → LKO → BOM → COK</td>\n",
              "      <td>2 stops</td>\n",
              "      <td>No info</td>\n",
              "      <td>13882</td>\n",
              "      <td>9</td>\n",
              "      <td>6</td>\n",
              "      <td>9</td>\n",
              "      <td>25</td>\n",
              "      <td>4</td>\n",
              "      <td>25</td>\n",
              "      <td>19</td>\n",
              "      <td>0</td>\n",
              "    </tr>\n",
              "    <tr>\n",
              "      <th>3</th>\n",
              "      <td>IndiGo</td>\n",
              "      <td>Kolkata</td>\n",
              "      <td>Banglore</td>\n",
              "      <td>CCU → NAG → BLR</td>\n",
              "      <td>1 stop</td>\n",
              "      <td>No info</td>\n",
              "      <td>6218</td>\n",
              "      <td>12</td>\n",
              "      <td>5</td>\n",
              "      <td>18</td>\n",
              "      <td>5</td>\n",
              "      <td>23</td>\n",
              "      <td>30</td>\n",
              "      <td>5</td>\n",
              "      <td>25</td>\n",
              "    </tr>\n",
              "    <tr>\n",
              "      <th>4</th>\n",
              "      <td>IndiGo</td>\n",
              "      <td>Banglore</td>\n",
              "      <td>New Delhi</td>\n",
              "      <td>BLR → NAG → DEL</td>\n",
              "      <td>1 stop</td>\n",
              "      <td>No info</td>\n",
              "      <td>13302</td>\n",
              "      <td>1</td>\n",
              "      <td>3</td>\n",
              "      <td>16</td>\n",
              "      <td>50</td>\n",
              "      <td>21</td>\n",
              "      <td>35</td>\n",
              "      <td>4</td>\n",
              "      <td>45</td>\n",
              "    </tr>\n",
              "  </tbody>\n",
              "</table>\n",
              "</div>"
            ],
            "text/plain": [
              "       Airline    Source  ... Duration_hours Duration_mins\n",
              "0       IndiGo  Banglore  ...              2            50\n",
              "1    Air India   Kolkata  ...              7            25\n",
              "2  Jet Airways     Delhi  ...             19             0\n",
              "3       IndiGo   Kolkata  ...              5            25\n",
              "4       IndiGo  Banglore  ...              4            45\n",
              "\n",
              "[5 rows x 15 columns]"
            ]
          },
          "metadata": {
            "tags": []
          },
          "execution_count": 1140
        }
      ]
    },
    {
      "cell_type": "code",
      "metadata": {
        "colab": {
          "base_uri": "https://localhost:8080/"
        },
        "id": "c-JwQuatOWtP",
        "outputId": "3ff55842-619f-4330-d717-51f681a6d36f"
      },
      "source": [
        "\r\n",
        "train_data[\"Destination\"].value_counts()"
      ],
      "execution_count": 1141,
      "outputs": [
        {
          "output_type": "execute_result",
          "data": {
            "text/plain": [
              "Cochin       4536\n",
              "Banglore     2871\n",
              "Delhi        1265\n",
              "New Delhi     932\n",
              "Hyderabad     697\n",
              "Kolkata       381\n",
              "Name: Destination, dtype: int64"
            ]
          },
          "metadata": {
            "tags": []
          },
          "execution_count": 1141
        }
      ]
    },
    {
      "cell_type": "code",
      "metadata": {
        "colab": {
          "base_uri": "https://localhost:8080/",
          "height": 204
        },
        "id": "R1M0uWvgOckT",
        "outputId": "97bae10b-d723-4932-fc6d-5af66d284785"
      },
      "source": [
        "Destination = train_data[[\"Destination\"]]\r\n",
        "\r\n",
        "Destination = pd.get_dummies(Destination, drop_first = True)\r\n",
        "\r\n",
        "Destination.head()"
      ],
      "execution_count": 1142,
      "outputs": [
        {
          "output_type": "execute_result",
          "data": {
            "text/html": [
              "<div>\n",
              "<style scoped>\n",
              "    .dataframe tbody tr th:only-of-type {\n",
              "        vertical-align: middle;\n",
              "    }\n",
              "\n",
              "    .dataframe tbody tr th {\n",
              "        vertical-align: top;\n",
              "    }\n",
              "\n",
              "    .dataframe thead th {\n",
              "        text-align: right;\n",
              "    }\n",
              "</style>\n",
              "<table border=\"1\" class=\"dataframe\">\n",
              "  <thead>\n",
              "    <tr style=\"text-align: right;\">\n",
              "      <th></th>\n",
              "      <th>Destination_Cochin</th>\n",
              "      <th>Destination_Delhi</th>\n",
              "      <th>Destination_Hyderabad</th>\n",
              "      <th>Destination_Kolkata</th>\n",
              "      <th>Destination_New Delhi</th>\n",
              "    </tr>\n",
              "  </thead>\n",
              "  <tbody>\n",
              "    <tr>\n",
              "      <th>0</th>\n",
              "      <td>0</td>\n",
              "      <td>0</td>\n",
              "      <td>0</td>\n",
              "      <td>0</td>\n",
              "      <td>1</td>\n",
              "    </tr>\n",
              "    <tr>\n",
              "      <th>1</th>\n",
              "      <td>0</td>\n",
              "      <td>0</td>\n",
              "      <td>0</td>\n",
              "      <td>0</td>\n",
              "      <td>0</td>\n",
              "    </tr>\n",
              "    <tr>\n",
              "      <th>2</th>\n",
              "      <td>1</td>\n",
              "      <td>0</td>\n",
              "      <td>0</td>\n",
              "      <td>0</td>\n",
              "      <td>0</td>\n",
              "    </tr>\n",
              "    <tr>\n",
              "      <th>3</th>\n",
              "      <td>0</td>\n",
              "      <td>0</td>\n",
              "      <td>0</td>\n",
              "      <td>0</td>\n",
              "      <td>0</td>\n",
              "    </tr>\n",
              "    <tr>\n",
              "      <th>4</th>\n",
              "      <td>0</td>\n",
              "      <td>0</td>\n",
              "      <td>0</td>\n",
              "      <td>0</td>\n",
              "      <td>1</td>\n",
              "    </tr>\n",
              "  </tbody>\n",
              "</table>\n",
              "</div>"
            ],
            "text/plain": [
              "   Destination_Cochin  ...  Destination_New Delhi\n",
              "0                   0  ...                      1\n",
              "1                   0  ...                      0\n",
              "2                   1  ...                      0\n",
              "3                   0  ...                      0\n",
              "4                   0  ...                      1\n",
              "\n",
              "[5 rows x 5 columns]"
            ]
          },
          "metadata": {
            "tags": []
          },
          "execution_count": 1142
        }
      ]
    },
    {
      "cell_type": "code",
      "metadata": {
        "colab": {
          "base_uri": "https://localhost:8080/"
        },
        "id": "Rq3j5J7rOhJ0",
        "outputId": "be01d2c8-e50c-4850-ae97-0ed41a5b9fa0"
      },
      "source": [
        "\r\n",
        "train_data[\"Total_Stops\"].value_counts()"
      ],
      "execution_count": 1143,
      "outputs": [
        {
          "output_type": "execute_result",
          "data": {
            "text/plain": [
              "1 stop      5625\n",
              "non-stop    3491\n",
              "2 stops     1520\n",
              "3 stops       45\n",
              "4 stops        1\n",
              "Name: Total_Stops, dtype: int64"
            ]
          },
          "metadata": {
            "tags": []
          },
          "execution_count": 1143
        }
      ]
    },
    {
      "cell_type": "code",
      "metadata": {
        "id": "lAgOuNF8O1f4"
      },
      "source": [
        "train_data.replace({\"non-stop\": 0, \"1 stop\": 1, \"2 stops\": 2, \"3 stops\": 3, \"4 stops\": 4}, inplace = True)"
      ],
      "execution_count": 1144,
      "outputs": []
    },
    {
      "cell_type": "code",
      "metadata": {
        "colab": {
          "base_uri": "https://localhost:8080/",
          "height": 598
        },
        "id": "zkDpFxI6PLaY",
        "outputId": "755cb489-e8ea-434f-e7e2-f8904ff14171"
      },
      "source": [
        "train_data.head()"
      ],
      "execution_count": 1145,
      "outputs": [
        {
          "output_type": "execute_result",
          "data": {
            "text/html": [
              "<div>\n",
              "<style scoped>\n",
              "    .dataframe tbody tr th:only-of-type {\n",
              "        vertical-align: middle;\n",
              "    }\n",
              "\n",
              "    .dataframe tbody tr th {\n",
              "        vertical-align: top;\n",
              "    }\n",
              "\n",
              "    .dataframe thead th {\n",
              "        text-align: right;\n",
              "    }\n",
              "</style>\n",
              "<table border=\"1\" class=\"dataframe\">\n",
              "  <thead>\n",
              "    <tr style=\"text-align: right;\">\n",
              "      <th></th>\n",
              "      <th>Airline</th>\n",
              "      <th>Source</th>\n",
              "      <th>Destination</th>\n",
              "      <th>Route</th>\n",
              "      <th>Total_Stops</th>\n",
              "      <th>Additional_Info</th>\n",
              "      <th>Price</th>\n",
              "      <th>Journey_day</th>\n",
              "      <th>Journey_month</th>\n",
              "      <th>Departure_hour</th>\n",
              "      <th>Departure_min</th>\n",
              "      <th>Arrival_hour</th>\n",
              "      <th>Arrival_min</th>\n",
              "      <th>Duration_hours</th>\n",
              "      <th>Duration_mins</th>\n",
              "    </tr>\n",
              "  </thead>\n",
              "  <tbody>\n",
              "    <tr>\n",
              "      <th>0</th>\n",
              "      <td>IndiGo</td>\n",
              "      <td>Banglore</td>\n",
              "      <td>New Delhi</td>\n",
              "      <td>BLR → DEL</td>\n",
              "      <td>0</td>\n",
              "      <td>No info</td>\n",
              "      <td>3897</td>\n",
              "      <td>24</td>\n",
              "      <td>3</td>\n",
              "      <td>22</td>\n",
              "      <td>20</td>\n",
              "      <td>1</td>\n",
              "      <td>10</td>\n",
              "      <td>2</td>\n",
              "      <td>50</td>\n",
              "    </tr>\n",
              "    <tr>\n",
              "      <th>1</th>\n",
              "      <td>Air India</td>\n",
              "      <td>Kolkata</td>\n",
              "      <td>Banglore</td>\n",
              "      <td>CCU → IXR → BBI → BLR</td>\n",
              "      <td>2</td>\n",
              "      <td>No info</td>\n",
              "      <td>7662</td>\n",
              "      <td>1</td>\n",
              "      <td>5</td>\n",
              "      <td>5</td>\n",
              "      <td>50</td>\n",
              "      <td>13</td>\n",
              "      <td>15</td>\n",
              "      <td>7</td>\n",
              "      <td>25</td>\n",
              "    </tr>\n",
              "    <tr>\n",
              "      <th>2</th>\n",
              "      <td>Jet Airways</td>\n",
              "      <td>Delhi</td>\n",
              "      <td>Cochin</td>\n",
              "      <td>DEL → LKO → BOM → COK</td>\n",
              "      <td>2</td>\n",
              "      <td>No info</td>\n",
              "      <td>13882</td>\n",
              "      <td>9</td>\n",
              "      <td>6</td>\n",
              "      <td>9</td>\n",
              "      <td>25</td>\n",
              "      <td>4</td>\n",
              "      <td>25</td>\n",
              "      <td>19</td>\n",
              "      <td>0</td>\n",
              "    </tr>\n",
              "    <tr>\n",
              "      <th>3</th>\n",
              "      <td>IndiGo</td>\n",
              "      <td>Kolkata</td>\n",
              "      <td>Banglore</td>\n",
              "      <td>CCU → NAG → BLR</td>\n",
              "      <td>1</td>\n",
              "      <td>No info</td>\n",
              "      <td>6218</td>\n",
              "      <td>12</td>\n",
              "      <td>5</td>\n",
              "      <td>18</td>\n",
              "      <td>5</td>\n",
              "      <td>23</td>\n",
              "      <td>30</td>\n",
              "      <td>5</td>\n",
              "      <td>25</td>\n",
              "    </tr>\n",
              "    <tr>\n",
              "      <th>4</th>\n",
              "      <td>IndiGo</td>\n",
              "      <td>Banglore</td>\n",
              "      <td>New Delhi</td>\n",
              "      <td>BLR → NAG → DEL</td>\n",
              "      <td>1</td>\n",
              "      <td>No info</td>\n",
              "      <td>13302</td>\n",
              "      <td>1</td>\n",
              "      <td>3</td>\n",
              "      <td>16</td>\n",
              "      <td>50</td>\n",
              "      <td>21</td>\n",
              "      <td>35</td>\n",
              "      <td>4</td>\n",
              "      <td>45</td>\n",
              "    </tr>\n",
              "  </tbody>\n",
              "</table>\n",
              "</div>"
            ],
            "text/plain": [
              "       Airline    Source  ... Duration_hours Duration_mins\n",
              "0       IndiGo  Banglore  ...              2            50\n",
              "1    Air India   Kolkata  ...              7            25\n",
              "2  Jet Airways     Delhi  ...             19             0\n",
              "3       IndiGo   Kolkata  ...              5            25\n",
              "4       IndiGo  Banglore  ...              4            45\n",
              "\n",
              "[5 rows x 15 columns]"
            ]
          },
          "metadata": {
            "tags": []
          },
          "execution_count": 1145
        }
      ]
    },
    {
      "cell_type": "code",
      "metadata": {
        "colab": {
          "base_uri": "https://localhost:8080/"
        },
        "id": "P7F__oiTPPfr",
        "outputId": "d8206ac4-d25a-4ce9-9c79-205204d37bc4"
      },
      "source": [
        "train_data.columns"
      ],
      "execution_count": 1146,
      "outputs": [
        {
          "output_type": "execute_result",
          "data": {
            "text/plain": [
              "Index(['Airline', 'Source', 'Destination', 'Route', 'Total_Stops',\n",
              "       'Additional_Info', 'Price', 'Journey_day', 'Journey_month',\n",
              "       'Departure_hour', 'Departure_min', 'Arrival_hour', 'Arrival_min',\n",
              "       'Duration_hours', 'Duration_mins'],\n",
              "      dtype='object')"
            ]
          },
          "metadata": {
            "tags": []
          },
          "execution_count": 1146
        }
      ]
    },
    {
      "cell_type": "code",
      "metadata": {
        "colab": {
          "base_uri": "https://localhost:8080/"
        },
        "id": "8kxSH-wkPiA-",
        "outputId": "a0c3908e-e594-457c-b073-bd043d9d6c5e"
      },
      "source": [
        "train_data[\"Additional_Info\"].value_counts()"
      ],
      "execution_count": 1147,
      "outputs": [
        {
          "output_type": "execute_result",
          "data": {
            "text/plain": [
              "No info                         8344\n",
              "In-flight meal not included     1982\n",
              "No check-in baggage included     320\n",
              "1 Long layover                    19\n",
              "Change airports                    7\n",
              "Business class                     4\n",
              "No Info                            3\n",
              "1 Short layover                    1\n",
              "2 Long layover                     1\n",
              "Red-eye flight                     1\n",
              "Name: Additional_Info, dtype: int64"
            ]
          },
          "metadata": {
            "tags": []
          },
          "execution_count": 1147
        }
      ]
    },
    {
      "cell_type": "code",
      "metadata": {
        "id": "sWYEmxoePpRG"
      },
      "source": [
        "train_data.drop([\"Additional_Info\"],axis=1,inplace=True)\r\n"
      ],
      "execution_count": 1148,
      "outputs": []
    },
    {
      "cell_type": "code",
      "metadata": {
        "colab": {
          "base_uri": "https://localhost:8080/",
          "height": 379
        },
        "id": "BFswhj84P1SD",
        "outputId": "175cdde4-00d9-4a09-9337-6a54412f5ac3"
      },
      "source": [
        "train_data.corr()"
      ],
      "execution_count": 1149,
      "outputs": [
        {
          "output_type": "execute_result",
          "data": {
            "text/html": [
              "<div>\n",
              "<style scoped>\n",
              "    .dataframe tbody tr th:only-of-type {\n",
              "        vertical-align: middle;\n",
              "    }\n",
              "\n",
              "    .dataframe tbody tr th {\n",
              "        vertical-align: top;\n",
              "    }\n",
              "\n",
              "    .dataframe thead th {\n",
              "        text-align: right;\n",
              "    }\n",
              "</style>\n",
              "<table border=\"1\" class=\"dataframe\">\n",
              "  <thead>\n",
              "    <tr style=\"text-align: right;\">\n",
              "      <th></th>\n",
              "      <th>Total_Stops</th>\n",
              "      <th>Price</th>\n",
              "      <th>Journey_day</th>\n",
              "      <th>Journey_month</th>\n",
              "      <th>Departure_hour</th>\n",
              "      <th>Departure_min</th>\n",
              "      <th>Arrival_hour</th>\n",
              "      <th>Arrival_min</th>\n",
              "      <th>Duration_hours</th>\n",
              "      <th>Duration_mins</th>\n",
              "    </tr>\n",
              "  </thead>\n",
              "  <tbody>\n",
              "    <tr>\n",
              "      <th>Total_Stops</th>\n",
              "      <td>1.000000</td>\n",
              "      <td>0.603897</td>\n",
              "      <td>-0.009451</td>\n",
              "      <td>0.054383</td>\n",
              "      <td>-0.061476</td>\n",
              "      <td>-0.002618</td>\n",
              "      <td>0.038140</td>\n",
              "      <td>-0.106940</td>\n",
              "      <td>0.739916</td>\n",
              "      <td>-0.136706</td>\n",
              "    </tr>\n",
              "    <tr>\n",
              "      <th>Price</th>\n",
              "      <td>0.603897</td>\n",
              "      <td>1.000000</td>\n",
              "      <td>-0.153774</td>\n",
              "      <td>-0.103643</td>\n",
              "      <td>0.006799</td>\n",
              "      <td>-0.024458</td>\n",
              "      <td>0.024244</td>\n",
              "      <td>-0.086155</td>\n",
              "      <td>0.508778</td>\n",
              "      <td>-0.124855</td>\n",
              "    </tr>\n",
              "    <tr>\n",
              "      <th>Journey_day</th>\n",
              "      <td>-0.009451</td>\n",
              "      <td>-0.153774</td>\n",
              "      <td>1.000000</td>\n",
              "      <td>-0.038359</td>\n",
              "      <td>0.002170</td>\n",
              "      <td>-0.008170</td>\n",
              "      <td>-0.003245</td>\n",
              "      <td>-0.017510</td>\n",
              "      <td>-0.022059</td>\n",
              "      <td>-0.008940</td>\n",
              "    </tr>\n",
              "    <tr>\n",
              "      <th>Journey_month</th>\n",
              "      <td>0.054383</td>\n",
              "      <td>-0.103643</td>\n",
              "      <td>-0.038359</td>\n",
              "      <td>1.000000</td>\n",
              "      <td>0.039127</td>\n",
              "      <td>-0.059267</td>\n",
              "      <td>-0.003927</td>\n",
              "      <td>-0.100626</td>\n",
              "      <td>0.016141</td>\n",
              "      <td>-0.040897</td>\n",
              "    </tr>\n",
              "    <tr>\n",
              "      <th>Departure_hour</th>\n",
              "      <td>-0.061476</td>\n",
              "      <td>0.006799</td>\n",
              "      <td>0.002170</td>\n",
              "      <td>0.039127</td>\n",
              "      <td>1.000000</td>\n",
              "      <td>-0.024745</td>\n",
              "      <td>0.005180</td>\n",
              "      <td>0.067911</td>\n",
              "      <td>0.002869</td>\n",
              "      <td>-0.023707</td>\n",
              "    </tr>\n",
              "    <tr>\n",
              "      <th>Departure_min</th>\n",
              "      <td>-0.002618</td>\n",
              "      <td>-0.024458</td>\n",
              "      <td>-0.008170</td>\n",
              "      <td>-0.059267</td>\n",
              "      <td>-0.024745</td>\n",
              "      <td>1.000000</td>\n",
              "      <td>0.043122</td>\n",
              "      <td>-0.017597</td>\n",
              "      <td>-0.022104</td>\n",
              "      <td>0.092485</td>\n",
              "    </tr>\n",
              "    <tr>\n",
              "      <th>Arrival_hour</th>\n",
              "      <td>0.038140</td>\n",
              "      <td>0.024244</td>\n",
              "      <td>-0.003245</td>\n",
              "      <td>-0.003927</td>\n",
              "      <td>0.005180</td>\n",
              "      <td>0.043122</td>\n",
              "      <td>1.000000</td>\n",
              "      <td>-0.154363</td>\n",
              "      <td>0.055276</td>\n",
              "      <td>-0.118309</td>\n",
              "    </tr>\n",
              "    <tr>\n",
              "      <th>Arrival_min</th>\n",
              "      <td>-0.106940</td>\n",
              "      <td>-0.086155</td>\n",
              "      <td>-0.017510</td>\n",
              "      <td>-0.100626</td>\n",
              "      <td>0.067911</td>\n",
              "      <td>-0.017597</td>\n",
              "      <td>-0.154363</td>\n",
              "      <td>1.000000</td>\n",
              "      <td>-0.074450</td>\n",
              "      <td>0.151628</td>\n",
              "    </tr>\n",
              "    <tr>\n",
              "      <th>Duration_hours</th>\n",
              "      <td>0.739916</td>\n",
              "      <td>0.508778</td>\n",
              "      <td>-0.022059</td>\n",
              "      <td>0.016141</td>\n",
              "      <td>0.002869</td>\n",
              "      <td>-0.022104</td>\n",
              "      <td>0.055276</td>\n",
              "      <td>-0.074450</td>\n",
              "      <td>1.000000</td>\n",
              "      <td>-0.126468</td>\n",
              "    </tr>\n",
              "    <tr>\n",
              "      <th>Duration_mins</th>\n",
              "      <td>-0.136706</td>\n",
              "      <td>-0.124855</td>\n",
              "      <td>-0.008940</td>\n",
              "      <td>-0.040897</td>\n",
              "      <td>-0.023707</td>\n",
              "      <td>0.092485</td>\n",
              "      <td>-0.118309</td>\n",
              "      <td>0.151628</td>\n",
              "      <td>-0.126468</td>\n",
              "      <td>1.000000</td>\n",
              "    </tr>\n",
              "  </tbody>\n",
              "</table>\n",
              "</div>"
            ],
            "text/plain": [
              "                Total_Stops     Price  ...  Duration_hours  Duration_mins\n",
              "Total_Stops        1.000000  0.603897  ...        0.739916      -0.136706\n",
              "Price              0.603897  1.000000  ...        0.508778      -0.124855\n",
              "Journey_day       -0.009451 -0.153774  ...       -0.022059      -0.008940\n",
              "Journey_month      0.054383 -0.103643  ...        0.016141      -0.040897\n",
              "Departure_hour    -0.061476  0.006799  ...        0.002869      -0.023707\n",
              "Departure_min     -0.002618 -0.024458  ...       -0.022104       0.092485\n",
              "Arrival_hour       0.038140  0.024244  ...        0.055276      -0.118309\n",
              "Arrival_min       -0.106940 -0.086155  ...       -0.074450       0.151628\n",
              "Duration_hours     0.739916  0.508778  ...        1.000000      -0.126468\n",
              "Duration_mins     -0.136706 -0.124855  ...       -0.126468       1.000000\n",
              "\n",
              "[10 rows x 10 columns]"
            ]
          },
          "metadata": {
            "tags": []
          },
          "execution_count": 1149
        }
      ]
    },
    {
      "cell_type": "code",
      "metadata": {
        "colab": {
          "base_uri": "https://localhost:8080/"
        },
        "id": "mDMknxPzP8vV",
        "outputId": "1e9815f0-8154-4b93-acf7-f5369f1d8064"
      },
      "source": [
        "train_data.columns"
      ],
      "execution_count": 1150,
      "outputs": [
        {
          "output_type": "execute_result",
          "data": {
            "text/plain": [
              "Index(['Airline', 'Source', 'Destination', 'Route', 'Total_Stops', 'Price',\n",
              "       'Journey_day', 'Journey_month', 'Departure_hour', 'Departure_min',\n",
              "       'Arrival_hour', 'Arrival_min', 'Duration_hours', 'Duration_mins'],\n",
              "      dtype='object')"
            ]
          },
          "metadata": {
            "tags": []
          },
          "execution_count": 1150
        }
      ]
    },
    {
      "cell_type": "code",
      "metadata": {
        "colab": {
          "base_uri": "https://localhost:8080/"
        },
        "id": "m-scUSHiQDIm",
        "outputId": "68500a8e-503b-403f-d018-7ee809c659f6"
      },
      "source": [
        "train_data['Route'].value_counts"
      ],
      "execution_count": 1151,
      "outputs": [
        {
          "output_type": "execute_result",
          "data": {
            "text/plain": [
              "<bound method IndexOpsMixin.value_counts of 0                    BLR → DEL\n",
              "1        CCU → IXR → BBI → BLR\n",
              "2        DEL → LKO → BOM → COK\n",
              "3              CCU → NAG → BLR\n",
              "4              BLR → NAG → DEL\n",
              "                 ...          \n",
              "10678                CCU → BLR\n",
              "10679                CCU → BLR\n",
              "10680                BLR → DEL\n",
              "10681                BLR → DEL\n",
              "10682    DEL → GOI → BOM → COK\n",
              "Name: Route, Length: 10682, dtype: object>"
            ]
          },
          "metadata": {
            "tags": []
          },
          "execution_count": 1151
        }
      ]
    },
    {
      "cell_type": "code",
      "metadata": {
        "colab": {
          "base_uri": "https://localhost:8080/",
          "height": 379
        },
        "id": "DfCJAYNgQQv1",
        "outputId": "93c97954-ca40-41c1-8af6-4675215fc18e"
      },
      "source": [
        "train_data.corr()"
      ],
      "execution_count": 1152,
      "outputs": [
        {
          "output_type": "execute_result",
          "data": {
            "text/html": [
              "<div>\n",
              "<style scoped>\n",
              "    .dataframe tbody tr th:only-of-type {\n",
              "        vertical-align: middle;\n",
              "    }\n",
              "\n",
              "    .dataframe tbody tr th {\n",
              "        vertical-align: top;\n",
              "    }\n",
              "\n",
              "    .dataframe thead th {\n",
              "        text-align: right;\n",
              "    }\n",
              "</style>\n",
              "<table border=\"1\" class=\"dataframe\">\n",
              "  <thead>\n",
              "    <tr style=\"text-align: right;\">\n",
              "      <th></th>\n",
              "      <th>Total_Stops</th>\n",
              "      <th>Price</th>\n",
              "      <th>Journey_day</th>\n",
              "      <th>Journey_month</th>\n",
              "      <th>Departure_hour</th>\n",
              "      <th>Departure_min</th>\n",
              "      <th>Arrival_hour</th>\n",
              "      <th>Arrival_min</th>\n",
              "      <th>Duration_hours</th>\n",
              "      <th>Duration_mins</th>\n",
              "    </tr>\n",
              "  </thead>\n",
              "  <tbody>\n",
              "    <tr>\n",
              "      <th>Total_Stops</th>\n",
              "      <td>1.000000</td>\n",
              "      <td>0.603897</td>\n",
              "      <td>-0.009451</td>\n",
              "      <td>0.054383</td>\n",
              "      <td>-0.061476</td>\n",
              "      <td>-0.002618</td>\n",
              "      <td>0.038140</td>\n",
              "      <td>-0.106940</td>\n",
              "      <td>0.739916</td>\n",
              "      <td>-0.136706</td>\n",
              "    </tr>\n",
              "    <tr>\n",
              "      <th>Price</th>\n",
              "      <td>0.603897</td>\n",
              "      <td>1.000000</td>\n",
              "      <td>-0.153774</td>\n",
              "      <td>-0.103643</td>\n",
              "      <td>0.006799</td>\n",
              "      <td>-0.024458</td>\n",
              "      <td>0.024244</td>\n",
              "      <td>-0.086155</td>\n",
              "      <td>0.508778</td>\n",
              "      <td>-0.124855</td>\n",
              "    </tr>\n",
              "    <tr>\n",
              "      <th>Journey_day</th>\n",
              "      <td>-0.009451</td>\n",
              "      <td>-0.153774</td>\n",
              "      <td>1.000000</td>\n",
              "      <td>-0.038359</td>\n",
              "      <td>0.002170</td>\n",
              "      <td>-0.008170</td>\n",
              "      <td>-0.003245</td>\n",
              "      <td>-0.017510</td>\n",
              "      <td>-0.022059</td>\n",
              "      <td>-0.008940</td>\n",
              "    </tr>\n",
              "    <tr>\n",
              "      <th>Journey_month</th>\n",
              "      <td>0.054383</td>\n",
              "      <td>-0.103643</td>\n",
              "      <td>-0.038359</td>\n",
              "      <td>1.000000</td>\n",
              "      <td>0.039127</td>\n",
              "      <td>-0.059267</td>\n",
              "      <td>-0.003927</td>\n",
              "      <td>-0.100626</td>\n",
              "      <td>0.016141</td>\n",
              "      <td>-0.040897</td>\n",
              "    </tr>\n",
              "    <tr>\n",
              "      <th>Departure_hour</th>\n",
              "      <td>-0.061476</td>\n",
              "      <td>0.006799</td>\n",
              "      <td>0.002170</td>\n",
              "      <td>0.039127</td>\n",
              "      <td>1.000000</td>\n",
              "      <td>-0.024745</td>\n",
              "      <td>0.005180</td>\n",
              "      <td>0.067911</td>\n",
              "      <td>0.002869</td>\n",
              "      <td>-0.023707</td>\n",
              "    </tr>\n",
              "    <tr>\n",
              "      <th>Departure_min</th>\n",
              "      <td>-0.002618</td>\n",
              "      <td>-0.024458</td>\n",
              "      <td>-0.008170</td>\n",
              "      <td>-0.059267</td>\n",
              "      <td>-0.024745</td>\n",
              "      <td>1.000000</td>\n",
              "      <td>0.043122</td>\n",
              "      <td>-0.017597</td>\n",
              "      <td>-0.022104</td>\n",
              "      <td>0.092485</td>\n",
              "    </tr>\n",
              "    <tr>\n",
              "      <th>Arrival_hour</th>\n",
              "      <td>0.038140</td>\n",
              "      <td>0.024244</td>\n",
              "      <td>-0.003245</td>\n",
              "      <td>-0.003927</td>\n",
              "      <td>0.005180</td>\n",
              "      <td>0.043122</td>\n",
              "      <td>1.000000</td>\n",
              "      <td>-0.154363</td>\n",
              "      <td>0.055276</td>\n",
              "      <td>-0.118309</td>\n",
              "    </tr>\n",
              "    <tr>\n",
              "      <th>Arrival_min</th>\n",
              "      <td>-0.106940</td>\n",
              "      <td>-0.086155</td>\n",
              "      <td>-0.017510</td>\n",
              "      <td>-0.100626</td>\n",
              "      <td>0.067911</td>\n",
              "      <td>-0.017597</td>\n",
              "      <td>-0.154363</td>\n",
              "      <td>1.000000</td>\n",
              "      <td>-0.074450</td>\n",
              "      <td>0.151628</td>\n",
              "    </tr>\n",
              "    <tr>\n",
              "      <th>Duration_hours</th>\n",
              "      <td>0.739916</td>\n",
              "      <td>0.508778</td>\n",
              "      <td>-0.022059</td>\n",
              "      <td>0.016141</td>\n",
              "      <td>0.002869</td>\n",
              "      <td>-0.022104</td>\n",
              "      <td>0.055276</td>\n",
              "      <td>-0.074450</td>\n",
              "      <td>1.000000</td>\n",
              "      <td>-0.126468</td>\n",
              "    </tr>\n",
              "    <tr>\n",
              "      <th>Duration_mins</th>\n",
              "      <td>-0.136706</td>\n",
              "      <td>-0.124855</td>\n",
              "      <td>-0.008940</td>\n",
              "      <td>-0.040897</td>\n",
              "      <td>-0.023707</td>\n",
              "      <td>0.092485</td>\n",
              "      <td>-0.118309</td>\n",
              "      <td>0.151628</td>\n",
              "      <td>-0.126468</td>\n",
              "      <td>1.000000</td>\n",
              "    </tr>\n",
              "  </tbody>\n",
              "</table>\n",
              "</div>"
            ],
            "text/plain": [
              "                Total_Stops     Price  ...  Duration_hours  Duration_mins\n",
              "Total_Stops        1.000000  0.603897  ...        0.739916      -0.136706\n",
              "Price              0.603897  1.000000  ...        0.508778      -0.124855\n",
              "Journey_day       -0.009451 -0.153774  ...       -0.022059      -0.008940\n",
              "Journey_month      0.054383 -0.103643  ...        0.016141      -0.040897\n",
              "Departure_hour    -0.061476  0.006799  ...        0.002869      -0.023707\n",
              "Departure_min     -0.002618 -0.024458  ...       -0.022104       0.092485\n",
              "Arrival_hour       0.038140  0.024244  ...        0.055276      -0.118309\n",
              "Arrival_min       -0.106940 -0.086155  ...       -0.074450       0.151628\n",
              "Duration_hours     0.739916  0.508778  ...        1.000000      -0.126468\n",
              "Duration_mins     -0.136706 -0.124855  ...       -0.126468       1.000000\n",
              "\n",
              "[10 rows x 10 columns]"
            ]
          },
          "metadata": {
            "tags": []
          },
          "execution_count": 1152
        }
      ]
    },
    {
      "cell_type": "code",
      "metadata": {
        "colab": {
          "base_uri": "https://localhost:8080/",
          "height": 379
        },
        "id": "-DR8spijQpzg",
        "outputId": "77db7af6-695f-42e3-bd13-e57a8a5de90d"
      },
      "source": [
        "train_data.corr()"
      ],
      "execution_count": 1153,
      "outputs": [
        {
          "output_type": "execute_result",
          "data": {
            "text/html": [
              "<div>\n",
              "<style scoped>\n",
              "    .dataframe tbody tr th:only-of-type {\n",
              "        vertical-align: middle;\n",
              "    }\n",
              "\n",
              "    .dataframe tbody tr th {\n",
              "        vertical-align: top;\n",
              "    }\n",
              "\n",
              "    .dataframe thead th {\n",
              "        text-align: right;\n",
              "    }\n",
              "</style>\n",
              "<table border=\"1\" class=\"dataframe\">\n",
              "  <thead>\n",
              "    <tr style=\"text-align: right;\">\n",
              "      <th></th>\n",
              "      <th>Total_Stops</th>\n",
              "      <th>Price</th>\n",
              "      <th>Journey_day</th>\n",
              "      <th>Journey_month</th>\n",
              "      <th>Departure_hour</th>\n",
              "      <th>Departure_min</th>\n",
              "      <th>Arrival_hour</th>\n",
              "      <th>Arrival_min</th>\n",
              "      <th>Duration_hours</th>\n",
              "      <th>Duration_mins</th>\n",
              "    </tr>\n",
              "  </thead>\n",
              "  <tbody>\n",
              "    <tr>\n",
              "      <th>Total_Stops</th>\n",
              "      <td>1.000000</td>\n",
              "      <td>0.603897</td>\n",
              "      <td>-0.009451</td>\n",
              "      <td>0.054383</td>\n",
              "      <td>-0.061476</td>\n",
              "      <td>-0.002618</td>\n",
              "      <td>0.038140</td>\n",
              "      <td>-0.106940</td>\n",
              "      <td>0.739916</td>\n",
              "      <td>-0.136706</td>\n",
              "    </tr>\n",
              "    <tr>\n",
              "      <th>Price</th>\n",
              "      <td>0.603897</td>\n",
              "      <td>1.000000</td>\n",
              "      <td>-0.153774</td>\n",
              "      <td>-0.103643</td>\n",
              "      <td>0.006799</td>\n",
              "      <td>-0.024458</td>\n",
              "      <td>0.024244</td>\n",
              "      <td>-0.086155</td>\n",
              "      <td>0.508778</td>\n",
              "      <td>-0.124855</td>\n",
              "    </tr>\n",
              "    <tr>\n",
              "      <th>Journey_day</th>\n",
              "      <td>-0.009451</td>\n",
              "      <td>-0.153774</td>\n",
              "      <td>1.000000</td>\n",
              "      <td>-0.038359</td>\n",
              "      <td>0.002170</td>\n",
              "      <td>-0.008170</td>\n",
              "      <td>-0.003245</td>\n",
              "      <td>-0.017510</td>\n",
              "      <td>-0.022059</td>\n",
              "      <td>-0.008940</td>\n",
              "    </tr>\n",
              "    <tr>\n",
              "      <th>Journey_month</th>\n",
              "      <td>0.054383</td>\n",
              "      <td>-0.103643</td>\n",
              "      <td>-0.038359</td>\n",
              "      <td>1.000000</td>\n",
              "      <td>0.039127</td>\n",
              "      <td>-0.059267</td>\n",
              "      <td>-0.003927</td>\n",
              "      <td>-0.100626</td>\n",
              "      <td>0.016141</td>\n",
              "      <td>-0.040897</td>\n",
              "    </tr>\n",
              "    <tr>\n",
              "      <th>Departure_hour</th>\n",
              "      <td>-0.061476</td>\n",
              "      <td>0.006799</td>\n",
              "      <td>0.002170</td>\n",
              "      <td>0.039127</td>\n",
              "      <td>1.000000</td>\n",
              "      <td>-0.024745</td>\n",
              "      <td>0.005180</td>\n",
              "      <td>0.067911</td>\n",
              "      <td>0.002869</td>\n",
              "      <td>-0.023707</td>\n",
              "    </tr>\n",
              "    <tr>\n",
              "      <th>Departure_min</th>\n",
              "      <td>-0.002618</td>\n",
              "      <td>-0.024458</td>\n",
              "      <td>-0.008170</td>\n",
              "      <td>-0.059267</td>\n",
              "      <td>-0.024745</td>\n",
              "      <td>1.000000</td>\n",
              "      <td>0.043122</td>\n",
              "      <td>-0.017597</td>\n",
              "      <td>-0.022104</td>\n",
              "      <td>0.092485</td>\n",
              "    </tr>\n",
              "    <tr>\n",
              "      <th>Arrival_hour</th>\n",
              "      <td>0.038140</td>\n",
              "      <td>0.024244</td>\n",
              "      <td>-0.003245</td>\n",
              "      <td>-0.003927</td>\n",
              "      <td>0.005180</td>\n",
              "      <td>0.043122</td>\n",
              "      <td>1.000000</td>\n",
              "      <td>-0.154363</td>\n",
              "      <td>0.055276</td>\n",
              "      <td>-0.118309</td>\n",
              "    </tr>\n",
              "    <tr>\n",
              "      <th>Arrival_min</th>\n",
              "      <td>-0.106940</td>\n",
              "      <td>-0.086155</td>\n",
              "      <td>-0.017510</td>\n",
              "      <td>-0.100626</td>\n",
              "      <td>0.067911</td>\n",
              "      <td>-0.017597</td>\n",
              "      <td>-0.154363</td>\n",
              "      <td>1.000000</td>\n",
              "      <td>-0.074450</td>\n",
              "      <td>0.151628</td>\n",
              "    </tr>\n",
              "    <tr>\n",
              "      <th>Duration_hours</th>\n",
              "      <td>0.739916</td>\n",
              "      <td>0.508778</td>\n",
              "      <td>-0.022059</td>\n",
              "      <td>0.016141</td>\n",
              "      <td>0.002869</td>\n",
              "      <td>-0.022104</td>\n",
              "      <td>0.055276</td>\n",
              "      <td>-0.074450</td>\n",
              "      <td>1.000000</td>\n",
              "      <td>-0.126468</td>\n",
              "    </tr>\n",
              "    <tr>\n",
              "      <th>Duration_mins</th>\n",
              "      <td>-0.136706</td>\n",
              "      <td>-0.124855</td>\n",
              "      <td>-0.008940</td>\n",
              "      <td>-0.040897</td>\n",
              "      <td>-0.023707</td>\n",
              "      <td>0.092485</td>\n",
              "      <td>-0.118309</td>\n",
              "      <td>0.151628</td>\n",
              "      <td>-0.126468</td>\n",
              "      <td>1.000000</td>\n",
              "    </tr>\n",
              "  </tbody>\n",
              "</table>\n",
              "</div>"
            ],
            "text/plain": [
              "                Total_Stops     Price  ...  Duration_hours  Duration_mins\n",
              "Total_Stops        1.000000  0.603897  ...        0.739916      -0.136706\n",
              "Price              0.603897  1.000000  ...        0.508778      -0.124855\n",
              "Journey_day       -0.009451 -0.153774  ...       -0.022059      -0.008940\n",
              "Journey_month      0.054383 -0.103643  ...        0.016141      -0.040897\n",
              "Departure_hour    -0.061476  0.006799  ...        0.002869      -0.023707\n",
              "Departure_min     -0.002618 -0.024458  ...       -0.022104       0.092485\n",
              "Arrival_hour       0.038140  0.024244  ...        0.055276      -0.118309\n",
              "Arrival_min       -0.106940 -0.086155  ...       -0.074450       0.151628\n",
              "Duration_hours     0.739916  0.508778  ...        1.000000      -0.126468\n",
              "Duration_mins     -0.136706 -0.124855  ...       -0.126468       1.000000\n",
              "\n",
              "[10 rows x 10 columns]"
            ]
          },
          "metadata": {
            "tags": []
          },
          "execution_count": 1153
        }
      ]
    },
    {
      "cell_type": "code",
      "metadata": {
        "id": "-nfVoRl8QsDU"
      },
      "source": [
        "data_train = pd.concat([train_data, Airline, Source, Destination], axis = 1)"
      ],
      "execution_count": 1154,
      "outputs": []
    },
    {
      "cell_type": "code",
      "metadata": {
        "colab": {
          "base_uri": "https://localhost:8080/",
          "height": 632
        },
        "id": "JvGFV0WcQxAx",
        "outputId": "122c6baa-633b-46c3-c8d7-c926fff72fa4"
      },
      "source": [
        "data_train.head()"
      ],
      "execution_count": 1155,
      "outputs": [
        {
          "output_type": "execute_result",
          "data": {
            "text/html": [
              "<div>\n",
              "<style scoped>\n",
              "    .dataframe tbody tr th:only-of-type {\n",
              "        vertical-align: middle;\n",
              "    }\n",
              "\n",
              "    .dataframe tbody tr th {\n",
              "        vertical-align: top;\n",
              "    }\n",
              "\n",
              "    .dataframe thead th {\n",
              "        text-align: right;\n",
              "    }\n",
              "</style>\n",
              "<table border=\"1\" class=\"dataframe\">\n",
              "  <thead>\n",
              "    <tr style=\"text-align: right;\">\n",
              "      <th></th>\n",
              "      <th>Airline</th>\n",
              "      <th>Source</th>\n",
              "      <th>Destination</th>\n",
              "      <th>Route</th>\n",
              "      <th>Total_Stops</th>\n",
              "      <th>Price</th>\n",
              "      <th>Journey_day</th>\n",
              "      <th>Journey_month</th>\n",
              "      <th>Departure_hour</th>\n",
              "      <th>Departure_min</th>\n",
              "      <th>Arrival_hour</th>\n",
              "      <th>Arrival_min</th>\n",
              "      <th>Duration_hours</th>\n",
              "      <th>Duration_mins</th>\n",
              "      <th>Airline_Air India</th>\n",
              "      <th>Airline_GoAir</th>\n",
              "      <th>Airline_IndiGo</th>\n",
              "      <th>Airline_Jet Airways</th>\n",
              "      <th>Airline_Jet Airways Business</th>\n",
              "      <th>Airline_Multiple carriers</th>\n",
              "      <th>Airline_Multiple carriers Premium economy</th>\n",
              "      <th>Airline_SpiceJet</th>\n",
              "      <th>Airline_Trujet</th>\n",
              "      <th>Airline_Vistara</th>\n",
              "      <th>Airline_Vistara Premium economy</th>\n",
              "      <th>Source_Chennai</th>\n",
              "      <th>Source_Delhi</th>\n",
              "      <th>Source_Kolkata</th>\n",
              "      <th>Source_Mumbai</th>\n",
              "      <th>Destination_Cochin</th>\n",
              "      <th>Destination_Delhi</th>\n",
              "      <th>Destination_Hyderabad</th>\n",
              "      <th>Destination_Kolkata</th>\n",
              "      <th>Destination_New Delhi</th>\n",
              "    </tr>\n",
              "  </thead>\n",
              "  <tbody>\n",
              "    <tr>\n",
              "      <th>0</th>\n",
              "      <td>IndiGo</td>\n",
              "      <td>Banglore</td>\n",
              "      <td>New Delhi</td>\n",
              "      <td>BLR → DEL</td>\n",
              "      <td>0</td>\n",
              "      <td>3897</td>\n",
              "      <td>24</td>\n",
              "      <td>3</td>\n",
              "      <td>22</td>\n",
              "      <td>20</td>\n",
              "      <td>1</td>\n",
              "      <td>10</td>\n",
              "      <td>2</td>\n",
              "      <td>50</td>\n",
              "      <td>0</td>\n",
              "      <td>0</td>\n",
              "      <td>1</td>\n",
              "      <td>0</td>\n",
              "      <td>0</td>\n",
              "      <td>0</td>\n",
              "      <td>0</td>\n",
              "      <td>0</td>\n",
              "      <td>0</td>\n",
              "      <td>0</td>\n",
              "      <td>0</td>\n",
              "      <td>0</td>\n",
              "      <td>0</td>\n",
              "      <td>0</td>\n",
              "      <td>0</td>\n",
              "      <td>0</td>\n",
              "      <td>0</td>\n",
              "      <td>0</td>\n",
              "      <td>0</td>\n",
              "      <td>1</td>\n",
              "    </tr>\n",
              "    <tr>\n",
              "      <th>1</th>\n",
              "      <td>Air India</td>\n",
              "      <td>Kolkata</td>\n",
              "      <td>Banglore</td>\n",
              "      <td>CCU → IXR → BBI → BLR</td>\n",
              "      <td>2</td>\n",
              "      <td>7662</td>\n",
              "      <td>1</td>\n",
              "      <td>5</td>\n",
              "      <td>5</td>\n",
              "      <td>50</td>\n",
              "      <td>13</td>\n",
              "      <td>15</td>\n",
              "      <td>7</td>\n",
              "      <td>25</td>\n",
              "      <td>1</td>\n",
              "      <td>0</td>\n",
              "      <td>0</td>\n",
              "      <td>0</td>\n",
              "      <td>0</td>\n",
              "      <td>0</td>\n",
              "      <td>0</td>\n",
              "      <td>0</td>\n",
              "      <td>0</td>\n",
              "      <td>0</td>\n",
              "      <td>0</td>\n",
              "      <td>0</td>\n",
              "      <td>0</td>\n",
              "      <td>1</td>\n",
              "      <td>0</td>\n",
              "      <td>0</td>\n",
              "      <td>0</td>\n",
              "      <td>0</td>\n",
              "      <td>0</td>\n",
              "      <td>0</td>\n",
              "    </tr>\n",
              "    <tr>\n",
              "      <th>2</th>\n",
              "      <td>Jet Airways</td>\n",
              "      <td>Delhi</td>\n",
              "      <td>Cochin</td>\n",
              "      <td>DEL → LKO → BOM → COK</td>\n",
              "      <td>2</td>\n",
              "      <td>13882</td>\n",
              "      <td>9</td>\n",
              "      <td>6</td>\n",
              "      <td>9</td>\n",
              "      <td>25</td>\n",
              "      <td>4</td>\n",
              "      <td>25</td>\n",
              "      <td>19</td>\n",
              "      <td>0</td>\n",
              "      <td>0</td>\n",
              "      <td>0</td>\n",
              "      <td>0</td>\n",
              "      <td>1</td>\n",
              "      <td>0</td>\n",
              "      <td>0</td>\n",
              "      <td>0</td>\n",
              "      <td>0</td>\n",
              "      <td>0</td>\n",
              "      <td>0</td>\n",
              "      <td>0</td>\n",
              "      <td>0</td>\n",
              "      <td>1</td>\n",
              "      <td>0</td>\n",
              "      <td>0</td>\n",
              "      <td>1</td>\n",
              "      <td>0</td>\n",
              "      <td>0</td>\n",
              "      <td>0</td>\n",
              "      <td>0</td>\n",
              "    </tr>\n",
              "    <tr>\n",
              "      <th>3</th>\n",
              "      <td>IndiGo</td>\n",
              "      <td>Kolkata</td>\n",
              "      <td>Banglore</td>\n",
              "      <td>CCU → NAG → BLR</td>\n",
              "      <td>1</td>\n",
              "      <td>6218</td>\n",
              "      <td>12</td>\n",
              "      <td>5</td>\n",
              "      <td>18</td>\n",
              "      <td>5</td>\n",
              "      <td>23</td>\n",
              "      <td>30</td>\n",
              "      <td>5</td>\n",
              "      <td>25</td>\n",
              "      <td>0</td>\n",
              "      <td>0</td>\n",
              "      <td>1</td>\n",
              "      <td>0</td>\n",
              "      <td>0</td>\n",
              "      <td>0</td>\n",
              "      <td>0</td>\n",
              "      <td>0</td>\n",
              "      <td>0</td>\n",
              "      <td>0</td>\n",
              "      <td>0</td>\n",
              "      <td>0</td>\n",
              "      <td>0</td>\n",
              "      <td>1</td>\n",
              "      <td>0</td>\n",
              "      <td>0</td>\n",
              "      <td>0</td>\n",
              "      <td>0</td>\n",
              "      <td>0</td>\n",
              "      <td>0</td>\n",
              "    </tr>\n",
              "    <tr>\n",
              "      <th>4</th>\n",
              "      <td>IndiGo</td>\n",
              "      <td>Banglore</td>\n",
              "      <td>New Delhi</td>\n",
              "      <td>BLR → NAG → DEL</td>\n",
              "      <td>1</td>\n",
              "      <td>13302</td>\n",
              "      <td>1</td>\n",
              "      <td>3</td>\n",
              "      <td>16</td>\n",
              "      <td>50</td>\n",
              "      <td>21</td>\n",
              "      <td>35</td>\n",
              "      <td>4</td>\n",
              "      <td>45</td>\n",
              "      <td>0</td>\n",
              "      <td>0</td>\n",
              "      <td>1</td>\n",
              "      <td>0</td>\n",
              "      <td>0</td>\n",
              "      <td>0</td>\n",
              "      <td>0</td>\n",
              "      <td>0</td>\n",
              "      <td>0</td>\n",
              "      <td>0</td>\n",
              "      <td>0</td>\n",
              "      <td>0</td>\n",
              "      <td>0</td>\n",
              "      <td>0</td>\n",
              "      <td>0</td>\n",
              "      <td>0</td>\n",
              "      <td>0</td>\n",
              "      <td>0</td>\n",
              "      <td>0</td>\n",
              "      <td>1</td>\n",
              "    </tr>\n",
              "  </tbody>\n",
              "</table>\n",
              "</div>"
            ],
            "text/plain": [
              "       Airline    Source  ... Destination_Kolkata Destination_New Delhi\n",
              "0       IndiGo  Banglore  ...                   0                     1\n",
              "1    Air India   Kolkata  ...                   0                     0\n",
              "2  Jet Airways     Delhi  ...                   0                     0\n",
              "3       IndiGo   Kolkata  ...                   0                     0\n",
              "4       IndiGo  Banglore  ...                   0                     1\n",
              "\n",
              "[5 rows x 34 columns]"
            ]
          },
          "metadata": {
            "tags": []
          },
          "execution_count": 1155
        }
      ]
    },
    {
      "cell_type": "code",
      "metadata": {
        "id": "2ib1yfPdSPwI"
      },
      "source": [
        "data_train.drop([\"Airline\", \"Source\", \"Destination\"], axis = 1, inplace = True)"
      ],
      "execution_count": 1156,
      "outputs": []
    },
    {
      "cell_type": "code",
      "metadata": {
        "colab": {
          "base_uri": "https://localhost:8080/",
          "height": 632
        },
        "id": "mwM38kPIg1_a",
        "outputId": "be8f1689-1398-4b1f-a985-1bb28dbfce0e"
      },
      "source": [
        "data_train.head()"
      ],
      "execution_count": 1157,
      "outputs": [
        {
          "output_type": "execute_result",
          "data": {
            "text/html": [
              "<div>\n",
              "<style scoped>\n",
              "    .dataframe tbody tr th:only-of-type {\n",
              "        vertical-align: middle;\n",
              "    }\n",
              "\n",
              "    .dataframe tbody tr th {\n",
              "        vertical-align: top;\n",
              "    }\n",
              "\n",
              "    .dataframe thead th {\n",
              "        text-align: right;\n",
              "    }\n",
              "</style>\n",
              "<table border=\"1\" class=\"dataframe\">\n",
              "  <thead>\n",
              "    <tr style=\"text-align: right;\">\n",
              "      <th></th>\n",
              "      <th>Route</th>\n",
              "      <th>Total_Stops</th>\n",
              "      <th>Price</th>\n",
              "      <th>Journey_day</th>\n",
              "      <th>Journey_month</th>\n",
              "      <th>Departure_hour</th>\n",
              "      <th>Departure_min</th>\n",
              "      <th>Arrival_hour</th>\n",
              "      <th>Arrival_min</th>\n",
              "      <th>Duration_hours</th>\n",
              "      <th>Duration_mins</th>\n",
              "      <th>Airline_Air India</th>\n",
              "      <th>Airline_GoAir</th>\n",
              "      <th>Airline_IndiGo</th>\n",
              "      <th>Airline_Jet Airways</th>\n",
              "      <th>Airline_Jet Airways Business</th>\n",
              "      <th>Airline_Multiple carriers</th>\n",
              "      <th>Airline_Multiple carriers Premium economy</th>\n",
              "      <th>Airline_SpiceJet</th>\n",
              "      <th>Airline_Trujet</th>\n",
              "      <th>Airline_Vistara</th>\n",
              "      <th>Airline_Vistara Premium economy</th>\n",
              "      <th>Source_Chennai</th>\n",
              "      <th>Source_Delhi</th>\n",
              "      <th>Source_Kolkata</th>\n",
              "      <th>Source_Mumbai</th>\n",
              "      <th>Destination_Cochin</th>\n",
              "      <th>Destination_Delhi</th>\n",
              "      <th>Destination_Hyderabad</th>\n",
              "      <th>Destination_Kolkata</th>\n",
              "      <th>Destination_New Delhi</th>\n",
              "    </tr>\n",
              "  </thead>\n",
              "  <tbody>\n",
              "    <tr>\n",
              "      <th>0</th>\n",
              "      <td>BLR → DEL</td>\n",
              "      <td>0</td>\n",
              "      <td>3897</td>\n",
              "      <td>24</td>\n",
              "      <td>3</td>\n",
              "      <td>22</td>\n",
              "      <td>20</td>\n",
              "      <td>1</td>\n",
              "      <td>10</td>\n",
              "      <td>2</td>\n",
              "      <td>50</td>\n",
              "      <td>0</td>\n",
              "      <td>0</td>\n",
              "      <td>1</td>\n",
              "      <td>0</td>\n",
              "      <td>0</td>\n",
              "      <td>0</td>\n",
              "      <td>0</td>\n",
              "      <td>0</td>\n",
              "      <td>0</td>\n",
              "      <td>0</td>\n",
              "      <td>0</td>\n",
              "      <td>0</td>\n",
              "      <td>0</td>\n",
              "      <td>0</td>\n",
              "      <td>0</td>\n",
              "      <td>0</td>\n",
              "      <td>0</td>\n",
              "      <td>0</td>\n",
              "      <td>0</td>\n",
              "      <td>1</td>\n",
              "    </tr>\n",
              "    <tr>\n",
              "      <th>1</th>\n",
              "      <td>CCU → IXR → BBI → BLR</td>\n",
              "      <td>2</td>\n",
              "      <td>7662</td>\n",
              "      <td>1</td>\n",
              "      <td>5</td>\n",
              "      <td>5</td>\n",
              "      <td>50</td>\n",
              "      <td>13</td>\n",
              "      <td>15</td>\n",
              "      <td>7</td>\n",
              "      <td>25</td>\n",
              "      <td>1</td>\n",
              "      <td>0</td>\n",
              "      <td>0</td>\n",
              "      <td>0</td>\n",
              "      <td>0</td>\n",
              "      <td>0</td>\n",
              "      <td>0</td>\n",
              "      <td>0</td>\n",
              "      <td>0</td>\n",
              "      <td>0</td>\n",
              "      <td>0</td>\n",
              "      <td>0</td>\n",
              "      <td>0</td>\n",
              "      <td>1</td>\n",
              "      <td>0</td>\n",
              "      <td>0</td>\n",
              "      <td>0</td>\n",
              "      <td>0</td>\n",
              "      <td>0</td>\n",
              "      <td>0</td>\n",
              "    </tr>\n",
              "    <tr>\n",
              "      <th>2</th>\n",
              "      <td>DEL → LKO → BOM → COK</td>\n",
              "      <td>2</td>\n",
              "      <td>13882</td>\n",
              "      <td>9</td>\n",
              "      <td>6</td>\n",
              "      <td>9</td>\n",
              "      <td>25</td>\n",
              "      <td>4</td>\n",
              "      <td>25</td>\n",
              "      <td>19</td>\n",
              "      <td>0</td>\n",
              "      <td>0</td>\n",
              "      <td>0</td>\n",
              "      <td>0</td>\n",
              "      <td>1</td>\n",
              "      <td>0</td>\n",
              "      <td>0</td>\n",
              "      <td>0</td>\n",
              "      <td>0</td>\n",
              "      <td>0</td>\n",
              "      <td>0</td>\n",
              "      <td>0</td>\n",
              "      <td>0</td>\n",
              "      <td>1</td>\n",
              "      <td>0</td>\n",
              "      <td>0</td>\n",
              "      <td>1</td>\n",
              "      <td>0</td>\n",
              "      <td>0</td>\n",
              "      <td>0</td>\n",
              "      <td>0</td>\n",
              "    </tr>\n",
              "    <tr>\n",
              "      <th>3</th>\n",
              "      <td>CCU → NAG → BLR</td>\n",
              "      <td>1</td>\n",
              "      <td>6218</td>\n",
              "      <td>12</td>\n",
              "      <td>5</td>\n",
              "      <td>18</td>\n",
              "      <td>5</td>\n",
              "      <td>23</td>\n",
              "      <td>30</td>\n",
              "      <td>5</td>\n",
              "      <td>25</td>\n",
              "      <td>0</td>\n",
              "      <td>0</td>\n",
              "      <td>1</td>\n",
              "      <td>0</td>\n",
              "      <td>0</td>\n",
              "      <td>0</td>\n",
              "      <td>0</td>\n",
              "      <td>0</td>\n",
              "      <td>0</td>\n",
              "      <td>0</td>\n",
              "      <td>0</td>\n",
              "      <td>0</td>\n",
              "      <td>0</td>\n",
              "      <td>1</td>\n",
              "      <td>0</td>\n",
              "      <td>0</td>\n",
              "      <td>0</td>\n",
              "      <td>0</td>\n",
              "      <td>0</td>\n",
              "      <td>0</td>\n",
              "    </tr>\n",
              "    <tr>\n",
              "      <th>4</th>\n",
              "      <td>BLR → NAG → DEL</td>\n",
              "      <td>1</td>\n",
              "      <td>13302</td>\n",
              "      <td>1</td>\n",
              "      <td>3</td>\n",
              "      <td>16</td>\n",
              "      <td>50</td>\n",
              "      <td>21</td>\n",
              "      <td>35</td>\n",
              "      <td>4</td>\n",
              "      <td>45</td>\n",
              "      <td>0</td>\n",
              "      <td>0</td>\n",
              "      <td>1</td>\n",
              "      <td>0</td>\n",
              "      <td>0</td>\n",
              "      <td>0</td>\n",
              "      <td>0</td>\n",
              "      <td>0</td>\n",
              "      <td>0</td>\n",
              "      <td>0</td>\n",
              "      <td>0</td>\n",
              "      <td>0</td>\n",
              "      <td>0</td>\n",
              "      <td>0</td>\n",
              "      <td>0</td>\n",
              "      <td>0</td>\n",
              "      <td>0</td>\n",
              "      <td>0</td>\n",
              "      <td>0</td>\n",
              "      <td>1</td>\n",
              "    </tr>\n",
              "  </tbody>\n",
              "</table>\n",
              "</div>"
            ],
            "text/plain": [
              "                   Route  ...  Destination_New Delhi\n",
              "0              BLR → DEL  ...                      1\n",
              "1  CCU → IXR → BBI → BLR  ...                      0\n",
              "2  DEL → LKO → BOM → COK  ...                      0\n",
              "3        CCU → NAG → BLR  ...                      0\n",
              "4        BLR → NAG → DEL  ...                      1\n",
              "\n",
              "[5 rows x 31 columns]"
            ]
          },
          "metadata": {
            "tags": []
          },
          "execution_count": 1157
        }
      ]
    },
    {
      "cell_type": "code",
      "metadata": {
        "colab": {
          "base_uri": "https://localhost:8080/"
        },
        "id": "3pjd3m64jHZX",
        "outputId": "f3598ab0-9960-4735-9d6e-002bb054ea0e"
      },
      "source": [
        "data_train.shape"
      ],
      "execution_count": 1158,
      "outputs": [
        {
          "output_type": "execute_result",
          "data": {
            "text/plain": [
              "(10682, 31)"
            ]
          },
          "metadata": {
            "tags": []
          },
          "execution_count": 1158
        }
      ]
    },
    {
      "cell_type": "code",
      "metadata": {
        "id": "5TQQk0vLjK38"
      },
      "source": [
        "data_train.drop([\"Route\"], axis = 1, inplace = True)"
      ],
      "execution_count": 1159,
      "outputs": []
    },
    {
      "cell_type": "code",
      "metadata": {
        "colab": {
          "base_uri": "https://localhost:8080/"
        },
        "id": "7ajdS5XujSNz",
        "outputId": "390cee85-5a63-4d3b-fb93-c177ae9b4104"
      },
      "source": [
        "data_train.shape"
      ],
      "execution_count": 1160,
      "outputs": [
        {
          "output_type": "execute_result",
          "data": {
            "text/plain": [
              "(10682, 30)"
            ]
          },
          "metadata": {
            "tags": []
          },
          "execution_count": 1160
        }
      ]
    },
    {
      "cell_type": "code",
      "metadata": {
        "colab": {
          "base_uri": "https://localhost:8080/",
          "height": 1000
        },
        "id": "5iApST9HjTxl",
        "outputId": "1464e25a-9730-4bf5-c026-7f5f89540cb0"
      },
      "source": [
        "\r\n",
        "corr=data_train.corr()\r\n",
        "corr"
      ],
      "execution_count": 1161,
      "outputs": [
        {
          "output_type": "execute_result",
          "data": {
            "text/html": [
              "<div>\n",
              "<style scoped>\n",
              "    .dataframe tbody tr th:only-of-type {\n",
              "        vertical-align: middle;\n",
              "    }\n",
              "\n",
              "    .dataframe tbody tr th {\n",
              "        vertical-align: top;\n",
              "    }\n",
              "\n",
              "    .dataframe thead th {\n",
              "        text-align: right;\n",
              "    }\n",
              "</style>\n",
              "<table border=\"1\" class=\"dataframe\">\n",
              "  <thead>\n",
              "    <tr style=\"text-align: right;\">\n",
              "      <th></th>\n",
              "      <th>Total_Stops</th>\n",
              "      <th>Price</th>\n",
              "      <th>Journey_day</th>\n",
              "      <th>Journey_month</th>\n",
              "      <th>Departure_hour</th>\n",
              "      <th>Departure_min</th>\n",
              "      <th>Arrival_hour</th>\n",
              "      <th>Arrival_min</th>\n",
              "      <th>Duration_hours</th>\n",
              "      <th>Duration_mins</th>\n",
              "      <th>Airline_Air India</th>\n",
              "      <th>Airline_GoAir</th>\n",
              "      <th>Airline_IndiGo</th>\n",
              "      <th>Airline_Jet Airways</th>\n",
              "      <th>Airline_Jet Airways Business</th>\n",
              "      <th>Airline_Multiple carriers</th>\n",
              "      <th>Airline_Multiple carriers Premium economy</th>\n",
              "      <th>Airline_SpiceJet</th>\n",
              "      <th>Airline_Trujet</th>\n",
              "      <th>Airline_Vistara</th>\n",
              "      <th>Airline_Vistara Premium economy</th>\n",
              "      <th>Source_Chennai</th>\n",
              "      <th>Source_Delhi</th>\n",
              "      <th>Source_Kolkata</th>\n",
              "      <th>Source_Mumbai</th>\n",
              "      <th>Destination_Cochin</th>\n",
              "      <th>Destination_Delhi</th>\n",
              "      <th>Destination_Hyderabad</th>\n",
              "      <th>Destination_Kolkata</th>\n",
              "      <th>Destination_New Delhi</th>\n",
              "    </tr>\n",
              "  </thead>\n",
              "  <tbody>\n",
              "    <tr>\n",
              "      <th>Total_Stops</th>\n",
              "      <td>1.000000</td>\n",
              "      <td>0.603897</td>\n",
              "      <td>-0.009451</td>\n",
              "      <td>0.054383</td>\n",
              "      <td>-0.061476</td>\n",
              "      <td>-0.002618</td>\n",
              "      <td>0.038140</td>\n",
              "      <td>-0.106940</td>\n",
              "      <td>0.739916</td>\n",
              "      <td>-0.136706</td>\n",
              "      <td>0.271094</td>\n",
              "      <td>-0.060110</td>\n",
              "      <td>-0.302991</td>\n",
              "      <td>0.215063</td>\n",
              "      <td>0.017876</td>\n",
              "      <td>0.118399</td>\n",
              "      <td>0.009089</td>\n",
              "      <td>-0.274351</td>\n",
              "      <td>0.002519</td>\n",
              "      <td>-0.120447</td>\n",
              "      <td>-0.020459</td>\n",
              "      <td>-0.234758</td>\n",
              "      <td>0.490170</td>\n",
              "      <td>0.032761</td>\n",
              "      <td>-0.260752</td>\n",
              "      <td>0.490170</td>\n",
              "      <td>-0.447390</td>\n",
              "      <td>-0.260752</td>\n",
              "      <td>-0.234758</td>\n",
              "      <td>-0.015302</td>\n",
              "    </tr>\n",
              "    <tr>\n",
              "      <th>Price</th>\n",
              "      <td>0.603897</td>\n",
              "      <td>1.000000</td>\n",
              "      <td>-0.153774</td>\n",
              "      <td>-0.103643</td>\n",
              "      <td>0.006799</td>\n",
              "      <td>-0.024458</td>\n",
              "      <td>0.024244</td>\n",
              "      <td>-0.086155</td>\n",
              "      <td>0.508778</td>\n",
              "      <td>-0.124855</td>\n",
              "      <td>0.050432</td>\n",
              "      <td>-0.095151</td>\n",
              "      <td>-0.361070</td>\n",
              "      <td>0.416124</td>\n",
              "      <td>0.253303</td>\n",
              "      <td>0.139793</td>\n",
              "      <td>0.017650</td>\n",
              "      <td>-0.296565</td>\n",
              "      <td>-0.010381</td>\n",
              "      <td>-0.060654</td>\n",
              "      <td>-0.000454</td>\n",
              "      <td>-0.179223</td>\n",
              "      <td>0.270676</td>\n",
              "      <td>0.009358</td>\n",
              "      <td>-0.230755</td>\n",
              "      <td>0.270676</td>\n",
              "      <td>-0.313417</td>\n",
              "      <td>-0.230755</td>\n",
              "      <td>-0.179223</td>\n",
              "      <td>0.189777</td>\n",
              "    </tr>\n",
              "    <tr>\n",
              "      <th>Journey_day</th>\n",
              "      <td>-0.009451</td>\n",
              "      <td>-0.153774</td>\n",
              "      <td>1.000000</td>\n",
              "      <td>-0.038359</td>\n",
              "      <td>0.002170</td>\n",
              "      <td>-0.008170</td>\n",
              "      <td>-0.003245</td>\n",
              "      <td>-0.017510</td>\n",
              "      <td>-0.022059</td>\n",
              "      <td>-0.008940</td>\n",
              "      <td>-0.032490</td>\n",
              "      <td>-0.003122</td>\n",
              "      <td>0.007281</td>\n",
              "      <td>-0.017304</td>\n",
              "      <td>-0.031713</td>\n",
              "      <td>0.042163</td>\n",
              "      <td>0.030839</td>\n",
              "      <td>0.022154</td>\n",
              "      <td>-0.008569</td>\n",
              "      <td>-0.013169</td>\n",
              "      <td>-0.020115</td>\n",
              "      <td>0.006611</td>\n",
              "      <td>0.100088</td>\n",
              "      <td>-0.060558</td>\n",
              "      <td>-0.014030</td>\n",
              "      <td>0.100088</td>\n",
              "      <td>0.002632</td>\n",
              "      <td>-0.014030</td>\n",
              "      <td>0.006611</td>\n",
              "      <td>-0.075254</td>\n",
              "    </tr>\n",
              "    <tr>\n",
              "      <th>Journey_month</th>\n",
              "      <td>0.054383</td>\n",
              "      <td>-0.103643</td>\n",
              "      <td>-0.038359</td>\n",
              "      <td>1.000000</td>\n",
              "      <td>0.039127</td>\n",
              "      <td>-0.059267</td>\n",
              "      <td>-0.003927</td>\n",
              "      <td>-0.100626</td>\n",
              "      <td>0.016141</td>\n",
              "      <td>-0.040897</td>\n",
              "      <td>-0.045981</td>\n",
              "      <td>-0.004494</td>\n",
              "      <td>-0.048504</td>\n",
              "      <td>0.059735</td>\n",
              "      <td>-0.034787</td>\n",
              "      <td>0.053685</td>\n",
              "      <td>-0.051222</td>\n",
              "      <td>-0.011977</td>\n",
              "      <td>-0.014199</td>\n",
              "      <td>-0.017252</td>\n",
              "      <td>-0.019797</td>\n",
              "      <td>0.005650</td>\n",
              "      <td>0.139222</td>\n",
              "      <td>0.087177</td>\n",
              "      <td>-0.039352</td>\n",
              "      <td>0.139222</td>\n",
              "      <td>0.090490</td>\n",
              "      <td>-0.039352</td>\n",
              "      <td>0.005650</td>\n",
              "      <td>-0.453685</td>\n",
              "    </tr>\n",
              "    <tr>\n",
              "      <th>Departure_hour</th>\n",
              "      <td>-0.061476</td>\n",
              "      <td>0.006799</td>\n",
              "      <td>0.002170</td>\n",
              "      <td>0.039127</td>\n",
              "      <td>1.000000</td>\n",
              "      <td>-0.024745</td>\n",
              "      <td>0.005180</td>\n",
              "      <td>0.067911</td>\n",
              "      <td>0.002869</td>\n",
              "      <td>-0.023707</td>\n",
              "      <td>-0.012879</td>\n",
              "      <td>-0.016373</td>\n",
              "      <td>-0.023395</td>\n",
              "      <td>0.113942</td>\n",
              "      <td>-0.007524</td>\n",
              "      <td>-0.149992</td>\n",
              "      <td>-0.028672</td>\n",
              "      <td>-0.010451</td>\n",
              "      <td>0.000857</td>\n",
              "      <td>0.023906</td>\n",
              "      <td>-0.003375</td>\n",
              "      <td>-0.014846</td>\n",
              "      <td>-0.118780</td>\n",
              "      <td>0.155471</td>\n",
              "      <td>-0.017292</td>\n",
              "      <td>-0.118780</td>\n",
              "      <td>0.009469</td>\n",
              "      <td>-0.017292</td>\n",
              "      <td>-0.014846</td>\n",
              "      <td>-0.022138</td>\n",
              "    </tr>\n",
              "    <tr>\n",
              "      <th>Departure_min</th>\n",
              "      <td>-0.002618</td>\n",
              "      <td>-0.024458</td>\n",
              "      <td>-0.008170</td>\n",
              "      <td>-0.059267</td>\n",
              "      <td>-0.024745</td>\n",
              "      <td>1.000000</td>\n",
              "      <td>0.043122</td>\n",
              "      <td>-0.017597</td>\n",
              "      <td>-0.022104</td>\n",
              "      <td>0.092485</td>\n",
              "      <td>-0.045688</td>\n",
              "      <td>0.076751</td>\n",
              "      <td>-0.014714</td>\n",
              "      <td>0.024455</td>\n",
              "      <td>0.009168</td>\n",
              "      <td>-0.109370</td>\n",
              "      <td>-0.004624</td>\n",
              "      <td>0.092634</td>\n",
              "      <td>-0.010007</td>\n",
              "      <td>-0.077903</td>\n",
              "      <td>-0.011380</td>\n",
              "      <td>0.067110</td>\n",
              "      <td>-0.085534</td>\n",
              "      <td>-0.024238</td>\n",
              "      <td>0.037705</td>\n",
              "      <td>-0.085534</td>\n",
              "      <td>0.003200</td>\n",
              "      <td>0.037705</td>\n",
              "      <td>0.067110</td>\n",
              "      <td>0.107129</td>\n",
              "    </tr>\n",
              "    <tr>\n",
              "      <th>Arrival_hour</th>\n",
              "      <td>0.038140</td>\n",
              "      <td>0.024244</td>\n",
              "      <td>-0.003245</td>\n",
              "      <td>-0.003927</td>\n",
              "      <td>0.005180</td>\n",
              "      <td>0.043122</td>\n",
              "      <td>1.000000</td>\n",
              "      <td>-0.154363</td>\n",
              "      <td>0.055276</td>\n",
              "      <td>-0.118309</td>\n",
              "      <td>0.088872</td>\n",
              "      <td>0.018526</td>\n",
              "      <td>-0.071491</td>\n",
              "      <td>-0.027377</td>\n",
              "      <td>-0.014456</td>\n",
              "      <td>0.067930</td>\n",
              "      <td>0.013491</td>\n",
              "      <td>-0.090058</td>\n",
              "      <td>0.003739</td>\n",
              "      <td>0.068834</td>\n",
              "      <td>0.000776</td>\n",
              "      <td>-0.014795</td>\n",
              "      <td>-0.006790</td>\n",
              "      <td>0.054693</td>\n",
              "      <td>-0.033512</td>\n",
              "      <td>-0.006790</td>\n",
              "      <td>-0.030867</td>\n",
              "      <td>-0.033512</td>\n",
              "      <td>-0.014795</td>\n",
              "      <td>0.000366</td>\n",
              "    </tr>\n",
              "    <tr>\n",
              "      <th>Arrival_min</th>\n",
              "      <td>-0.106940</td>\n",
              "      <td>-0.086155</td>\n",
              "      <td>-0.017510</td>\n",
              "      <td>-0.100626</td>\n",
              "      <td>0.067911</td>\n",
              "      <td>-0.017597</td>\n",
              "      <td>-0.154363</td>\n",
              "      <td>1.000000</td>\n",
              "      <td>-0.074450</td>\n",
              "      <td>0.151628</td>\n",
              "      <td>0.061231</td>\n",
              "      <td>0.096839</td>\n",
              "      <td>0.035124</td>\n",
              "      <td>-0.057698</td>\n",
              "      <td>0.005232</td>\n",
              "      <td>-0.167455</td>\n",
              "      <td>-0.001786</td>\n",
              "      <td>0.012543</td>\n",
              "      <td>-0.002750</td>\n",
              "      <td>0.069422</td>\n",
              "      <td>0.000314</td>\n",
              "      <td>-0.030493</td>\n",
              "      <td>-0.209882</td>\n",
              "      <td>0.118573</td>\n",
              "      <td>0.081196</td>\n",
              "      <td>-0.209882</td>\n",
              "      <td>0.095250</td>\n",
              "      <td>0.081196</td>\n",
              "      <td>-0.030493</td>\n",
              "      <td>0.021271</td>\n",
              "    </tr>\n",
              "    <tr>\n",
              "      <th>Duration_hours</th>\n",
              "      <td>0.739916</td>\n",
              "      <td>0.508778</td>\n",
              "      <td>-0.022059</td>\n",
              "      <td>0.016141</td>\n",
              "      <td>0.002869</td>\n",
              "      <td>-0.022104</td>\n",
              "      <td>0.055276</td>\n",
              "      <td>-0.074450</td>\n",
              "      <td>1.000000</td>\n",
              "      <td>-0.126468</td>\n",
              "      <td>0.261707</td>\n",
              "      <td>-0.094044</td>\n",
              "      <td>-0.346230</td>\n",
              "      <td>0.307196</td>\n",
              "      <td>-0.011847</td>\n",
              "      <td>-0.008070</td>\n",
              "      <td>-0.002271</td>\n",
              "      <td>-0.263844</td>\n",
              "      <td>-0.008253</td>\n",
              "      <td>-0.020358</td>\n",
              "      <td>-0.016268</td>\n",
              "      <td>-0.186668</td>\n",
              "      <td>0.299819</td>\n",
              "      <td>0.123524</td>\n",
              "      <td>-0.233326</td>\n",
              "      <td>0.299819</td>\n",
              "      <td>-0.346192</td>\n",
              "      <td>-0.233326</td>\n",
              "      <td>-0.186668</td>\n",
              "      <td>0.004052</td>\n",
              "    </tr>\n",
              "    <tr>\n",
              "      <th>Duration_mins</th>\n",
              "      <td>-0.136706</td>\n",
              "      <td>-0.124855</td>\n",
              "      <td>-0.008940</td>\n",
              "      <td>-0.040897</td>\n",
              "      <td>-0.023707</td>\n",
              "      <td>0.092485</td>\n",
              "      <td>-0.118309</td>\n",
              "      <td>0.151628</td>\n",
              "      <td>-0.126468</td>\n",
              "      <td>1.000000</td>\n",
              "      <td>-0.033427</td>\n",
              "      <td>0.067215</td>\n",
              "      <td>0.119817</td>\n",
              "      <td>-0.084052</td>\n",
              "      <td>-0.002322</td>\n",
              "      <td>-0.118766</td>\n",
              "      <td>-0.006853</td>\n",
              "      <td>0.041319</td>\n",
              "      <td>-0.007610</td>\n",
              "      <td>0.041952</td>\n",
              "      <td>0.004952</td>\n",
              "      <td>-0.098823</td>\n",
              "      <td>-0.154126</td>\n",
              "      <td>0.013761</td>\n",
              "      <td>-0.018761</td>\n",
              "      <td>-0.154126</td>\n",
              "      <td>0.218207</td>\n",
              "      <td>-0.018761</td>\n",
              "      <td>-0.098823</td>\n",
              "      <td>0.079866</td>\n",
              "    </tr>\n",
              "    <tr>\n",
              "      <th>Airline_Air India</th>\n",
              "      <td>0.271094</td>\n",
              "      <td>0.050432</td>\n",
              "      <td>-0.032490</td>\n",
              "      <td>-0.045981</td>\n",
              "      <td>-0.012879</td>\n",
              "      <td>-0.045688</td>\n",
              "      <td>0.088872</td>\n",
              "      <td>0.061231</td>\n",
              "      <td>0.261707</td>\n",
              "      <td>-0.033427</td>\n",
              "      <td>1.000000</td>\n",
              "      <td>-0.060221</td>\n",
              "      <td>-0.215977</td>\n",
              "      <td>-0.332324</td>\n",
              "      <td>-0.010497</td>\n",
              "      <td>-0.157223</td>\n",
              "      <td>-0.015456</td>\n",
              "      <td>-0.127510</td>\n",
              "      <td>-0.004284</td>\n",
              "      <td>-0.095939</td>\n",
              "      <td>-0.007421</td>\n",
              "      <td>-0.051068</td>\n",
              "      <td>0.001257</td>\n",
              "      <td>0.023606</td>\n",
              "      <td>0.022268</td>\n",
              "      <td>0.001257</td>\n",
              "      <td>-0.068370</td>\n",
              "      <td>0.022268</td>\n",
              "      <td>-0.051068</td>\n",
              "      <td>0.053072</td>\n",
              "    </tr>\n",
              "    <tr>\n",
              "      <th>Airline_GoAir</th>\n",
              "      <td>-0.060110</td>\n",
              "      <td>-0.095151</td>\n",
              "      <td>-0.003122</td>\n",
              "      <td>-0.004494</td>\n",
              "      <td>-0.016373</td>\n",
              "      <td>0.076751</td>\n",
              "      <td>0.018526</td>\n",
              "      <td>0.096839</td>\n",
              "      <td>-0.094044</td>\n",
              "      <td>0.067215</td>\n",
              "      <td>-0.060221</td>\n",
              "      <td>1.000000</td>\n",
              "      <td>-0.066339</td>\n",
              "      <td>-0.102076</td>\n",
              "      <td>-0.003224</td>\n",
              "      <td>-0.048292</td>\n",
              "      <td>-0.004747</td>\n",
              "      <td>-0.039166</td>\n",
              "      <td>-0.001316</td>\n",
              "      <td>-0.029469</td>\n",
              "      <td>-0.002280</td>\n",
              "      <td>-0.026156</td>\n",
              "      <td>-0.009049</td>\n",
              "      <td>-0.042921</td>\n",
              "      <td>-0.035933</td>\n",
              "      <td>-0.009049</td>\n",
              "      <td>0.099863</td>\n",
              "      <td>-0.035933</td>\n",
              "      <td>-0.026156</td>\n",
              "      <td>0.017573</td>\n",
              "    </tr>\n",
              "    <tr>\n",
              "      <th>Airline_IndiGo</th>\n",
              "      <td>-0.302991</td>\n",
              "      <td>-0.361070</td>\n",
              "      <td>0.007281</td>\n",
              "      <td>-0.048504</td>\n",
              "      <td>-0.023395</td>\n",
              "      <td>-0.014714</td>\n",
              "      <td>-0.071491</td>\n",
              "      <td>0.035124</td>\n",
              "      <td>-0.346230</td>\n",
              "      <td>0.119817</td>\n",
              "      <td>-0.215977</td>\n",
              "      <td>-0.066339</td>\n",
              "      <td>1.000000</td>\n",
              "      <td>-0.366085</td>\n",
              "      <td>-0.011563</td>\n",
              "      <td>-0.173196</td>\n",
              "      <td>-0.017026</td>\n",
              "      <td>-0.140464</td>\n",
              "      <td>-0.004720</td>\n",
              "      <td>-0.105686</td>\n",
              "      <td>-0.008175</td>\n",
              "      <td>0.141911</td>\n",
              "      <td>-0.080168</td>\n",
              "      <td>-0.057229</td>\n",
              "      <td>0.059686</td>\n",
              "      <td>-0.080168</td>\n",
              "      <td>0.090354</td>\n",
              "      <td>0.059686</td>\n",
              "      <td>0.141911</td>\n",
              "      <td>-0.018626</td>\n",
              "    </tr>\n",
              "    <tr>\n",
              "      <th>Airline_Jet Airways</th>\n",
              "      <td>0.215063</td>\n",
              "      <td>0.416124</td>\n",
              "      <td>-0.017304</td>\n",
              "      <td>0.059735</td>\n",
              "      <td>0.113942</td>\n",
              "      <td>0.024455</td>\n",
              "      <td>-0.027377</td>\n",
              "      <td>-0.057698</td>\n",
              "      <td>0.307196</td>\n",
              "      <td>-0.084052</td>\n",
              "      <td>-0.332324</td>\n",
              "      <td>-0.102076</td>\n",
              "      <td>-0.366085</td>\n",
              "      <td>1.000000</td>\n",
              "      <td>-0.017793</td>\n",
              "      <td>-0.266497</td>\n",
              "      <td>-0.026199</td>\n",
              "      <td>-0.216132</td>\n",
              "      <td>-0.007262</td>\n",
              "      <td>-0.162619</td>\n",
              "      <td>-0.012580</td>\n",
              "      <td>-0.144341</td>\n",
              "      <td>-0.019108</td>\n",
              "      <td>0.097428</td>\n",
              "      <td>-0.025382</td>\n",
              "      <td>-0.019108</td>\n",
              "      <td>-0.051787</td>\n",
              "      <td>-0.025382</td>\n",
              "      <td>-0.144341</td>\n",
              "      <td>0.056782</td>\n",
              "    </tr>\n",
              "    <tr>\n",
              "      <th>Airline_Jet Airways Business</th>\n",
              "      <td>0.017876</td>\n",
              "      <td>0.253303</td>\n",
              "      <td>-0.031713</td>\n",
              "      <td>-0.034787</td>\n",
              "      <td>-0.007524</td>\n",
              "      <td>0.009168</td>\n",
              "      <td>-0.014456</td>\n",
              "      <td>0.005232</td>\n",
              "      <td>-0.011847</td>\n",
              "      <td>-0.002322</td>\n",
              "      <td>-0.010497</td>\n",
              "      <td>-0.003224</td>\n",
              "      <td>-0.011563</td>\n",
              "      <td>-0.017793</td>\n",
              "      <td>1.000000</td>\n",
              "      <td>-0.008418</td>\n",
              "      <td>-0.000828</td>\n",
              "      <td>-0.006827</td>\n",
              "      <td>-0.000229</td>\n",
              "      <td>-0.005137</td>\n",
              "      <td>-0.000397</td>\n",
              "      <td>-0.004559</td>\n",
              "      <td>-0.004379</td>\n",
              "      <td>-0.014373</td>\n",
              "      <td>-0.006263</td>\n",
              "      <td>-0.004379</td>\n",
              "      <td>-0.008689</td>\n",
              "      <td>-0.006263</td>\n",
              "      <td>-0.004559</td>\n",
              "      <td>0.048675</td>\n",
              "    </tr>\n",
              "    <tr>\n",
              "      <th>Airline_Multiple carriers</th>\n",
              "      <td>0.118399</td>\n",
              "      <td>0.139793</td>\n",
              "      <td>0.042163</td>\n",
              "      <td>0.053685</td>\n",
              "      <td>-0.149992</td>\n",
              "      <td>-0.109370</td>\n",
              "      <td>0.067930</td>\n",
              "      <td>-0.167455</td>\n",
              "      <td>-0.008070</td>\n",
              "      <td>-0.118766</td>\n",
              "      <td>-0.157223</td>\n",
              "      <td>-0.048292</td>\n",
              "      <td>-0.173196</td>\n",
              "      <td>-0.266497</td>\n",
              "      <td>-0.008418</td>\n",
              "      <td>1.000000</td>\n",
              "      <td>-0.012395</td>\n",
              "      <td>-0.102253</td>\n",
              "      <td>-0.003436</td>\n",
              "      <td>-0.076936</td>\n",
              "      <td>-0.005951</td>\n",
              "      <td>-0.068288</td>\n",
              "      <td>0.413317</td>\n",
              "      <td>-0.215272</td>\n",
              "      <td>-0.093814</td>\n",
              "      <td>0.413317</td>\n",
              "      <td>-0.130141</td>\n",
              "      <td>-0.093814</td>\n",
              "      <td>-0.068288</td>\n",
              "      <td>-0.109782</td>\n",
              "    </tr>\n",
              "    <tr>\n",
              "      <th>Airline_Multiple carriers Premium economy</th>\n",
              "      <td>0.009089</td>\n",
              "      <td>0.017650</td>\n",
              "      <td>0.030839</td>\n",
              "      <td>-0.051222</td>\n",
              "      <td>-0.028672</td>\n",
              "      <td>-0.004624</td>\n",
              "      <td>0.013491</td>\n",
              "      <td>-0.001786</td>\n",
              "      <td>-0.002271</td>\n",
              "      <td>-0.006853</td>\n",
              "      <td>-0.015456</td>\n",
              "      <td>-0.004747</td>\n",
              "      <td>-0.017026</td>\n",
              "      <td>-0.026199</td>\n",
              "      <td>-0.000828</td>\n",
              "      <td>-0.012395</td>\n",
              "      <td>1.000000</td>\n",
              "      <td>-0.010052</td>\n",
              "      <td>-0.000338</td>\n",
              "      <td>-0.007563</td>\n",
              "      <td>-0.000585</td>\n",
              "      <td>-0.006713</td>\n",
              "      <td>0.040632</td>\n",
              "      <td>-0.021163</td>\n",
              "      <td>-0.009223</td>\n",
              "      <td>0.040632</td>\n",
              "      <td>-0.012794</td>\n",
              "      <td>-0.009223</td>\n",
              "      <td>-0.006713</td>\n",
              "      <td>-0.010792</td>\n",
              "    </tr>\n",
              "    <tr>\n",
              "      <th>Airline_SpiceJet</th>\n",
              "      <td>-0.274351</td>\n",
              "      <td>-0.296565</td>\n",
              "      <td>0.022154</td>\n",
              "      <td>-0.011977</td>\n",
              "      <td>-0.010451</td>\n",
              "      <td>0.092634</td>\n",
              "      <td>-0.090058</td>\n",
              "      <td>0.012543</td>\n",
              "      <td>-0.263844</td>\n",
              "      <td>0.041319</td>\n",
              "      <td>-0.127510</td>\n",
              "      <td>-0.039166</td>\n",
              "      <td>-0.140464</td>\n",
              "      <td>-0.216132</td>\n",
              "      <td>-0.006827</td>\n",
              "      <td>-0.102253</td>\n",
              "      <td>-0.010052</td>\n",
              "      <td>1.000000</td>\n",
              "      <td>-0.002786</td>\n",
              "      <td>-0.062396</td>\n",
              "      <td>-0.004827</td>\n",
              "      <td>0.187590</td>\n",
              "      <td>-0.185431</td>\n",
              "      <td>0.063645</td>\n",
              "      <td>0.097824</td>\n",
              "      <td>-0.185431</td>\n",
              "      <td>0.043723</td>\n",
              "      <td>0.097824</td>\n",
              "      <td>0.187590</td>\n",
              "      <td>-0.034144</td>\n",
              "    </tr>\n",
              "    <tr>\n",
              "      <th>Airline_Trujet</th>\n",
              "      <td>0.002519</td>\n",
              "      <td>-0.010381</td>\n",
              "      <td>-0.008569</td>\n",
              "      <td>-0.014199</td>\n",
              "      <td>0.000857</td>\n",
              "      <td>-0.010007</td>\n",
              "      <td>0.003739</td>\n",
              "      <td>-0.002750</td>\n",
              "      <td>-0.008253</td>\n",
              "      <td>-0.007610</td>\n",
              "      <td>-0.004284</td>\n",
              "      <td>-0.001316</td>\n",
              "      <td>-0.004720</td>\n",
              "      <td>-0.007262</td>\n",
              "      <td>-0.000229</td>\n",
              "      <td>-0.003436</td>\n",
              "      <td>-0.000338</td>\n",
              "      <td>-0.002786</td>\n",
              "      <td>1.000000</td>\n",
              "      <td>-0.002097</td>\n",
              "      <td>-0.000162</td>\n",
              "      <td>-0.001861</td>\n",
              "      <td>-0.008313</td>\n",
              "      <td>-0.005866</td>\n",
              "      <td>0.036623</td>\n",
              "      <td>-0.008313</td>\n",
              "      <td>-0.003546</td>\n",
              "      <td>0.036623</td>\n",
              "      <td>-0.001861</td>\n",
              "      <td>-0.002992</td>\n",
              "    </tr>\n",
              "    <tr>\n",
              "      <th>Airline_Vistara</th>\n",
              "      <td>-0.120447</td>\n",
              "      <td>-0.060654</td>\n",
              "      <td>-0.013169</td>\n",
              "      <td>-0.017252</td>\n",
              "      <td>0.023906</td>\n",
              "      <td>-0.077903</td>\n",
              "      <td>0.068834</td>\n",
              "      <td>0.069422</td>\n",
              "      <td>-0.020358</td>\n",
              "      <td>0.041952</td>\n",
              "      <td>-0.095939</td>\n",
              "      <td>-0.029469</td>\n",
              "      <td>-0.105686</td>\n",
              "      <td>-0.162619</td>\n",
              "      <td>-0.005137</td>\n",
              "      <td>-0.076936</td>\n",
              "      <td>-0.007563</td>\n",
              "      <td>-0.062396</td>\n",
              "      <td>-0.002097</td>\n",
              "      <td>1.000000</td>\n",
              "      <td>-0.003632</td>\n",
              "      <td>0.063208</td>\n",
              "      <td>-0.144961</td>\n",
              "      <td>0.055364</td>\n",
              "      <td>-0.015119</td>\n",
              "      <td>-0.144961</td>\n",
              "      <td>0.103983</td>\n",
              "      <td>-0.015119</td>\n",
              "      <td>0.063208</td>\n",
              "      <td>0.019568</td>\n",
              "    </tr>\n",
              "    <tr>\n",
              "      <th>Airline_Vistara Premium economy</th>\n",
              "      <td>-0.020459</td>\n",
              "      <td>-0.000454</td>\n",
              "      <td>-0.020115</td>\n",
              "      <td>-0.019797</td>\n",
              "      <td>-0.003375</td>\n",
              "      <td>-0.011380</td>\n",
              "      <td>0.000776</td>\n",
              "      <td>0.000314</td>\n",
              "      <td>-0.016268</td>\n",
              "      <td>0.004952</td>\n",
              "      <td>-0.007421</td>\n",
              "      <td>-0.002280</td>\n",
              "      <td>-0.008175</td>\n",
              "      <td>-0.012580</td>\n",
              "      <td>-0.000397</td>\n",
              "      <td>-0.005951</td>\n",
              "      <td>-0.000585</td>\n",
              "      <td>-0.004827</td>\n",
              "      <td>-0.000162</td>\n",
              "      <td>-0.003632</td>\n",
              "      <td>1.000000</td>\n",
              "      <td>0.026901</td>\n",
              "      <td>-0.014399</td>\n",
              "      <td>-0.010162</td>\n",
              "      <td>-0.004428</td>\n",
              "      <td>-0.014399</td>\n",
              "      <td>0.011148</td>\n",
              "      <td>-0.004428</td>\n",
              "      <td>0.026901</td>\n",
              "      <td>0.014616</td>\n",
              "    </tr>\n",
              "    <tr>\n",
              "      <th>Source_Chennai</th>\n",
              "      <td>-0.234758</td>\n",
              "      <td>-0.179223</td>\n",
              "      <td>0.006611</td>\n",
              "      <td>0.005650</td>\n",
              "      <td>-0.014846</td>\n",
              "      <td>0.067110</td>\n",
              "      <td>-0.014795</td>\n",
              "      <td>-0.030493</td>\n",
              "      <td>-0.186668</td>\n",
              "      <td>-0.098823</td>\n",
              "      <td>-0.051068</td>\n",
              "      <td>-0.026156</td>\n",
              "      <td>0.141911</td>\n",
              "      <td>-0.144341</td>\n",
              "      <td>-0.004559</td>\n",
              "      <td>-0.068288</td>\n",
              "      <td>-0.006713</td>\n",
              "      <td>0.187590</td>\n",
              "      <td>-0.001861</td>\n",
              "      <td>0.063208</td>\n",
              "      <td>0.026901</td>\n",
              "      <td>1.000000</td>\n",
              "      <td>-0.165220</td>\n",
              "      <td>-0.116597</td>\n",
              "      <td>-0.050812</td>\n",
              "      <td>-0.165220</td>\n",
              "      <td>-0.070487</td>\n",
              "      <td>-0.050812</td>\n",
              "      <td>1.000000</td>\n",
              "      <td>-0.059460</td>\n",
              "    </tr>\n",
              "    <tr>\n",
              "      <th>Source_Delhi</th>\n",
              "      <td>0.490170</td>\n",
              "      <td>0.270676</td>\n",
              "      <td>0.100088</td>\n",
              "      <td>0.139222</td>\n",
              "      <td>-0.118780</td>\n",
              "      <td>-0.085534</td>\n",
              "      <td>-0.006790</td>\n",
              "      <td>-0.209882</td>\n",
              "      <td>0.299819</td>\n",
              "      <td>-0.154126</td>\n",
              "      <td>0.001257</td>\n",
              "      <td>-0.009049</td>\n",
              "      <td>-0.080168</td>\n",
              "      <td>-0.019108</td>\n",
              "      <td>-0.004379</td>\n",
              "      <td>0.413317</td>\n",
              "      <td>0.040632</td>\n",
              "      <td>-0.185431</td>\n",
              "      <td>-0.008313</td>\n",
              "      <td>-0.144961</td>\n",
              "      <td>-0.014399</td>\n",
              "      <td>-0.165220</td>\n",
              "      <td>1.000000</td>\n",
              "      <td>-0.520839</td>\n",
              "      <td>-0.226977</td>\n",
              "      <td>1.000000</td>\n",
              "      <td>-0.314869</td>\n",
              "      <td>-0.226977</td>\n",
              "      <td>-0.165220</td>\n",
              "      <td>-0.265611</td>\n",
              "    </tr>\n",
              "    <tr>\n",
              "      <th>Source_Kolkata</th>\n",
              "      <td>0.032761</td>\n",
              "      <td>0.009358</td>\n",
              "      <td>-0.060558</td>\n",
              "      <td>0.087177</td>\n",
              "      <td>0.155471</td>\n",
              "      <td>-0.024238</td>\n",
              "      <td>0.054693</td>\n",
              "      <td>0.118573</td>\n",
              "      <td>0.123524</td>\n",
              "      <td>0.013761</td>\n",
              "      <td>0.023606</td>\n",
              "      <td>-0.042921</td>\n",
              "      <td>-0.057229</td>\n",
              "      <td>0.097428</td>\n",
              "      <td>-0.014373</td>\n",
              "      <td>-0.215272</td>\n",
              "      <td>-0.021163</td>\n",
              "      <td>0.063645</td>\n",
              "      <td>-0.005866</td>\n",
              "      <td>0.055364</td>\n",
              "      <td>-0.010162</td>\n",
              "      <td>-0.116597</td>\n",
              "      <td>-0.520839</td>\n",
              "      <td>1.000000</td>\n",
              "      <td>-0.160179</td>\n",
              "      <td>-0.520839</td>\n",
              "      <td>-0.222204</td>\n",
              "      <td>-0.160179</td>\n",
              "      <td>-0.116597</td>\n",
              "      <td>-0.187443</td>\n",
              "    </tr>\n",
              "    <tr>\n",
              "      <th>Source_Mumbai</th>\n",
              "      <td>-0.260752</td>\n",
              "      <td>-0.230755</td>\n",
              "      <td>-0.014030</td>\n",
              "      <td>-0.039352</td>\n",
              "      <td>-0.017292</td>\n",
              "      <td>0.037705</td>\n",
              "      <td>-0.033512</td>\n",
              "      <td>0.081196</td>\n",
              "      <td>-0.233326</td>\n",
              "      <td>-0.018761</td>\n",
              "      <td>0.022268</td>\n",
              "      <td>-0.035933</td>\n",
              "      <td>0.059686</td>\n",
              "      <td>-0.025382</td>\n",
              "      <td>-0.006263</td>\n",
              "      <td>-0.093814</td>\n",
              "      <td>-0.009223</td>\n",
              "      <td>0.097824</td>\n",
              "      <td>0.036623</td>\n",
              "      <td>-0.015119</td>\n",
              "      <td>-0.004428</td>\n",
              "      <td>-0.050812</td>\n",
              "      <td>-0.226977</td>\n",
              "      <td>-0.160179</td>\n",
              "      <td>1.000000</td>\n",
              "      <td>-0.226977</td>\n",
              "      <td>-0.096835</td>\n",
              "      <td>1.000000</td>\n",
              "      <td>-0.050812</td>\n",
              "      <td>-0.081686</td>\n",
              "    </tr>\n",
              "    <tr>\n",
              "      <th>Destination_Cochin</th>\n",
              "      <td>0.490170</td>\n",
              "      <td>0.270676</td>\n",
              "      <td>0.100088</td>\n",
              "      <td>0.139222</td>\n",
              "      <td>-0.118780</td>\n",
              "      <td>-0.085534</td>\n",
              "      <td>-0.006790</td>\n",
              "      <td>-0.209882</td>\n",
              "      <td>0.299819</td>\n",
              "      <td>-0.154126</td>\n",
              "      <td>0.001257</td>\n",
              "      <td>-0.009049</td>\n",
              "      <td>-0.080168</td>\n",
              "      <td>-0.019108</td>\n",
              "      <td>-0.004379</td>\n",
              "      <td>0.413317</td>\n",
              "      <td>0.040632</td>\n",
              "      <td>-0.185431</td>\n",
              "      <td>-0.008313</td>\n",
              "      <td>-0.144961</td>\n",
              "      <td>-0.014399</td>\n",
              "      <td>-0.165220</td>\n",
              "      <td>1.000000</td>\n",
              "      <td>-0.520839</td>\n",
              "      <td>-0.226977</td>\n",
              "      <td>1.000000</td>\n",
              "      <td>-0.314869</td>\n",
              "      <td>-0.226977</td>\n",
              "      <td>-0.165220</td>\n",
              "      <td>-0.265611</td>\n",
              "    </tr>\n",
              "    <tr>\n",
              "      <th>Destination_Delhi</th>\n",
              "      <td>-0.447390</td>\n",
              "      <td>-0.313417</td>\n",
              "      <td>0.002632</td>\n",
              "      <td>0.090490</td>\n",
              "      <td>0.009469</td>\n",
              "      <td>0.003200</td>\n",
              "      <td>-0.030867</td>\n",
              "      <td>0.095250</td>\n",
              "      <td>-0.346192</td>\n",
              "      <td>0.218207</td>\n",
              "      <td>-0.068370</td>\n",
              "      <td>0.099863</td>\n",
              "      <td>0.090354</td>\n",
              "      <td>-0.051787</td>\n",
              "      <td>-0.008689</td>\n",
              "      <td>-0.130141</td>\n",
              "      <td>-0.012794</td>\n",
              "      <td>0.043723</td>\n",
              "      <td>-0.003546</td>\n",
              "      <td>0.103983</td>\n",
              "      <td>0.011148</td>\n",
              "      <td>-0.070487</td>\n",
              "      <td>-0.314869</td>\n",
              "      <td>-0.222204</td>\n",
              "      <td>-0.096835</td>\n",
              "      <td>-0.314869</td>\n",
              "      <td>1.000000</td>\n",
              "      <td>-0.096835</td>\n",
              "      <td>-0.070487</td>\n",
              "      <td>-0.113317</td>\n",
              "    </tr>\n",
              "    <tr>\n",
              "      <th>Destination_Hyderabad</th>\n",
              "      <td>-0.260752</td>\n",
              "      <td>-0.230755</td>\n",
              "      <td>-0.014030</td>\n",
              "      <td>-0.039352</td>\n",
              "      <td>-0.017292</td>\n",
              "      <td>0.037705</td>\n",
              "      <td>-0.033512</td>\n",
              "      <td>0.081196</td>\n",
              "      <td>-0.233326</td>\n",
              "      <td>-0.018761</td>\n",
              "      <td>0.022268</td>\n",
              "      <td>-0.035933</td>\n",
              "      <td>0.059686</td>\n",
              "      <td>-0.025382</td>\n",
              "      <td>-0.006263</td>\n",
              "      <td>-0.093814</td>\n",
              "      <td>-0.009223</td>\n",
              "      <td>0.097824</td>\n",
              "      <td>0.036623</td>\n",
              "      <td>-0.015119</td>\n",
              "      <td>-0.004428</td>\n",
              "      <td>-0.050812</td>\n",
              "      <td>-0.226977</td>\n",
              "      <td>-0.160179</td>\n",
              "      <td>1.000000</td>\n",
              "      <td>-0.226977</td>\n",
              "      <td>-0.096835</td>\n",
              "      <td>1.000000</td>\n",
              "      <td>-0.050812</td>\n",
              "      <td>-0.081686</td>\n",
              "    </tr>\n",
              "    <tr>\n",
              "      <th>Destination_Kolkata</th>\n",
              "      <td>-0.234758</td>\n",
              "      <td>-0.179223</td>\n",
              "      <td>0.006611</td>\n",
              "      <td>0.005650</td>\n",
              "      <td>-0.014846</td>\n",
              "      <td>0.067110</td>\n",
              "      <td>-0.014795</td>\n",
              "      <td>-0.030493</td>\n",
              "      <td>-0.186668</td>\n",
              "      <td>-0.098823</td>\n",
              "      <td>-0.051068</td>\n",
              "      <td>-0.026156</td>\n",
              "      <td>0.141911</td>\n",
              "      <td>-0.144341</td>\n",
              "      <td>-0.004559</td>\n",
              "      <td>-0.068288</td>\n",
              "      <td>-0.006713</td>\n",
              "      <td>0.187590</td>\n",
              "      <td>-0.001861</td>\n",
              "      <td>0.063208</td>\n",
              "      <td>0.026901</td>\n",
              "      <td>1.000000</td>\n",
              "      <td>-0.165220</td>\n",
              "      <td>-0.116597</td>\n",
              "      <td>-0.050812</td>\n",
              "      <td>-0.165220</td>\n",
              "      <td>-0.070487</td>\n",
              "      <td>-0.050812</td>\n",
              "      <td>1.000000</td>\n",
              "      <td>-0.059460</td>\n",
              "    </tr>\n",
              "    <tr>\n",
              "      <th>Destination_New Delhi</th>\n",
              "      <td>-0.015302</td>\n",
              "      <td>0.189777</td>\n",
              "      <td>-0.075254</td>\n",
              "      <td>-0.453685</td>\n",
              "      <td>-0.022138</td>\n",
              "      <td>0.107129</td>\n",
              "      <td>0.000366</td>\n",
              "      <td>0.021271</td>\n",
              "      <td>0.004052</td>\n",
              "      <td>0.079866</td>\n",
              "      <td>0.053072</td>\n",
              "      <td>0.017573</td>\n",
              "      <td>-0.018626</td>\n",
              "      <td>0.056782</td>\n",
              "      <td>0.048675</td>\n",
              "      <td>-0.109782</td>\n",
              "      <td>-0.010792</td>\n",
              "      <td>-0.034144</td>\n",
              "      <td>-0.002992</td>\n",
              "      <td>0.019568</td>\n",
              "      <td>0.014616</td>\n",
              "      <td>-0.059460</td>\n",
              "      <td>-0.265611</td>\n",
              "      <td>-0.187443</td>\n",
              "      <td>-0.081686</td>\n",
              "      <td>-0.265611</td>\n",
              "      <td>-0.113317</td>\n",
              "      <td>-0.081686</td>\n",
              "      <td>-0.059460</td>\n",
              "      <td>1.000000</td>\n",
              "    </tr>\n",
              "  </tbody>\n",
              "</table>\n",
              "</div>"
            ],
            "text/plain": [
              "                                           Total_Stops  ...  Destination_New Delhi\n",
              "Total_Stops                                   1.000000  ...              -0.015302\n",
              "Price                                         0.603897  ...               0.189777\n",
              "Journey_day                                  -0.009451  ...              -0.075254\n",
              "Journey_month                                 0.054383  ...              -0.453685\n",
              "Departure_hour                               -0.061476  ...              -0.022138\n",
              "Departure_min                                -0.002618  ...               0.107129\n",
              "Arrival_hour                                  0.038140  ...               0.000366\n",
              "Arrival_min                                  -0.106940  ...               0.021271\n",
              "Duration_hours                                0.739916  ...               0.004052\n",
              "Duration_mins                                -0.136706  ...               0.079866\n",
              "Airline_Air India                             0.271094  ...               0.053072\n",
              "Airline_GoAir                                -0.060110  ...               0.017573\n",
              "Airline_IndiGo                               -0.302991  ...              -0.018626\n",
              "Airline_Jet Airways                           0.215063  ...               0.056782\n",
              "Airline_Jet Airways Business                  0.017876  ...               0.048675\n",
              "Airline_Multiple carriers                     0.118399  ...              -0.109782\n",
              "Airline_Multiple carriers Premium economy     0.009089  ...              -0.010792\n",
              "Airline_SpiceJet                             -0.274351  ...              -0.034144\n",
              "Airline_Trujet                                0.002519  ...              -0.002992\n",
              "Airline_Vistara                              -0.120447  ...               0.019568\n",
              "Airline_Vistara Premium economy              -0.020459  ...               0.014616\n",
              "Source_Chennai                               -0.234758  ...              -0.059460\n",
              "Source_Delhi                                  0.490170  ...              -0.265611\n",
              "Source_Kolkata                                0.032761  ...              -0.187443\n",
              "Source_Mumbai                                -0.260752  ...              -0.081686\n",
              "Destination_Cochin                            0.490170  ...              -0.265611\n",
              "Destination_Delhi                            -0.447390  ...              -0.113317\n",
              "Destination_Hyderabad                        -0.260752  ...              -0.081686\n",
              "Destination_Kolkata                          -0.234758  ...              -0.059460\n",
              "Destination_New Delhi                        -0.015302  ...               1.000000\n",
              "\n",
              "[30 rows x 30 columns]"
            ]
          },
          "metadata": {
            "tags": []
          },
          "execution_count": 1161
        }
      ]
    },
    {
      "cell_type": "code",
      "metadata": {
        "colab": {
          "base_uri": "https://localhost:8080/",
          "height": 491
        },
        "id": "BJLWH4vSjd2Y",
        "outputId": "759abbf0-360c-4f42-e395-2e8c62aa1d18"
      },
      "source": [
        "sns.heatmap(corr,linewidths=0.33)"
      ],
      "execution_count": 1162,
      "outputs": [
        {
          "output_type": "execute_result",
          "data": {
            "text/plain": [
              "<matplotlib.axes._subplots.AxesSubplot at 0x7fa91c26d3c8>"
            ]
          },
          "metadata": {
            "tags": []
          },
          "execution_count": 1162
        },
        {
          "output_type": "display_data",
          "data": {
            "image/png": "[encoded data removed]",
            "text/plain": [
              "<Figure size 432x288 with 2 Axes>"
            ]
          },
          "metadata": {
            "tags": [],
            "needs_background": "light"
          }
        }
      ]
    },
    {
      "cell_type": "code",
      "metadata": {
        "id": "owhZOOV5kkwE"
      },
      "source": [
        "data_train.drop([\"Destination_Kolkata\",\"Source_Delhi\",\"Source_Mumbai\"], axis = 1, inplace = True)"
      ],
      "execution_count": 1163,
      "outputs": []
    },
    {
      "cell_type": "code",
      "metadata": {
        "colab": {
          "base_uri": "https://localhost:8080/"
        },
        "id": "M6SEto2FocVr",
        "outputId": "bc0a326f-15d0-495c-e4ff-f59fc2416b6f"
      },
      "source": [
        "data_train.shape"
      ],
      "execution_count": 1164,
      "outputs": [
        {
          "output_type": "execute_result",
          "data": {
            "text/plain": [
              "(10682, 27)"
            ]
          },
          "metadata": {
            "tags": []
          },
          "execution_count": 1164
        }
      ]
    },
    {
      "cell_type": "markdown",
      "metadata": {
        "id": "RuiXMgXRoJk4"
      },
      "source": [
        "##test set"
      ]
    },
    {
      "cell_type": "code",
      "metadata": {
        "id": "OekzgNnfoREL"
      },
      "source": [
        "test_data=pd.read_excel('/content/Test_set.xlsx')"
      ],
      "execution_count": 1165,
      "outputs": []
    },
    {
      "cell_type": "code",
      "metadata": {
        "colab": {
          "base_uri": "https://localhost:8080/",
          "height": 272
        },
        "id": "BoPQWQKHmw_e",
        "outputId": "2ecfc566-d25f-4611-e293-b2fe69c76ef3"
      },
      "source": [
        "test_data.head()"
      ],
      "execution_count": 1166,
      "outputs": [
        {
          "output_type": "execute_result",
          "data": {
            "text/html": [
              "<div>\n",
              "<style scoped>\n",
              "    .dataframe tbody tr th:only-of-type {\n",
              "        vertical-align: middle;\n",
              "    }\n",
              "\n",
              "    .dataframe tbody tr th {\n",
              "        vertical-align: top;\n",
              "    }\n",
              "\n",
              "    .dataframe thead th {\n",
              "        text-align: right;\n",
              "    }\n",
              "</style>\n",
              "<table border=\"1\" class=\"dataframe\">\n",
              "  <thead>\n",
              "    <tr style=\"text-align: right;\">\n",
              "      <th></th>\n",
              "      <th>Airline</th>\n",
              "      <th>Date_of_Journey</th>\n",
              "      <th>Source</th>\n",
              "      <th>Destination</th>\n",
              "      <th>Route</th>\n",
              "      <th>Dep_Time</th>\n",
              "      <th>Arrival_Time</th>\n",
              "      <th>Duration</th>\n",
              "      <th>Total_Stops</th>\n",
              "      <th>Additional_Info</th>\n",
              "    </tr>\n",
              "  </thead>\n",
              "  <tbody>\n",
              "    <tr>\n",
              "      <th>0</th>\n",
              "      <td>Jet Airways</td>\n",
              "      <td>6/06/2019</td>\n",
              "      <td>Delhi</td>\n",
              "      <td>Cochin</td>\n",
              "      <td>DEL → BOM → COK</td>\n",
              "      <td>17:30</td>\n",
              "      <td>04:25 07 Jun</td>\n",
              "      <td>10h 55m</td>\n",
              "      <td>1 stop</td>\n",
              "      <td>No info</td>\n",
              "    </tr>\n",
              "    <tr>\n",
              "      <th>1</th>\n",
              "      <td>IndiGo</td>\n",
              "      <td>12/05/2019</td>\n",
              "      <td>Kolkata</td>\n",
              "      <td>Banglore</td>\n",
              "      <td>CCU → MAA → BLR</td>\n",
              "      <td>06:20</td>\n",
              "      <td>10:20</td>\n",
              "      <td>4h</td>\n",
              "      <td>1 stop</td>\n",
              "      <td>No info</td>\n",
              "    </tr>\n",
              "    <tr>\n",
              "      <th>2</th>\n",
              "      <td>Jet Airways</td>\n",
              "      <td>21/05/2019</td>\n",
              "      <td>Delhi</td>\n",
              "      <td>Cochin</td>\n",
              "      <td>DEL → BOM → COK</td>\n",
              "      <td>19:15</td>\n",
              "      <td>19:00 22 May</td>\n",
              "      <td>23h 45m</td>\n",
              "      <td>1 stop</td>\n",
              "      <td>In-flight meal not included</td>\n",
              "    </tr>\n",
              "    <tr>\n",
              "      <th>3</th>\n",
              "      <td>Multiple carriers</td>\n",
              "      <td>21/05/2019</td>\n",
              "      <td>Delhi</td>\n",
              "      <td>Cochin</td>\n",
              "      <td>DEL → BOM → COK</td>\n",
              "      <td>08:00</td>\n",
              "      <td>21:00</td>\n",
              "      <td>13h</td>\n",
              "      <td>1 stop</td>\n",
              "      <td>No info</td>\n",
              "    </tr>\n",
              "    <tr>\n",
              "      <th>4</th>\n",
              "      <td>Air Asia</td>\n",
              "      <td>24/06/2019</td>\n",
              "      <td>Banglore</td>\n",
              "      <td>Delhi</td>\n",
              "      <td>BLR → DEL</td>\n",
              "      <td>23:55</td>\n",
              "      <td>02:45 25 Jun</td>\n",
              "      <td>2h 50m</td>\n",
              "      <td>non-stop</td>\n",
              "      <td>No info</td>\n",
              "    </tr>\n",
              "  </tbody>\n",
              "</table>\n",
              "</div>"
            ],
            "text/plain": [
              "             Airline Date_of_Journey  ... Total_Stops              Additional_Info\n",
              "0        Jet Airways       6/06/2019  ...      1 stop                      No info\n",
              "1             IndiGo      12/05/2019  ...      1 stop                      No info\n",
              "2        Jet Airways      21/05/2019  ...      1 stop  In-flight meal not included\n",
              "3  Multiple carriers      21/05/2019  ...      1 stop                      No info\n",
              "4           Air Asia      24/06/2019  ...    non-stop                      No info\n",
              "\n",
              "[5 rows x 10 columns]"
            ]
          },
          "metadata": {
            "tags": []
          },
          "execution_count": 1166
        }
      ]
    },
    {
      "cell_type": "code",
      "metadata": {
        "colab": {
          "base_uri": "https://localhost:8080/"
        },
        "id": "g2xLkOF0rOdo",
        "outputId": "b5587441-9d70-48db-e75e-ddc86323d312"
      },
      "source": [
        "test_data.shape"
      ],
      "execution_count": 1167,
      "outputs": [
        {
          "output_type": "execute_result",
          "data": {
            "text/plain": [
              "(2671, 10)"
            ]
          },
          "metadata": {
            "tags": []
          },
          "execution_count": 1167
        }
      ]
    },
    {
      "cell_type": "code",
      "metadata": {
        "colab": {
          "base_uri": "https://localhost:8080/"
        },
        "id": "rvvvPh5yrTpC",
        "outputId": "ffa9af3a-2c51-4abe-b3f8-dc81e442da22"
      },
      "source": [
        "test_data.info()"
      ],
      "execution_count": 1168,
      "outputs": [
        {
          "output_type": "stream",
          "text": [
            "<class 'pandas.core.frame.DataFrame'>\n",
            "RangeIndex: 2671 entries, 0 to 2670\n",
            "Data columns (total 10 columns):\n",
            " #   Column           Non-Null Count  Dtype \n",
            "---  ------           --------------  ----- \n",
            " 0   Airline          2671 non-null   object\n",
            " 1   Date_of_Journey  2671 non-null   object\n",
            " 2   Source           2671 non-null   object\n",
            " 3   Destination      2671 non-null   object\n",
            " 4   Route            2671 non-null   object\n",
            " 5   Dep_Time         2671 non-null   object\n",
            " 6   Arrival_Time     2671 non-null   object\n",
            " 7   Duration         2671 non-null   object\n",
            " 8   Total_Stops      2671 non-null   object\n",
            " 9   Additional_Info  2671 non-null   object\n",
            "dtypes: object(10)\n",
            "memory usage: 208.8+ KB\n"
          ],
          "name": "stdout"
        }
      ]
    },
    {
      "cell_type": "code",
      "metadata": {
        "colab": {
          "base_uri": "https://localhost:8080/"
        },
        "id": "guFg6NRXshxL",
        "outputId": "a32bbde4-e5ff-4ee6-90f8-2443c217423e"
      },
      "source": [
        "test_data.describe"
      ],
      "execution_count": 1169,
      "outputs": [
        {
          "output_type": "execute_result",
          "data": {
            "text/plain": [
              "<bound method NDFrame.describe of                 Airline  ...              Additional_Info\n",
              "0           Jet Airways  ...                      No info\n",
              "1                IndiGo  ...                      No info\n",
              "2           Jet Airways  ...  In-flight meal not included\n",
              "3     Multiple carriers  ...                      No info\n",
              "4              Air Asia  ...                      No info\n",
              "...                 ...  ...                          ...\n",
              "2666          Air India  ...                      No info\n",
              "2667             IndiGo  ...                      No info\n",
              "2668        Jet Airways  ...                      No info\n",
              "2669          Air India  ...                      No info\n",
              "2670  Multiple carriers  ...                      No info\n",
              "\n",
              "[2671 rows x 10 columns]>"
            ]
          },
          "metadata": {
            "tags": []
          },
          "execution_count": 1169
        }
      ]
    },
    {
      "cell_type": "code",
      "metadata": {
        "colab": {
          "base_uri": "https://localhost:8080/"
        },
        "id": "C22lrZqisl7u",
        "outputId": "5183e7b4-30e7-4371-b557-5a042e7a5908"
      },
      "source": [
        "test_data.isnull().sum()"
      ],
      "execution_count": 1170,
      "outputs": [
        {
          "output_type": "execute_result",
          "data": {
            "text/plain": [
              "Airline            0\n",
              "Date_of_Journey    0\n",
              "Source             0\n",
              "Destination        0\n",
              "Route              0\n",
              "Dep_Time           0\n",
              "Arrival_Time       0\n",
              "Duration           0\n",
              "Total_Stops        0\n",
              "Additional_Info    0\n",
              "dtype: int64"
            ]
          },
          "metadata": {
            "tags": []
          },
          "execution_count": 1170
        }
      ]
    },
    {
      "cell_type": "code",
      "metadata": {
        "id": "XrSNqRCEs3z2"
      },
      "source": [
        "test_data[\"Journey_day\"] = pd.to_datetime(test_data.Date_of_Journey, format=\"%d/%m/%Y\").dt.day\r\n",
        "test_data[\"Journey_month\"] = pd.to_datetime(test_data[\"Date_of_Journey\"], format = \"%d/%m/%Y\").dt.month\r\n",
        "test_data.drop([\"Date_of_Journey\"], axis = 1, inplace = True)"
      ],
      "execution_count": 1171,
      "outputs": []
    },
    {
      "cell_type": "code",
      "metadata": {
        "colab": {
          "base_uri": "https://localhost:8080/",
          "height": 272
        },
        "id": "WyV8CiMCs_t3",
        "outputId": "3f2da8cb-4367-4e2a-b2ed-8596b2e46210"
      },
      "source": [
        "test_data.head()"
      ],
      "execution_count": 1172,
      "outputs": [
        {
          "output_type": "execute_result",
          "data": {
            "text/html": [
              "<div>\n",
              "<style scoped>\n",
              "    .dataframe tbody tr th:only-of-type {\n",
              "        vertical-align: middle;\n",
              "    }\n",
              "\n",
              "    .dataframe tbody tr th {\n",
              "        vertical-align: top;\n",
              "    }\n",
              "\n",
              "    .dataframe thead th {\n",
              "        text-align: right;\n",
              "    }\n",
              "</style>\n",
              "<table border=\"1\" class=\"dataframe\">\n",
              "  <thead>\n",
              "    <tr style=\"text-align: right;\">\n",
              "      <th></th>\n",
              "      <th>Airline</th>\n",
              "      <th>Source</th>\n",
              "      <th>Destination</th>\n",
              "      <th>Route</th>\n",
              "      <th>Dep_Time</th>\n",
              "      <th>Arrival_Time</th>\n",
              "      <th>Duration</th>\n",
              "      <th>Total_Stops</th>\n",
              "      <th>Additional_Info</th>\n",
              "      <th>Journey_day</th>\n",
              "      <th>Journey_month</th>\n",
              "    </tr>\n",
              "  </thead>\n",
              "  <tbody>\n",
              "    <tr>\n",
              "      <th>0</th>\n",
              "      <td>Jet Airways</td>\n",
              "      <td>Delhi</td>\n",
              "      <td>Cochin</td>\n",
              "      <td>DEL → BOM → COK</td>\n",
              "      <td>17:30</td>\n",
              "      <td>04:25 07 Jun</td>\n",
              "      <td>10h 55m</td>\n",
              "      <td>1 stop</td>\n",
              "      <td>No info</td>\n",
              "      <td>6</td>\n",
              "      <td>6</td>\n",
              "    </tr>\n",
              "    <tr>\n",
              "      <th>1</th>\n",
              "      <td>IndiGo</td>\n",
              "      <td>Kolkata</td>\n",
              "      <td>Banglore</td>\n",
              "      <td>CCU → MAA → BLR</td>\n",
              "      <td>06:20</td>\n",
              "      <td>10:20</td>\n",
              "      <td>4h</td>\n",
              "      <td>1 stop</td>\n",
              "      <td>No info</td>\n",
              "      <td>12</td>\n",
              "      <td>5</td>\n",
              "    </tr>\n",
              "    <tr>\n",
              "      <th>2</th>\n",
              "      <td>Jet Airways</td>\n",
              "      <td>Delhi</td>\n",
              "      <td>Cochin</td>\n",
              "      <td>DEL → BOM → COK</td>\n",
              "      <td>19:15</td>\n",
              "      <td>19:00 22 May</td>\n",
              "      <td>23h 45m</td>\n",
              "      <td>1 stop</td>\n",
              "      <td>In-flight meal not included</td>\n",
              "      <td>21</td>\n",
              "      <td>5</td>\n",
              "    </tr>\n",
              "    <tr>\n",
              "      <th>3</th>\n",
              "      <td>Multiple carriers</td>\n",
              "      <td>Delhi</td>\n",
              "      <td>Cochin</td>\n",
              "      <td>DEL → BOM → COK</td>\n",
              "      <td>08:00</td>\n",
              "      <td>21:00</td>\n",
              "      <td>13h</td>\n",
              "      <td>1 stop</td>\n",
              "      <td>No info</td>\n",
              "      <td>21</td>\n",
              "      <td>5</td>\n",
              "    </tr>\n",
              "    <tr>\n",
              "      <th>4</th>\n",
              "      <td>Air Asia</td>\n",
              "      <td>Banglore</td>\n",
              "      <td>Delhi</td>\n",
              "      <td>BLR → DEL</td>\n",
              "      <td>23:55</td>\n",
              "      <td>02:45 25 Jun</td>\n",
              "      <td>2h 50m</td>\n",
              "      <td>non-stop</td>\n",
              "      <td>No info</td>\n",
              "      <td>24</td>\n",
              "      <td>6</td>\n",
              "    </tr>\n",
              "  </tbody>\n",
              "</table>\n",
              "</div>"
            ],
            "text/plain": [
              "             Airline    Source  ... Journey_day Journey_month\n",
              "0        Jet Airways     Delhi  ...           6             6\n",
              "1             IndiGo   Kolkata  ...          12             5\n",
              "2        Jet Airways     Delhi  ...          21             5\n",
              "3  Multiple carriers     Delhi  ...          21             5\n",
              "4           Air Asia  Banglore  ...          24             6\n",
              "\n",
              "[5 rows x 11 columns]"
            ]
          },
          "metadata": {
            "tags": []
          },
          "execution_count": 1172
        }
      ]
    },
    {
      "cell_type": "code",
      "metadata": {
        "id": "pH9IUG-DtFdj"
      },
      "source": [
        "test_data[\"Dep_hour\"] = pd.to_datetime(test_data[\"Dep_Time\"]).dt.hour\r\n",
        "test_data[\"Dep_min\"] = pd.to_datetime(test_data[\"Dep_Time\"]).dt.minute\r\n",
        "test_data.drop([\"Dep_Time\"], axis = 1, inplace = True)"
      ],
      "execution_count": 1173,
      "outputs": []
    },
    {
      "cell_type": "code",
      "metadata": {
        "id": "eUg5wF8etPfh"
      },
      "source": [
        "test_data[\"Arrival_hour\"] = pd.to_datetime(test_data.Arrival_Time).dt.hour\r\n",
        "test_data[\"Arrival_min\"] = pd.to_datetime(test_data.Arrival_Time).dt.minute\r\n",
        "test_data.drop([\"Arrival_Time\"], axis = 1, inplace = True)"
      ],
      "execution_count": 1174,
      "outputs": []
    },
    {
      "cell_type": "code",
      "metadata": {
        "colab": {
          "base_uri": "https://localhost:8080/",
          "height": 530
        },
        "id": "wVXQhrTetR8Y",
        "outputId": "b555778a-7c95-4dd6-b24b-8984b5a376c5"
      },
      "source": [
        "test_data.head()"
      ],
      "execution_count": 1175,
      "outputs": [
        {
          "output_type": "execute_result",
          "data": {
            "text/html": [
              "<div>\n",
              "<style scoped>\n",
              "    .dataframe tbody tr th:only-of-type {\n",
              "        vertical-align: middle;\n",
              "    }\n",
              "\n",
              "    .dataframe tbody tr th {\n",
              "        vertical-align: top;\n",
              "    }\n",
              "\n",
              "    .dataframe thead th {\n",
              "        text-align: right;\n",
              "    }\n",
              "</style>\n",
              "<table border=\"1\" class=\"dataframe\">\n",
              "  <thead>\n",
              "    <tr style=\"text-align: right;\">\n",
              "      <th></th>\n",
              "      <th>Airline</th>\n",
              "      <th>Source</th>\n",
              "      <th>Destination</th>\n",
              "      <th>Route</th>\n",
              "      <th>Duration</th>\n",
              "      <th>Total_Stops</th>\n",
              "      <th>Additional_Info</th>\n",
              "      <th>Journey_day</th>\n",
              "      <th>Journey_month</th>\n",
              "      <th>Dep_hour</th>\n",
              "      <th>Dep_min</th>\n",
              "      <th>Arrival_hour</th>\n",
              "      <th>Arrival_min</th>\n",
              "    </tr>\n",
              "  </thead>\n",
              "  <tbody>\n",
              "    <tr>\n",
              "      <th>0</th>\n",
              "      <td>Jet Airways</td>\n",
              "      <td>Delhi</td>\n",
              "      <td>Cochin</td>\n",
              "      <td>DEL → BOM → COK</td>\n",
              "      <td>10h 55m</td>\n",
              "      <td>1 stop</td>\n",
              "      <td>No info</td>\n",
              "      <td>6</td>\n",
              "      <td>6</td>\n",
              "      <td>17</td>\n",
              "      <td>30</td>\n",
              "      <td>4</td>\n",
              "      <td>25</td>\n",
              "    </tr>\n",
              "    <tr>\n",
              "      <th>1</th>\n",
              "      <td>IndiGo</td>\n",
              "      <td>Kolkata</td>\n",
              "      <td>Banglore</td>\n",
              "      <td>CCU → MAA → BLR</td>\n",
              "      <td>4h</td>\n",
              "      <td>1 stop</td>\n",
              "      <td>No info</td>\n",
              "      <td>12</td>\n",
              "      <td>5</td>\n",
              "      <td>6</td>\n",
              "      <td>20</td>\n",
              "      <td>10</td>\n",
              "      <td>20</td>\n",
              "    </tr>\n",
              "    <tr>\n",
              "      <th>2</th>\n",
              "      <td>Jet Airways</td>\n",
              "      <td>Delhi</td>\n",
              "      <td>Cochin</td>\n",
              "      <td>DEL → BOM → COK</td>\n",
              "      <td>23h 45m</td>\n",
              "      <td>1 stop</td>\n",
              "      <td>In-flight meal not included</td>\n",
              "      <td>21</td>\n",
              "      <td>5</td>\n",
              "      <td>19</td>\n",
              "      <td>15</td>\n",
              "      <td>19</td>\n",
              "      <td>0</td>\n",
              "    </tr>\n",
              "    <tr>\n",
              "      <th>3</th>\n",
              "      <td>Multiple carriers</td>\n",
              "      <td>Delhi</td>\n",
              "      <td>Cochin</td>\n",
              "      <td>DEL → BOM → COK</td>\n",
              "      <td>13h</td>\n",
              "      <td>1 stop</td>\n",
              "      <td>No info</td>\n",
              "      <td>21</td>\n",
              "      <td>5</td>\n",
              "      <td>8</td>\n",
              "      <td>0</td>\n",
              "      <td>21</td>\n",
              "      <td>0</td>\n",
              "    </tr>\n",
              "    <tr>\n",
              "      <th>4</th>\n",
              "      <td>Air Asia</td>\n",
              "      <td>Banglore</td>\n",
              "      <td>Delhi</td>\n",
              "      <td>BLR → DEL</td>\n",
              "      <td>2h 50m</td>\n",
              "      <td>non-stop</td>\n",
              "      <td>No info</td>\n",
              "      <td>24</td>\n",
              "      <td>6</td>\n",
              "      <td>23</td>\n",
              "      <td>55</td>\n",
              "      <td>2</td>\n",
              "      <td>45</td>\n",
              "    </tr>\n",
              "  </tbody>\n",
              "</table>\n",
              "</div>"
            ],
            "text/plain": [
              "             Airline    Source Destination  ... Dep_min Arrival_hour Arrival_min\n",
              "0        Jet Airways     Delhi      Cochin  ...      30            4          25\n",
              "1             IndiGo   Kolkata    Banglore  ...      20           10          20\n",
              "2        Jet Airways     Delhi      Cochin  ...      15           19           0\n",
              "3  Multiple carriers     Delhi      Cochin  ...       0           21           0\n",
              "4           Air Asia  Banglore       Delhi  ...      55            2          45\n",
              "\n",
              "[5 rows x 13 columns]"
            ]
          },
          "metadata": {
            "tags": []
          },
          "execution_count": 1175
        }
      ]
    },
    {
      "cell_type": "code",
      "metadata": {
        "id": "unR94-YLtVst"
      },
      "source": [
        "duration = list(test_data[\"Duration\"])\r\n",
        "\r\n",
        "for i in range(len(duration)):\r\n",
        "    if len(duration[i].split()) != 2:    # Check if duration contains only hour or mins\r\n",
        "        if \"h\" in duration[i]:\r\n",
        "            duration[i] = duration[i].strip() + \" 0m\"   # Adds 0 minute\r\n",
        "        else:\r\n",
        "            duration[i] = \"0h \" + duration[i]           # Adds 0 hour\r\n",
        "\r\n",
        "duration_hours = []\r\n",
        "duration_mins = []\r\n",
        "for i in range(len(duration)):\r\n",
        "    duration_hours.append(int(duration[i].split(sep = \"h\")[0]))    \r\n",
        "    duration_mins.append(int(duration[i].split(sep = \"m\")[0].split()[-1]))"
      ],
      "execution_count": 1176,
      "outputs": []
    },
    {
      "cell_type": "code",
      "metadata": {
        "colab": {
          "base_uri": "https://localhost:8080/",
          "height": 530
        },
        "id": "vOIBPXPstbkT",
        "outputId": "3821175d-834b-40af-cdc0-f013f8b8dca4"
      },
      "source": [
        "test_data.head()"
      ],
      "execution_count": 1177,
      "outputs": [
        {
          "output_type": "execute_result",
          "data": {
            "text/html": [
              "<div>\n",
              "<style scoped>\n",
              "    .dataframe tbody tr th:only-of-type {\n",
              "        vertical-align: middle;\n",
              "    }\n",
              "\n",
              "    .dataframe tbody tr th {\n",
              "        vertical-align: top;\n",
              "    }\n",
              "\n",
              "    .dataframe thead th {\n",
              "        text-align: right;\n",
              "    }\n",
              "</style>\n",
              "<table border=\"1\" class=\"dataframe\">\n",
              "  <thead>\n",
              "    <tr style=\"text-align: right;\">\n",
              "      <th></th>\n",
              "      <th>Airline</th>\n",
              "      <th>Source</th>\n",
              "      <th>Destination</th>\n",
              "      <th>Route</th>\n",
              "      <th>Duration</th>\n",
              "      <th>Total_Stops</th>\n",
              "      <th>Additional_Info</th>\n",
              "      <th>Journey_day</th>\n",
              "      <th>Journey_month</th>\n",
              "      <th>Dep_hour</th>\n",
              "      <th>Dep_min</th>\n",
              "      <th>Arrival_hour</th>\n",
              "      <th>Arrival_min</th>\n",
              "    </tr>\n",
              "  </thead>\n",
              "  <tbody>\n",
              "    <tr>\n",
              "      <th>0</th>\n",
              "      <td>Jet Airways</td>\n",
              "      <td>Delhi</td>\n",
              "      <td>Cochin</td>\n",
              "      <td>DEL → BOM → COK</td>\n",
              "      <td>10h 55m</td>\n",
              "      <td>1 stop</td>\n",
              "      <td>No info</td>\n",
              "      <td>6</td>\n",
              "      <td>6</td>\n",
              "      <td>17</td>\n",
              "      <td>30</td>\n",
              "      <td>4</td>\n",
              "      <td>25</td>\n",
              "    </tr>\n",
              "    <tr>\n",
              "      <th>1</th>\n",
              "      <td>IndiGo</td>\n",
              "      <td>Kolkata</td>\n",
              "      <td>Banglore</td>\n",
              "      <td>CCU → MAA → BLR</td>\n",
              "      <td>4h</td>\n",
              "      <td>1 stop</td>\n",
              "      <td>No info</td>\n",
              "      <td>12</td>\n",
              "      <td>5</td>\n",
              "      <td>6</td>\n",
              "      <td>20</td>\n",
              "      <td>10</td>\n",
              "      <td>20</td>\n",
              "    </tr>\n",
              "    <tr>\n",
              "      <th>2</th>\n",
              "      <td>Jet Airways</td>\n",
              "      <td>Delhi</td>\n",
              "      <td>Cochin</td>\n",
              "      <td>DEL → BOM → COK</td>\n",
              "      <td>23h 45m</td>\n",
              "      <td>1 stop</td>\n",
              "      <td>In-flight meal not included</td>\n",
              "      <td>21</td>\n",
              "      <td>5</td>\n",
              "      <td>19</td>\n",
              "      <td>15</td>\n",
              "      <td>19</td>\n",
              "      <td>0</td>\n",
              "    </tr>\n",
              "    <tr>\n",
              "      <th>3</th>\n",
              "      <td>Multiple carriers</td>\n",
              "      <td>Delhi</td>\n",
              "      <td>Cochin</td>\n",
              "      <td>DEL → BOM → COK</td>\n",
              "      <td>13h</td>\n",
              "      <td>1 stop</td>\n",
              "      <td>No info</td>\n",
              "      <td>21</td>\n",
              "      <td>5</td>\n",
              "      <td>8</td>\n",
              "      <td>0</td>\n",
              "      <td>21</td>\n",
              "      <td>0</td>\n",
              "    </tr>\n",
              "    <tr>\n",
              "      <th>4</th>\n",
              "      <td>Air Asia</td>\n",
              "      <td>Banglore</td>\n",
              "      <td>Delhi</td>\n",
              "      <td>BLR → DEL</td>\n",
              "      <td>2h 50m</td>\n",
              "      <td>non-stop</td>\n",
              "      <td>No info</td>\n",
              "      <td>24</td>\n",
              "      <td>6</td>\n",
              "      <td>23</td>\n",
              "      <td>55</td>\n",
              "      <td>2</td>\n",
              "      <td>45</td>\n",
              "    </tr>\n",
              "  </tbody>\n",
              "</table>\n",
              "</div>"
            ],
            "text/plain": [
              "             Airline    Source Destination  ... Dep_min Arrival_hour Arrival_min\n",
              "0        Jet Airways     Delhi      Cochin  ...      30            4          25\n",
              "1             IndiGo   Kolkata    Banglore  ...      20           10          20\n",
              "2        Jet Airways     Delhi      Cochin  ...      15           19           0\n",
              "3  Multiple carriers     Delhi      Cochin  ...       0           21           0\n",
              "4           Air Asia  Banglore       Delhi  ...      55            2          45\n",
              "\n",
              "[5 rows x 13 columns]"
            ]
          },
          "metadata": {
            "tags": []
          },
          "execution_count": 1177
        }
      ]
    },
    {
      "cell_type": "code",
      "metadata": {
        "id": "WkBt7Nq9tf0u"
      },
      "source": [
        "test_data[\"Duration_hours\"] = duration_hours\r\n",
        "test_data[\"Duration_mins\"] = duration_mins\r\n",
        "test_data.drop([\"Duration\"], axis = 1, inplace = True)"
      ],
      "execution_count": 1178,
      "outputs": []
    },
    {
      "cell_type": "code",
      "metadata": {
        "colab": {
          "base_uri": "https://localhost:8080/",
          "height": 530
        },
        "id": "czBXTsvAtk2o",
        "outputId": "123582cd-3c44-4eba-ea61-c778b0398eff"
      },
      "source": [
        "test_data.head()"
      ],
      "execution_count": 1179,
      "outputs": [
        {
          "output_type": "execute_result",
          "data": {
            "text/html": [
              "<div>\n",
              "<style scoped>\n",
              "    .dataframe tbody tr th:only-of-type {\n",
              "        vertical-align: middle;\n",
              "    }\n",
              "\n",
              "    .dataframe tbody tr th {\n",
              "        vertical-align: top;\n",
              "    }\n",
              "\n",
              "    .dataframe thead th {\n",
              "        text-align: right;\n",
              "    }\n",
              "</style>\n",
              "<table border=\"1\" class=\"dataframe\">\n",
              "  <thead>\n",
              "    <tr style=\"text-align: right;\">\n",
              "      <th></th>\n",
              "      <th>Airline</th>\n",
              "      <th>Source</th>\n",
              "      <th>Destination</th>\n",
              "      <th>Route</th>\n",
              "      <th>Total_Stops</th>\n",
              "      <th>Additional_Info</th>\n",
              "      <th>Journey_day</th>\n",
              "      <th>Journey_month</th>\n",
              "      <th>Dep_hour</th>\n",
              "      <th>Dep_min</th>\n",
              "      <th>Arrival_hour</th>\n",
              "      <th>Arrival_min</th>\n",
              "      <th>Duration_hours</th>\n",
              "      <th>Duration_mins</th>\n",
              "    </tr>\n",
              "  </thead>\n",
              "  <tbody>\n",
              "    <tr>\n",
              "      <th>0</th>\n",
              "      <td>Jet Airways</td>\n",
              "      <td>Delhi</td>\n",
              "      <td>Cochin</td>\n",
              "      <td>DEL → BOM → COK</td>\n",
              "      <td>1 stop</td>\n",
              "      <td>No info</td>\n",
              "      <td>6</td>\n",
              "      <td>6</td>\n",
              "      <td>17</td>\n",
              "      <td>30</td>\n",
              "      <td>4</td>\n",
              "      <td>25</td>\n",
              "      <td>10</td>\n",
              "      <td>55</td>\n",
              "    </tr>\n",
              "    <tr>\n",
              "      <th>1</th>\n",
              "      <td>IndiGo</td>\n",
              "      <td>Kolkata</td>\n",
              "      <td>Banglore</td>\n",
              "      <td>CCU → MAA → BLR</td>\n",
              "      <td>1 stop</td>\n",
              "      <td>No info</td>\n",
              "      <td>12</td>\n",
              "      <td>5</td>\n",
              "      <td>6</td>\n",
              "      <td>20</td>\n",
              "      <td>10</td>\n",
              "      <td>20</td>\n",
              "      <td>4</td>\n",
              "      <td>0</td>\n",
              "    </tr>\n",
              "    <tr>\n",
              "      <th>2</th>\n",
              "      <td>Jet Airways</td>\n",
              "      <td>Delhi</td>\n",
              "      <td>Cochin</td>\n",
              "      <td>DEL → BOM → COK</td>\n",
              "      <td>1 stop</td>\n",
              "      <td>In-flight meal not included</td>\n",
              "      <td>21</td>\n",
              "      <td>5</td>\n",
              "      <td>19</td>\n",
              "      <td>15</td>\n",
              "      <td>19</td>\n",
              "      <td>0</td>\n",
              "      <td>23</td>\n",
              "      <td>45</td>\n",
              "    </tr>\n",
              "    <tr>\n",
              "      <th>3</th>\n",
              "      <td>Multiple carriers</td>\n",
              "      <td>Delhi</td>\n",
              "      <td>Cochin</td>\n",
              "      <td>DEL → BOM → COK</td>\n",
              "      <td>1 stop</td>\n",
              "      <td>No info</td>\n",
              "      <td>21</td>\n",
              "      <td>5</td>\n",
              "      <td>8</td>\n",
              "      <td>0</td>\n",
              "      <td>21</td>\n",
              "      <td>0</td>\n",
              "      <td>13</td>\n",
              "      <td>0</td>\n",
              "    </tr>\n",
              "    <tr>\n",
              "      <th>4</th>\n",
              "      <td>Air Asia</td>\n",
              "      <td>Banglore</td>\n",
              "      <td>Delhi</td>\n",
              "      <td>BLR → DEL</td>\n",
              "      <td>non-stop</td>\n",
              "      <td>No info</td>\n",
              "      <td>24</td>\n",
              "      <td>6</td>\n",
              "      <td>23</td>\n",
              "      <td>55</td>\n",
              "      <td>2</td>\n",
              "      <td>45</td>\n",
              "      <td>2</td>\n",
              "      <td>50</td>\n",
              "    </tr>\n",
              "  </tbody>\n",
              "</table>\n",
              "</div>"
            ],
            "text/plain": [
              "             Airline    Source  ... Duration_hours Duration_mins\n",
              "0        Jet Airways     Delhi  ...             10            55\n",
              "1             IndiGo   Kolkata  ...              4             0\n",
              "2        Jet Airways     Delhi  ...             23            45\n",
              "3  Multiple carriers     Delhi  ...             13             0\n",
              "4           Air Asia  Banglore  ...              2            50\n",
              "\n",
              "[5 rows x 14 columns]"
            ]
          },
          "metadata": {
            "tags": []
          },
          "execution_count": 1179
        }
      ]
    },
    {
      "cell_type": "code",
      "metadata": {
        "id": "wzHcp1fgtoBM"
      },
      "source": [
        "\r\n",
        "Airline = pd.get_dummies(test_data[\"Airline\"], drop_first= True)"
      ],
      "execution_count": 1180,
      "outputs": []
    },
    {
      "cell_type": "code",
      "metadata": {
        "colab": {
          "base_uri": "https://localhost:8080/",
          "height": 221
        },
        "id": "oDy63V1Ut0Ds",
        "outputId": "f19f3e88-36fb-4373-8c4a-f00f399ea55c"
      },
      "source": [
        "Airline.head()"
      ],
      "execution_count": 1181,
      "outputs": [
        {
          "output_type": "execute_result",
          "data": {
            "text/html": [
              "<div>\n",
              "<style scoped>\n",
              "    .dataframe tbody tr th:only-of-type {\n",
              "        vertical-align: middle;\n",
              "    }\n",
              "\n",
              "    .dataframe tbody tr th {\n",
              "        vertical-align: top;\n",
              "    }\n",
              "\n",
              "    .dataframe thead th {\n",
              "        text-align: right;\n",
              "    }\n",
              "</style>\n",
              "<table border=\"1\" class=\"dataframe\">\n",
              "  <thead>\n",
              "    <tr style=\"text-align: right;\">\n",
              "      <th></th>\n",
              "      <th>Air India</th>\n",
              "      <th>GoAir</th>\n",
              "      <th>IndiGo</th>\n",
              "      <th>Jet Airways</th>\n",
              "      <th>Jet Airways Business</th>\n",
              "      <th>Multiple carriers</th>\n",
              "      <th>Multiple carriers Premium economy</th>\n",
              "      <th>SpiceJet</th>\n",
              "      <th>Vistara</th>\n",
              "      <th>Vistara Premium economy</th>\n",
              "    </tr>\n",
              "  </thead>\n",
              "  <tbody>\n",
              "    <tr>\n",
              "      <th>0</th>\n",
              "      <td>0</td>\n",
              "      <td>0</td>\n",
              "      <td>0</td>\n",
              "      <td>1</td>\n",
              "      <td>0</td>\n",
              "      <td>0</td>\n",
              "      <td>0</td>\n",
              "      <td>0</td>\n",
              "      <td>0</td>\n",
              "      <td>0</td>\n",
              "    </tr>\n",
              "    <tr>\n",
              "      <th>1</th>\n",
              "      <td>0</td>\n",
              "      <td>0</td>\n",
              "      <td>1</td>\n",
              "      <td>0</td>\n",
              "      <td>0</td>\n",
              "      <td>0</td>\n",
              "      <td>0</td>\n",
              "      <td>0</td>\n",
              "      <td>0</td>\n",
              "      <td>0</td>\n",
              "    </tr>\n",
              "    <tr>\n",
              "      <th>2</th>\n",
              "      <td>0</td>\n",
              "      <td>0</td>\n",
              "      <td>0</td>\n",
              "      <td>1</td>\n",
              "      <td>0</td>\n",
              "      <td>0</td>\n",
              "      <td>0</td>\n",
              "      <td>0</td>\n",
              "      <td>0</td>\n",
              "      <td>0</td>\n",
              "    </tr>\n",
              "    <tr>\n",
              "      <th>3</th>\n",
              "      <td>0</td>\n",
              "      <td>0</td>\n",
              "      <td>0</td>\n",
              "      <td>0</td>\n",
              "      <td>0</td>\n",
              "      <td>1</td>\n",
              "      <td>0</td>\n",
              "      <td>0</td>\n",
              "      <td>0</td>\n",
              "      <td>0</td>\n",
              "    </tr>\n",
              "    <tr>\n",
              "      <th>4</th>\n",
              "      <td>0</td>\n",
              "      <td>0</td>\n",
              "      <td>0</td>\n",
              "      <td>0</td>\n",
              "      <td>0</td>\n",
              "      <td>0</td>\n",
              "      <td>0</td>\n",
              "      <td>0</td>\n",
              "      <td>0</td>\n",
              "      <td>0</td>\n",
              "    </tr>\n",
              "  </tbody>\n",
              "</table>\n",
              "</div>"
            ],
            "text/plain": [
              "   Air India  GoAir  IndiGo  ...  SpiceJet  Vistara  Vistara Premium economy\n",
              "0          0      0       0  ...         0        0                        0\n",
              "1          0      0       1  ...         0        0                        0\n",
              "2          0      0       0  ...         0        0                        0\n",
              "3          0      0       0  ...         0        0                        0\n",
              "4          0      0       0  ...         0        0                        0\n",
              "\n",
              "[5 rows x 10 columns]"
            ]
          },
          "metadata": {
            "tags": []
          },
          "execution_count": 1181
        }
      ]
    },
    {
      "cell_type": "code",
      "metadata": {
        "id": "JHXwZ1w8uC0f"
      },
      "source": [
        "Source = pd.get_dummies(test_data[\"Source\"], drop_first= True)"
      ],
      "execution_count": 1182,
      "outputs": []
    },
    {
      "cell_type": "code",
      "metadata": {
        "colab": {
          "base_uri": "https://localhost:8080/",
          "height": 204
        },
        "id": "nw0vAeQZuGK5",
        "outputId": "dc4bfcf8-1528-48e3-8562-832412e436b5"
      },
      "source": [
        "Source.head()"
      ],
      "execution_count": 1183,
      "outputs": [
        {
          "output_type": "execute_result",
          "data": {
            "text/html": [
              "<div>\n",
              "<style scoped>\n",
              "    .dataframe tbody tr th:only-of-type {\n",
              "        vertical-align: middle;\n",
              "    }\n",
              "\n",
              "    .dataframe tbody tr th {\n",
              "        vertical-align: top;\n",
              "    }\n",
              "\n",
              "    .dataframe thead th {\n",
              "        text-align: right;\n",
              "    }\n",
              "</style>\n",
              "<table border=\"1\" class=\"dataframe\">\n",
              "  <thead>\n",
              "    <tr style=\"text-align: right;\">\n",
              "      <th></th>\n",
              "      <th>Chennai</th>\n",
              "      <th>Delhi</th>\n",
              "      <th>Kolkata</th>\n",
              "      <th>Mumbai</th>\n",
              "    </tr>\n",
              "  </thead>\n",
              "  <tbody>\n",
              "    <tr>\n",
              "      <th>0</th>\n",
              "      <td>0</td>\n",
              "      <td>1</td>\n",
              "      <td>0</td>\n",
              "      <td>0</td>\n",
              "    </tr>\n",
              "    <tr>\n",
              "      <th>1</th>\n",
              "      <td>0</td>\n",
              "      <td>0</td>\n",
              "      <td>1</td>\n",
              "      <td>0</td>\n",
              "    </tr>\n",
              "    <tr>\n",
              "      <th>2</th>\n",
              "      <td>0</td>\n",
              "      <td>1</td>\n",
              "      <td>0</td>\n",
              "      <td>0</td>\n",
              "    </tr>\n",
              "    <tr>\n",
              "      <th>3</th>\n",
              "      <td>0</td>\n",
              "      <td>1</td>\n",
              "      <td>0</td>\n",
              "      <td>0</td>\n",
              "    </tr>\n",
              "    <tr>\n",
              "      <th>4</th>\n",
              "      <td>0</td>\n",
              "      <td>0</td>\n",
              "      <td>0</td>\n",
              "      <td>0</td>\n",
              "    </tr>\n",
              "  </tbody>\n",
              "</table>\n",
              "</div>"
            ],
            "text/plain": [
              "   Chennai  Delhi  Kolkata  Mumbai\n",
              "0        0      1        0       0\n",
              "1        0      0        1       0\n",
              "2        0      1        0       0\n",
              "3        0      1        0       0\n",
              "4        0      0        0       0"
            ]
          },
          "metadata": {
            "tags": []
          },
          "execution_count": 1183
        }
      ]
    },
    {
      "cell_type": "code",
      "metadata": {
        "id": "hI5lBT_0uKtT"
      },
      "source": [
        "Destination = pd.get_dummies(test_data[\"Destination\"], drop_first = True)"
      ],
      "execution_count": 1184,
      "outputs": []
    },
    {
      "cell_type": "code",
      "metadata": {
        "colab": {
          "base_uri": "https://localhost:8080/",
          "height": 204
        },
        "id": "d3i8_XQxuT8N",
        "outputId": "6f0568cb-092c-470e-e6b6-206fc0761f0b"
      },
      "source": [
        "Destination.head()"
      ],
      "execution_count": 1185,
      "outputs": [
        {
          "output_type": "execute_result",
          "data": {
            "text/html": [
              "<div>\n",
              "<style scoped>\n",
              "    .dataframe tbody tr th:only-of-type {\n",
              "        vertical-align: middle;\n",
              "    }\n",
              "\n",
              "    .dataframe tbody tr th {\n",
              "        vertical-align: top;\n",
              "    }\n",
              "\n",
              "    .dataframe thead th {\n",
              "        text-align: right;\n",
              "    }\n",
              "</style>\n",
              "<table border=\"1\" class=\"dataframe\">\n",
              "  <thead>\n",
              "    <tr style=\"text-align: right;\">\n",
              "      <th></th>\n",
              "      <th>Cochin</th>\n",
              "      <th>Delhi</th>\n",
              "      <th>Hyderabad</th>\n",
              "      <th>Kolkata</th>\n",
              "      <th>New Delhi</th>\n",
              "    </tr>\n",
              "  </thead>\n",
              "  <tbody>\n",
              "    <tr>\n",
              "      <th>0</th>\n",
              "      <td>1</td>\n",
              "      <td>0</td>\n",
              "      <td>0</td>\n",
              "      <td>0</td>\n",
              "      <td>0</td>\n",
              "    </tr>\n",
              "    <tr>\n",
              "      <th>1</th>\n",
              "      <td>0</td>\n",
              "      <td>0</td>\n",
              "      <td>0</td>\n",
              "      <td>0</td>\n",
              "      <td>0</td>\n",
              "    </tr>\n",
              "    <tr>\n",
              "      <th>2</th>\n",
              "      <td>1</td>\n",
              "      <td>0</td>\n",
              "      <td>0</td>\n",
              "      <td>0</td>\n",
              "      <td>0</td>\n",
              "    </tr>\n",
              "    <tr>\n",
              "      <th>3</th>\n",
              "      <td>1</td>\n",
              "      <td>0</td>\n",
              "      <td>0</td>\n",
              "      <td>0</td>\n",
              "      <td>0</td>\n",
              "    </tr>\n",
              "    <tr>\n",
              "      <th>4</th>\n",
              "      <td>0</td>\n",
              "      <td>1</td>\n",
              "      <td>0</td>\n",
              "      <td>0</td>\n",
              "      <td>0</td>\n",
              "    </tr>\n",
              "  </tbody>\n",
              "</table>\n",
              "</div>"
            ],
            "text/plain": [
              "   Cochin  Delhi  Hyderabad  Kolkata  New Delhi\n",
              "0       1      0          0        0          0\n",
              "1       0      0          0        0          0\n",
              "2       1      0          0        0          0\n",
              "3       1      0          0        0          0\n",
              "4       0      1          0        0          0"
            ]
          },
          "metadata": {
            "tags": []
          },
          "execution_count": 1185
        }
      ]
    },
    {
      "cell_type": "code",
      "metadata": {
        "id": "fSjGyXPSuWs0"
      },
      "source": [
        "test_data.drop([\"Route\", \"Additional_Info\"], axis = 1, inplace = True)"
      ],
      "execution_count": 1186,
      "outputs": []
    },
    {
      "cell_type": "code",
      "metadata": {
        "id": "ShyOAF8Lua1W"
      },
      "source": [
        "test_data.replace({\"non-stop\": 0, \"1 stop\": 1, \"2 stops\": 2, \"3 stops\": 3, \"4 stops\": 4}, inplace = True)"
      ],
      "execution_count": 1187,
      "outputs": []
    },
    {
      "cell_type": "code",
      "metadata": {
        "colab": {
          "base_uri": "https://localhost:8080/",
          "height": 275
        },
        "id": "vPGmc-OOuehl",
        "outputId": "06cf3cc4-ceef-4070-adfc-01819d20f7ef"
      },
      "source": [
        "test_data.head()"
      ],
      "execution_count": 1188,
      "outputs": [
        {
          "output_type": "execute_result",
          "data": {
            "text/html": [
              "<div>\n",
              "<style scoped>\n",
              "    .dataframe tbody tr th:only-of-type {\n",
              "        vertical-align: middle;\n",
              "    }\n",
              "\n",
              "    .dataframe tbody tr th {\n",
              "        vertical-align: top;\n",
              "    }\n",
              "\n",
              "    .dataframe thead th {\n",
              "        text-align: right;\n",
              "    }\n",
              "</style>\n",
              "<table border=\"1\" class=\"dataframe\">\n",
              "  <thead>\n",
              "    <tr style=\"text-align: right;\">\n",
              "      <th></th>\n",
              "      <th>Airline</th>\n",
              "      <th>Source</th>\n",
              "      <th>Destination</th>\n",
              "      <th>Total_Stops</th>\n",
              "      <th>Journey_day</th>\n",
              "      <th>Journey_month</th>\n",
              "      <th>Dep_hour</th>\n",
              "      <th>Dep_min</th>\n",
              "      <th>Arrival_hour</th>\n",
              "      <th>Arrival_min</th>\n",
              "      <th>Duration_hours</th>\n",
              "      <th>Duration_mins</th>\n",
              "    </tr>\n",
              "  </thead>\n",
              "  <tbody>\n",
              "    <tr>\n",
              "      <th>0</th>\n",
              "      <td>Jet Airways</td>\n",
              "      <td>Delhi</td>\n",
              "      <td>Cochin</td>\n",
              "      <td>1</td>\n",
              "      <td>6</td>\n",
              "      <td>6</td>\n",
              "      <td>17</td>\n",
              "      <td>30</td>\n",
              "      <td>4</td>\n",
              "      <td>25</td>\n",
              "      <td>10</td>\n",
              "      <td>55</td>\n",
              "    </tr>\n",
              "    <tr>\n",
              "      <th>1</th>\n",
              "      <td>IndiGo</td>\n",
              "      <td>Kolkata</td>\n",
              "      <td>Banglore</td>\n",
              "      <td>1</td>\n",
              "      <td>12</td>\n",
              "      <td>5</td>\n",
              "      <td>6</td>\n",
              "      <td>20</td>\n",
              "      <td>10</td>\n",
              "      <td>20</td>\n",
              "      <td>4</td>\n",
              "      <td>0</td>\n",
              "    </tr>\n",
              "    <tr>\n",
              "      <th>2</th>\n",
              "      <td>Jet Airways</td>\n",
              "      <td>Delhi</td>\n",
              "      <td>Cochin</td>\n",
              "      <td>1</td>\n",
              "      <td>21</td>\n",
              "      <td>5</td>\n",
              "      <td>19</td>\n",
              "      <td>15</td>\n",
              "      <td>19</td>\n",
              "      <td>0</td>\n",
              "      <td>23</td>\n",
              "      <td>45</td>\n",
              "    </tr>\n",
              "    <tr>\n",
              "      <th>3</th>\n",
              "      <td>Multiple carriers</td>\n",
              "      <td>Delhi</td>\n",
              "      <td>Cochin</td>\n",
              "      <td>1</td>\n",
              "      <td>21</td>\n",
              "      <td>5</td>\n",
              "      <td>8</td>\n",
              "      <td>0</td>\n",
              "      <td>21</td>\n",
              "      <td>0</td>\n",
              "      <td>13</td>\n",
              "      <td>0</td>\n",
              "    </tr>\n",
              "    <tr>\n",
              "      <th>4</th>\n",
              "      <td>Air Asia</td>\n",
              "      <td>Banglore</td>\n",
              "      <td>Delhi</td>\n",
              "      <td>0</td>\n",
              "      <td>24</td>\n",
              "      <td>6</td>\n",
              "      <td>23</td>\n",
              "      <td>55</td>\n",
              "      <td>2</td>\n",
              "      <td>45</td>\n",
              "      <td>2</td>\n",
              "      <td>50</td>\n",
              "    </tr>\n",
              "  </tbody>\n",
              "</table>\n",
              "</div>"
            ],
            "text/plain": [
              "             Airline    Source  ... Duration_hours  Duration_mins\n",
              "0        Jet Airways     Delhi  ...             10             55\n",
              "1             IndiGo   Kolkata  ...              4              0\n",
              "2        Jet Airways     Delhi  ...             23             45\n",
              "3  Multiple carriers     Delhi  ...             13              0\n",
              "4           Air Asia  Banglore  ...              2             50\n",
              "\n",
              "[5 rows x 12 columns]"
            ]
          },
          "metadata": {
            "tags": []
          },
          "execution_count": 1188
        }
      ]
    },
    {
      "cell_type": "code",
      "metadata": {
        "id": "AP8VPRLnuisU"
      },
      "source": [
        "data_test = pd.concat([test_data, Airline, Source, Destination], axis = 1)"
      ],
      "execution_count": 1189,
      "outputs": []
    },
    {
      "cell_type": "code",
      "metadata": {
        "id": "L8bdsSakuloy"
      },
      "source": [
        "data_test.drop([\"Airline\", \"Source\", \"Destination\"], axis = 1, inplace = True)"
      ],
      "execution_count": 1190,
      "outputs": []
    },
    {
      "cell_type": "code",
      "metadata": {
        "colab": {
          "base_uri": "https://localhost:8080/",
          "height": 275
        },
        "id": "KvO0Ky93uoba",
        "outputId": "784d9ddd-81a3-441a-87a9-e01867ac234d"
      },
      "source": [
        "data_test.head()"
      ],
      "execution_count": 1191,
      "outputs": [
        {
          "output_type": "execute_result",
          "data": {
            "text/html": [
              "<div>\n",
              "<style scoped>\n",
              "    .dataframe tbody tr th:only-of-type {\n",
              "        vertical-align: middle;\n",
              "    }\n",
              "\n",
              "    .dataframe tbody tr th {\n",
              "        vertical-align: top;\n",
              "    }\n",
              "\n",
              "    .dataframe thead th {\n",
              "        text-align: right;\n",
              "    }\n",
              "</style>\n",
              "<table border=\"1\" class=\"dataframe\">\n",
              "  <thead>\n",
              "    <tr style=\"text-align: right;\">\n",
              "      <th></th>\n",
              "      <th>Total_Stops</th>\n",
              "      <th>Journey_day</th>\n",
              "      <th>Journey_month</th>\n",
              "      <th>Dep_hour</th>\n",
              "      <th>Dep_min</th>\n",
              "      <th>Arrival_hour</th>\n",
              "      <th>Arrival_min</th>\n",
              "      <th>Duration_hours</th>\n",
              "      <th>Duration_mins</th>\n",
              "      <th>Air India</th>\n",
              "      <th>GoAir</th>\n",
              "      <th>IndiGo</th>\n",
              "      <th>Jet Airways</th>\n",
              "      <th>Jet Airways Business</th>\n",
              "      <th>Multiple carriers</th>\n",
              "      <th>Multiple carriers Premium economy</th>\n",
              "      <th>SpiceJet</th>\n",
              "      <th>Vistara</th>\n",
              "      <th>Vistara Premium economy</th>\n",
              "      <th>Chennai</th>\n",
              "      <th>Delhi</th>\n",
              "      <th>Kolkata</th>\n",
              "      <th>Mumbai</th>\n",
              "      <th>Cochin</th>\n",
              "      <th>Delhi</th>\n",
              "      <th>Hyderabad</th>\n",
              "      <th>Kolkata</th>\n",
              "      <th>New Delhi</th>\n",
              "    </tr>\n",
              "  </thead>\n",
              "  <tbody>\n",
              "    <tr>\n",
              "      <th>0</th>\n",
              "      <td>1</td>\n",
              "      <td>6</td>\n",
              "      <td>6</td>\n",
              "      <td>17</td>\n",
              "      <td>30</td>\n",
              "      <td>4</td>\n",
              "      <td>25</td>\n",
              "      <td>10</td>\n",
              "      <td>55</td>\n",
              "      <td>0</td>\n",
              "      <td>0</td>\n",
              "      <td>0</td>\n",
              "      <td>1</td>\n",
              "      <td>0</td>\n",
              "      <td>0</td>\n",
              "      <td>0</td>\n",
              "      <td>0</td>\n",
              "      <td>0</td>\n",
              "      <td>0</td>\n",
              "      <td>0</td>\n",
              "      <td>1</td>\n",
              "      <td>0</td>\n",
              "      <td>0</td>\n",
              "      <td>1</td>\n",
              "      <td>0</td>\n",
              "      <td>0</td>\n",
              "      <td>0</td>\n",
              "      <td>0</td>\n",
              "    </tr>\n",
              "    <tr>\n",
              "      <th>1</th>\n",
              "      <td>1</td>\n",
              "      <td>12</td>\n",
              "      <td>5</td>\n",
              "      <td>6</td>\n",
              "      <td>20</td>\n",
              "      <td>10</td>\n",
              "      <td>20</td>\n",
              "      <td>4</td>\n",
              "      <td>0</td>\n",
              "      <td>0</td>\n",
              "      <td>0</td>\n",
              "      <td>1</td>\n",
              "      <td>0</td>\n",
              "      <td>0</td>\n",
              "      <td>0</td>\n",
              "      <td>0</td>\n",
              "      <td>0</td>\n",
              "      <td>0</td>\n",
              "      <td>0</td>\n",
              "      <td>0</td>\n",
              "      <td>0</td>\n",
              "      <td>1</td>\n",
              "      <td>0</td>\n",
              "      <td>0</td>\n",
              "      <td>0</td>\n",
              "      <td>0</td>\n",
              "      <td>0</td>\n",
              "      <td>0</td>\n",
              "    </tr>\n",
              "    <tr>\n",
              "      <th>2</th>\n",
              "      <td>1</td>\n",
              "      <td>21</td>\n",
              "      <td>5</td>\n",
              "      <td>19</td>\n",
              "      <td>15</td>\n",
              "      <td>19</td>\n",
              "      <td>0</td>\n",
              "      <td>23</td>\n",
              "      <td>45</td>\n",
              "      <td>0</td>\n",
              "      <td>0</td>\n",
              "      <td>0</td>\n",
              "      <td>1</td>\n",
              "      <td>0</td>\n",
              "      <td>0</td>\n",
              "      <td>0</td>\n",
              "      <td>0</td>\n",
              "      <td>0</td>\n",
              "      <td>0</td>\n",
              "      <td>0</td>\n",
              "      <td>1</td>\n",
              "      <td>0</td>\n",
              "      <td>0</td>\n",
              "      <td>1</td>\n",
              "      <td>0</td>\n",
              "      <td>0</td>\n",
              "      <td>0</td>\n",
              "      <td>0</td>\n",
              "    </tr>\n",
              "    <tr>\n",
              "      <th>3</th>\n",
              "      <td>1</td>\n",
              "      <td>21</td>\n",
              "      <td>5</td>\n",
              "      <td>8</td>\n",
              "      <td>0</td>\n",
              "      <td>21</td>\n",
              "      <td>0</td>\n",
              "      <td>13</td>\n",
              "      <td>0</td>\n",
              "      <td>0</td>\n",
              "      <td>0</td>\n",
              "      <td>0</td>\n",
              "      <td>0</td>\n",
              "      <td>0</td>\n",
              "      <td>1</td>\n",
              "      <td>0</td>\n",
              "      <td>0</td>\n",
              "      <td>0</td>\n",
              "      <td>0</td>\n",
              "      <td>0</td>\n",
              "      <td>1</td>\n",
              "      <td>0</td>\n",
              "      <td>0</td>\n",
              "      <td>1</td>\n",
              "      <td>0</td>\n",
              "      <td>0</td>\n",
              "      <td>0</td>\n",
              "      <td>0</td>\n",
              "    </tr>\n",
              "    <tr>\n",
              "      <th>4</th>\n",
              "      <td>0</td>\n",
              "      <td>24</td>\n",
              "      <td>6</td>\n",
              "      <td>23</td>\n",
              "      <td>55</td>\n",
              "      <td>2</td>\n",
              "      <td>45</td>\n",
              "      <td>2</td>\n",
              "      <td>50</td>\n",
              "      <td>0</td>\n",
              "      <td>0</td>\n",
              "      <td>0</td>\n",
              "      <td>0</td>\n",
              "      <td>0</td>\n",
              "      <td>0</td>\n",
              "      <td>0</td>\n",
              "      <td>0</td>\n",
              "      <td>0</td>\n",
              "      <td>0</td>\n",
              "      <td>0</td>\n",
              "      <td>0</td>\n",
              "      <td>0</td>\n",
              "      <td>0</td>\n",
              "      <td>0</td>\n",
              "      <td>1</td>\n",
              "      <td>0</td>\n",
              "      <td>0</td>\n",
              "      <td>0</td>\n",
              "    </tr>\n",
              "  </tbody>\n",
              "</table>\n",
              "</div>"
            ],
            "text/plain": [
              "   Total_Stops  Journey_day  Journey_month  ...  Hyderabad  Kolkata  New Delhi\n",
              "0            1            6              6  ...          0        0          0\n",
              "1            1           12              5  ...          0        0          0\n",
              "2            1           21              5  ...          0        0          0\n",
              "3            1           21              5  ...          0        0          0\n",
              "4            0           24              6  ...          0        0          0\n",
              "\n",
              "[5 rows x 28 columns]"
            ]
          },
          "metadata": {
            "tags": []
          },
          "execution_count": 1191
        }
      ]
    },
    {
      "cell_type": "code",
      "metadata": {
        "colab": {
          "base_uri": "https://localhost:8080/"
        },
        "id": "P2fwj3w-uru2",
        "outputId": "70e5148d-f6c3-42d5-e97e-d7f4b91a6568"
      },
      "source": [
        "data_test.shape"
      ],
      "execution_count": 1192,
      "outputs": [
        {
          "output_type": "execute_result",
          "data": {
            "text/plain": [
              "(2671, 28)"
            ]
          },
          "metadata": {
            "tags": []
          },
          "execution_count": 1192
        }
      ]
    },
    {
      "cell_type": "code",
      "metadata": {
        "id": "gFh6Xr08uupB"
      },
      "source": [
        "corr1=data_test.corr()"
      ],
      "execution_count": 1193,
      "outputs": []
    },
    {
      "cell_type": "code",
      "metadata": {
        "colab": {
          "base_uri": "https://localhost:8080/",
          "height": 407
        },
        "id": "_1mLKoLfu_DV",
        "outputId": "1469cc1a-6af9-48b6-8aeb-77ce0e25f75e"
      },
      "source": [
        "sns.heatmap(corr1,linewidths=0.33)"
      ],
      "execution_count": 1194,
      "outputs": [
        {
          "output_type": "execute_result",
          "data": {
            "text/plain": [
              "<matplotlib.axes._subplots.AxesSubplot at 0x7fa91c163358>"
            ]
          },
          "metadata": {
            "tags": []
          },
          "execution_count": 1194
        },
        {
          "output_type": "display_data",
          "data": {
            "image/png": "[encoded data removed]",
            "text/plain": [
              "<Figure size 432x288 with 2 Axes>"
            ]
          },
          "metadata": {
            "tags": [],
            "needs_background": "light"
          }
        }
      ]
    },
    {
      "cell_type": "code",
      "metadata": {
        "id": "NszTUOSIvIxn"
      },
      "source": [
        "data_test.drop([\"Kolkata\", \"Mumbai\", \"Delhi\"], axis = 1, inplace = True)"
      ],
      "execution_count": 1195,
      "outputs": []
    },
    {
      "cell_type": "code",
      "metadata": {
        "colab": {
          "base_uri": "https://localhost:8080/"
        },
        "id": "Xwd3VLeawMnt",
        "outputId": "7c859cac-76de-4d50-88f0-e1be88c06590"
      },
      "source": [
        "data_test.shape"
      ],
      "execution_count": 1196,
      "outputs": [
        {
          "output_type": "execute_result",
          "data": {
            "text/plain": [
              "(2671, 23)"
            ]
          },
          "metadata": {
            "tags": []
          },
          "execution_count": 1196
        }
      ]
    },
    {
      "cell_type": "code",
      "metadata": {
        "colab": {
          "base_uri": "https://localhost:8080/"
        },
        "id": "uubSUBrRxF-B",
        "outputId": "aa391445-93fa-491e-cf46-99dbf2a66a38"
      },
      "source": [
        "data_train.columns"
      ],
      "execution_count": 1197,
      "outputs": [
        {
          "output_type": "execute_result",
          "data": {
            "text/plain": [
              "Index(['Total_Stops', 'Price', 'Journey_day', 'Journey_month',\n",
              "       'Departure_hour', 'Departure_min', 'Arrival_hour', 'Arrival_min',\n",
              "       'Duration_hours', 'Duration_mins', 'Airline_Air India', 'Airline_GoAir',\n",
              "       'Airline_IndiGo', 'Airline_Jet Airways', 'Airline_Jet Airways Business',\n",
              "       'Airline_Multiple carriers',\n",
              "       'Airline_Multiple carriers Premium economy', 'Airline_SpiceJet',\n",
              "       'Airline_Trujet', 'Airline_Vistara', 'Airline_Vistara Premium economy',\n",
              "       'Source_Chennai', 'Source_Kolkata', 'Destination_Cochin',\n",
              "       'Destination_Delhi', 'Destination_Hyderabad', 'Destination_New Delhi'],\n",
              "      dtype='object')"
            ]
          },
          "metadata": {
            "tags": []
          },
          "execution_count": 1197
        }
      ]
    },
    {
      "cell_type": "code",
      "metadata": {
        "colab": {
          "base_uri": "https://localhost:8080/",
          "height": 258
        },
        "id": "EgVG9BXmwP0O",
        "outputId": "a80f5aa5-df89-44e9-ac6c-c3df0b89a4ea"
      },
      "source": [
        "X = data_train.loc[:, ['Total_Stops', 'Journey_day', 'Journey_month',\r\n",
        "       'Departure_hour', 'Departure_min', 'Arrival_hour', 'Arrival_min',\r\n",
        "       'Duration_hours', 'Duration_mins', 'Airline_Air India', 'Airline_GoAir',\r\n",
        "       'Airline_IndiGo', 'Airline_Jet Airways', 'Airline_Jet Airways Business',\r\n",
        "       'Airline_Multiple carriers',\r\n",
        "       'Airline_Multiple carriers Premium economy', 'Airline_SpiceJet',\r\n",
        "       'Airline_Trujet', 'Airline_Vistara', 'Airline_Vistara Premium economy',\r\n",
        "       'Source_Chennai', 'Source_Kolkata', 'Destination_Cochin',\r\n",
        "       'Destination_Delhi', 'Destination_Hyderabad', 'Destination_New Delhi']]\r\n",
        "X.head()"
      ],
      "execution_count": 1198,
      "outputs": [
        {
          "output_type": "execute_result",
          "data": {
            "text/html": [
              "<div>\n",
              "<style scoped>\n",
              "    .dataframe tbody tr th:only-of-type {\n",
              "        vertical-align: middle;\n",
              "    }\n",
              "\n",
              "    .dataframe tbody tr th {\n",
              "        vertical-align: top;\n",
              "    }\n",
              "\n",
              "    .dataframe thead th {\n",
              "        text-align: right;\n",
              "    }\n",
              "</style>\n",
              "<table border=\"1\" class=\"dataframe\">\n",
              "  <thead>\n",
              "    <tr style=\"text-align: right;\">\n",
              "      <th></th>\n",
              "      <th>Total_Stops</th>\n",
              "      <th>Journey_day</th>\n",
              "      <th>Journey_month</th>\n",
              "      <th>Departure_hour</th>\n",
              "      <th>Departure_min</th>\n",
              "      <th>Arrival_hour</th>\n",
              "      <th>Arrival_min</th>\n",
              "      <th>Duration_hours</th>\n",
              "      <th>Duration_mins</th>\n",
              "      <th>Airline_Air India</th>\n",
              "      <th>Airline_GoAir</th>\n",
              "      <th>Airline_IndiGo</th>\n",
              "      <th>Airline_Jet Airways</th>\n",
              "      <th>Airline_Jet Airways Business</th>\n",
              "      <th>Airline_Multiple carriers</th>\n",
              "      <th>Airline_Multiple carriers Premium economy</th>\n",
              "      <th>Airline_SpiceJet</th>\n",
              "      <th>Airline_Trujet</th>\n",
              "      <th>Airline_Vistara</th>\n",
              "      <th>Airline_Vistara Premium economy</th>\n",
              "      <th>Source_Chennai</th>\n",
              "      <th>Source_Kolkata</th>\n",
              "      <th>Destination_Cochin</th>\n",
              "      <th>Destination_Delhi</th>\n",
              "      <th>Destination_Hyderabad</th>\n",
              "      <th>Destination_New Delhi</th>\n",
              "    </tr>\n",
              "  </thead>\n",
              "  <tbody>\n",
              "    <tr>\n",
              "      <th>0</th>\n",
              "      <td>0</td>\n",
              "      <td>24</td>\n",
              "      <td>3</td>\n",
              "      <td>22</td>\n",
              "      <td>20</td>\n",
              "      <td>1</td>\n",
              "      <td>10</td>\n",
              "      <td>2</td>\n",
              "      <td>50</td>\n",
              "      <td>0</td>\n",
              "      <td>0</td>\n",
              "      <td>1</td>\n",
              "      <td>0</td>\n",
              "      <td>0</td>\n",
              "      <td>0</td>\n",
              "      <td>0</td>\n",
              "      <td>0</td>\n",
              "      <td>0</td>\n",
              "      <td>0</td>\n",
              "      <td>0</td>\n",
              "      <td>0</td>\n",
              "      <td>0</td>\n",
              "      <td>0</td>\n",
              "      <td>0</td>\n",
              "      <td>0</td>\n",
              "      <td>1</td>\n",
              "    </tr>\n",
              "    <tr>\n",
              "      <th>1</th>\n",
              "      <td>2</td>\n",
              "      <td>1</td>\n",
              "      <td>5</td>\n",
              "      <td>5</td>\n",
              "      <td>50</td>\n",
              "      <td>13</td>\n",
              "      <td>15</td>\n",
              "      <td>7</td>\n",
              "      <td>25</td>\n",
              "      <td>1</td>\n",
              "      <td>0</td>\n",
              "      <td>0</td>\n",
              "      <td>0</td>\n",
              "      <td>0</td>\n",
              "      <td>0</td>\n",
              "      <td>0</td>\n",
              "      <td>0</td>\n",
              "      <td>0</td>\n",
              "      <td>0</td>\n",
              "      <td>0</td>\n",
              "      <td>0</td>\n",
              "      <td>1</td>\n",
              "      <td>0</td>\n",
              "      <td>0</td>\n",
              "      <td>0</td>\n",
              "      <td>0</td>\n",
              "    </tr>\n",
              "    <tr>\n",
              "      <th>2</th>\n",
              "      <td>2</td>\n",
              "      <td>9</td>\n",
              "      <td>6</td>\n",
              "      <td>9</td>\n",
              "      <td>25</td>\n",
              "      <td>4</td>\n",
              "      <td>25</td>\n",
              "      <td>19</td>\n",
              "      <td>0</td>\n",
              "      <td>0</td>\n",
              "      <td>0</td>\n",
              "      <td>0</td>\n",
              "      <td>1</td>\n",
              "      <td>0</td>\n",
              "      <td>0</td>\n",
              "      <td>0</td>\n",
              "      <td>0</td>\n",
              "      <td>0</td>\n",
              "      <td>0</td>\n",
              "      <td>0</td>\n",
              "      <td>0</td>\n",
              "      <td>0</td>\n",
              "      <td>1</td>\n",
              "      <td>0</td>\n",
              "      <td>0</td>\n",
              "      <td>0</td>\n",
              "    </tr>\n",
              "    <tr>\n",
              "      <th>3</th>\n",
              "      <td>1</td>\n",
              "      <td>12</td>\n",
              "      <td>5</td>\n",
              "      <td>18</td>\n",
              "      <td>5</td>\n",
              "      <td>23</td>\n",
              "      <td>30</td>\n",
              "      <td>5</td>\n",
              "      <td>25</td>\n",
              "      <td>0</td>\n",
              "      <td>0</td>\n",
              "      <td>1</td>\n",
              "      <td>0</td>\n",
              "      <td>0</td>\n",
              "      <td>0</td>\n",
              "      <td>0</td>\n",
              "      <td>0</td>\n",
              "      <td>0</td>\n",
              "      <td>0</td>\n",
              "      <td>0</td>\n",
              "      <td>0</td>\n",
              "      <td>1</td>\n",
              "      <td>0</td>\n",
              "      <td>0</td>\n",
              "      <td>0</td>\n",
              "      <td>0</td>\n",
              "    </tr>\n",
              "    <tr>\n",
              "      <th>4</th>\n",
              "      <td>1</td>\n",
              "      <td>1</td>\n",
              "      <td>3</td>\n",
              "      <td>16</td>\n",
              "      <td>50</td>\n",
              "      <td>21</td>\n",
              "      <td>35</td>\n",
              "      <td>4</td>\n",
              "      <td>45</td>\n",
              "      <td>0</td>\n",
              "      <td>0</td>\n",
              "      <td>1</td>\n",
              "      <td>0</td>\n",
              "      <td>0</td>\n",
              "      <td>0</td>\n",
              "      <td>0</td>\n",
              "      <td>0</td>\n",
              "      <td>0</td>\n",
              "      <td>0</td>\n",
              "      <td>0</td>\n",
              "      <td>0</td>\n",
              "      <td>0</td>\n",
              "      <td>0</td>\n",
              "      <td>0</td>\n",
              "      <td>0</td>\n",
              "      <td>1</td>\n",
              "    </tr>\n",
              "  </tbody>\n",
              "</table>\n",
              "</div>"
            ],
            "text/plain": [
              "   Total_Stops  Journey_day  ...  Destination_Hyderabad  Destination_New Delhi\n",
              "0            0           24  ...                      0                      1\n",
              "1            2            1  ...                      0                      0\n",
              "2            2            9  ...                      0                      0\n",
              "3            1           12  ...                      0                      0\n",
              "4            1            1  ...                      0                      1\n",
              "\n",
              "[5 rows x 26 columns]"
            ]
          },
          "metadata": {
            "tags": []
          },
          "execution_count": 1198
        }
      ]
    },
    {
      "cell_type": "code",
      "metadata": {
        "colab": {
          "base_uri": "https://localhost:8080/"
        },
        "id": "jl4SqjydwrfX",
        "outputId": "457a27b8-0657-43fd-d18f-6414e644ae21"
      },
      "source": [
        "X.shape"
      ],
      "execution_count": 1199,
      "outputs": [
        {
          "output_type": "execute_result",
          "data": {
            "text/plain": [
              "(10682, 26)"
            ]
          },
          "metadata": {
            "tags": []
          },
          "execution_count": 1199
        }
      ]
    },
    {
      "cell_type": "code",
      "metadata": {
        "colab": {
          "base_uri": "https://localhost:8080/"
        },
        "id": "G4BDrQaBxEsp",
        "outputId": "c2154122-a9ab-4ba5-81a6-1ff8c7ee681f"
      },
      "source": [
        "y = data_train.iloc[:, 1]\r\n",
        "y.head()"
      ],
      "execution_count": 1200,
      "outputs": [
        {
          "output_type": "execute_result",
          "data": {
            "text/plain": [
              "0     3897\n",
              "1     7662\n",
              "2    13882\n",
              "3     6218\n",
              "4    13302\n",
              "Name: Price, dtype: int64"
            ]
          },
          "metadata": {
            "tags": []
          },
          "execution_count": 1200
        }
      ]
    },
    {
      "cell_type": "code",
      "metadata": {
        "colab": {
          "base_uri": "https://localhost:8080/"
        },
        "id": "IBxDyx-Yxy_N",
        "outputId": "9ecea1b6-b332-4fa3-887a-34c191339728"
      },
      "source": [
        "y.shape"
      ],
      "execution_count": 1201,
      "outputs": [
        {
          "output_type": "execute_result",
          "data": {
            "text/plain": [
              "(10682,)"
            ]
          },
          "metadata": {
            "tags": []
          },
          "execution_count": 1201
        }
      ]
    },
    {
      "cell_type": "code",
      "metadata": {
        "id": "amcTUOisx0x8"
      },
      "source": [
        "from sklearn.model_selection import train_test_split\r\n",
        "X_train, X_test, y_train, y_test = train_test_split(X, y, test_size = 0.2, random_state = 42)"
      ],
      "execution_count": 1202,
      "outputs": []
    },
    {
      "cell_type": "code",
      "metadata": {
        "colab": {
          "base_uri": "https://localhost:8080/"
        },
        "id": "rNjgxuWLyBI9",
        "outputId": "eb3d3cd9-c740-4e5f-ddbf-634cfbe74976"
      },
      "source": [
        "from sklearn.ensemble import RandomForestRegressor\r\n",
        "reg_rf = RandomForestRegressor()\r\n",
        "reg_rf.fit(X_train, y_train)"
      ],
      "execution_count": 1203,
      "outputs": [
        {
          "output_type": "execute_result",
          "data": {
            "text/plain": [
              "RandomForestRegressor(bootstrap=True, ccp_alpha=0.0, criterion='mse',\n",
              "                      max_depth=None, max_features='auto', max_leaf_nodes=None,\n",
              "                      max_samples=None, min_impurity_decrease=0.0,\n",
              "                      min_impurity_split=None, min_samples_leaf=1,\n",
              "                      min_samples_split=2, min_weight_fraction_leaf=0.0,\n",
              "                      n_estimators=100, n_jobs=None, oob_score=False,\n",
              "                      random_state=None, verbose=0, warm_start=False)"
            ]
          },
          "metadata": {
            "tags": []
          },
          "execution_count": 1203
        }
      ]
    },
    {
      "cell_type": "code",
      "metadata": {
        "id": "XR_2-awtyIRk"
      },
      "source": [
        "y_pred = reg_rf.predict(X_test)"
      ],
      "execution_count": 1204,
      "outputs": []
    },
    {
      "cell_type": "code",
      "metadata": {
        "colab": {
          "base_uri": "https://localhost:8080/"
        },
        "id": "lGqXI_pwyRmH",
        "outputId": "7e1e4397-0864-48ba-f775-6a2cd5859f0b"
      },
      "source": [
        "reg_rf.score(X_train, y_train)"
      ],
      "execution_count": 1205,
      "outputs": [
        {
          "output_type": "execute_result",
          "data": {
            "text/plain": [
              "0.9535636416123011"
            ]
          },
          "metadata": {
            "tags": []
          },
          "execution_count": 1205
        }
      ]
    },
    {
      "cell_type": "code",
      "metadata": {
        "colab": {
          "base_uri": "https://localhost:8080/"
        },
        "id": "gelT5S2OyV94",
        "outputId": "04b2d202-31f6-41d8-d225-c817889e47d8"
      },
      "source": [
        "reg_rf.score(X_test, y_test)"
      ],
      "execution_count": 1206,
      "outputs": [
        {
          "output_type": "execute_result",
          "data": {
            "text/plain": [
              "0.7978383858816289"
            ]
          },
          "metadata": {
            "tags": []
          },
          "execution_count": 1206
        }
      ]
    },
    {
      "cell_type": "code",
      "metadata": {
        "colab": {
          "base_uri": "https://localhost:8080/",
          "height": 333
        },
        "id": "qWlyiqeUyZTf",
        "outputId": "0a242cda-5d93-42a6-a993-1fe61df30bd8"
      },
      "source": [
        "sns.distplot(y_test-y_pred)\r\n",
        "plt.show()"
      ],
      "execution_count": 1207,
      "outputs": [
        {
          "output_type": "stream",
          "text": [
            "/usr/local/lib/python3.6/dist-packages/seaborn/distributions.py:2557: FutureWarning: `distplot` is a deprecated function and will be removed in a future version. Please adapt your code to use either `displot` (a figure-level function with similar flexibility) or `histplot` (an axes-level function for histograms).\n",
            "  warnings.warn(msg, FutureWarning)\n"
          ],
          "name": "stderr"
        },
        {
          "output_type": "display_data",
          "data": {
            "image/png": "[encoded data removed]",
            "text/plain": [
              "<Figure size 432x288 with 1 Axes>"
            ]
          },
          "metadata": {
            "tags": [],
            "needs_background": "light"
          }
        }
      ]
    },
    {
      "cell_type": "code",
      "metadata": {
        "colab": {
          "base_uri": "https://localhost:8080/",
          "height": 280
        },
        "id": "OMUVhQdiyeAB",
        "outputId": "c4300bc2-d46d-4485-b3aa-b7f665ac1197"
      },
      "source": [
        "plt.scatter(y_test, y_pred, alpha = 0.5)\r\n",
        "plt.xlabel(\"y_test\")\r\n",
        "plt.ylabel(\"y_pred\")\r\n",
        "plt.show()"
      ],
      "execution_count": 1208,
      "outputs": [
        {
          "output_type": "display_data",
          "data": {
            "image/png": "[encoded data removed]",
            "text/plain": [
              "<Figure size 432x288 with 1 Axes>"
            ]
          },
          "metadata": {
            "tags": [],
            "needs_background": "light"
          }
        }
      ]
    },
    {
      "cell_type": "code",
      "metadata": {
        "id": "UHTRJDc4y2wh"
      },
      "source": [
        "from sklearn import metrics"
      ],
      "execution_count": 1209,
      "outputs": []
    },
    {
      "cell_type": "code",
      "metadata": {
        "colab": {
          "base_uri": "https://localhost:8080/"
        },
        "id": "sm8hFwxty5wC",
        "outputId": "2973b79e-2809-4eb8-b51a-1e10ed55f346"
      },
      "source": [
        "print('MAE:', metrics.mean_absolute_error(y_test, y_pred))\r\n",
        "print('MSE:', metrics.mean_squared_error(y_test, y_pred))\r\n",
        "print('RMSE:', np.sqrt(metrics.mean_squared_error(y_test, y_pred)))"
      ],
      "execution_count": 1210,
      "outputs": [
        {
          "output_type": "stream",
          "text": [
            "MAE: 1173.8567205687127\n",
            "MSE: 4359020.1102037765\n",
            "RMSE: 2087.8266475461455\n"
          ],
          "name": "stdout"
        }
      ]
    },
    {
      "cell_type": "code",
      "metadata": {
        "colab": {
          "base_uri": "https://localhost:8080/"
        },
        "id": "o31gGGGJy98K",
        "outputId": "15cd8dc7-a765-4fd4-ac35-3ff8bdb17695"
      },
      "source": [
        "\r\n",
        "# RMSE/(max(DV)-min(DV))\r\n",
        "\r\n",
        "2090.5509/(max(y)-min(y))"
      ],
      "execution_count": 1211,
      "outputs": [
        {
          "output_type": "execute_result",
          "data": {
            "text/plain": [
              "0.026887077025966846"
            ]
          },
          "metadata": {
            "tags": []
          },
          "execution_count": 1211
        }
      ]
    },
    {
      "cell_type": "code",
      "metadata": {
        "colab": {
          "base_uri": "https://localhost:8080/"
        },
        "id": "TEfuz32WzFLb",
        "outputId": "89bcc723-de8d-46df-fce2-a51781702758"
      },
      "source": [
        "\r\n",
        "metrics.r2_score(y_test, y_pred)"
      ],
      "execution_count": 1212,
      "outputs": [
        {
          "output_type": "execute_result",
          "data": {
            "text/plain": [
              "0.7978383858816289"
            ]
          },
          "metadata": {
            "tags": []
          },
          "execution_count": 1212
        }
      ]
    },
    {
      "cell_type": "code",
      "metadata": {
        "id": "yGRxpX23zHcn"
      },
      "source": [
        "from sklearn.model_selection import RandomizedSearchCV"
      ],
      "execution_count": 1213,
      "outputs": []
    },
    {
      "cell_type": "code",
      "metadata": {
        "id": "K9VF7NHbzMA1"
      },
      "source": [
        "\r\n",
        "\r\n",
        "# Number of trees in random forest\r\n",
        "n_estimators = [int(x) for x in np.linspace(start = 100, stop = 1500, num = 12)]\r\n",
        "# Number of features to consider at every split\r\n",
        "max_features = ['auto', 'sqrt']\r\n",
        "# Maximum number of levels in tree\r\n",
        "max_depth = [int(x) for x in np.linspace(5, 30, num = 6)]\r\n",
        "# Minimum number of samples required to split a node\r\n",
        "min_samples_split = [2, 5, 10, 15, 100]\r\n",
        "# Minimum number of samples required at each leaf node\r\n",
        "min_samples_leaf = [1, 2, 5, 10]"
      ],
      "execution_count": 1214,
      "outputs": []
    },
    {
      "cell_type": "code",
      "metadata": {
        "id": "Af4704Bmzr1N"
      },
      "source": [
        "random_grid = {'n_estimators': n_estimators,\r\n",
        "               'max_features': max_features,\r\n",
        "               'max_depth': max_depth,\r\n",
        "               'min_samples_split': min_samples_split,\r\n",
        "               'min_samples_leaf': min_samples_leaf}"
      ],
      "execution_count": 1215,
      "outputs": []
    },
    {
      "cell_type": "code",
      "metadata": {
        "id": "m662eYcFzv57"
      },
      "source": [
        "rf_random = RandomizedSearchCV(estimator = reg_rf, param_distributions = random_grid,scoring='neg_mean_squared_error', n_iter = 10, cv = 5, verbose=2, random_state=42, n_jobs = 1)"
      ],
      "execution_count": 1216,
      "outputs": []
    },
    {
      "cell_type": "code",
      "metadata": {
        "colab": {
          "base_uri": "https://localhost:8080/"
        },
        "id": "2mQ3akp4z08i",
        "outputId": "56beba8c-ce5c-45be-cc22-6999ecd2f062"
      },
      "source": [
        "rf_random.fit(X_train,y_train)"
      ],
      "execution_count": 1217,
      "outputs": [
        {
          "output_type": "stream",
          "text": [
            "Fitting 5 folds for each of 10 candidates, totalling 50 fits\n",
            "[CV] n_estimators=1118, min_samples_split=5, min_samples_leaf=5, max_features=sqrt, max_depth=10 \n"
          ],
          "name": "stdout"
        },
        {
          "output_type": "stream",
          "text": [
            "[Parallel(n_jobs=1)]: Using backend SequentialBackend with 1 concurrent workers.\n"
          ],
          "name": "stderr"
        },
        {
          "output_type": "stream",
          "text": [
            "[CV]  n_estimators=1118, min_samples_split=5, min_samples_leaf=5, max_features=sqrt, max_depth=10, total=   5.2s\n",
            "[CV] n_estimators=1118, min_samples_split=5, min_samples_leaf=5, max_features=sqrt, max_depth=10 \n"
          ],
          "name": "stdout"
        },
        {
          "output_type": "stream",
          "text": [
            "[Parallel(n_jobs=1)]: Done   1 out of   1 | elapsed:    5.2s remaining:    0.0s\n"
          ],
          "name": "stderr"
        },
        {
          "output_type": "stream",
          "text": [
            "[CV]  n_estimators=1118, min_samples_split=5, min_samples_leaf=5, max_features=sqrt, max_depth=10, total=   5.1s\n",
            "[CV] n_estimators=1118, min_samples_split=5, min_samples_leaf=5, max_features=sqrt, max_depth=10 \n",
            "[CV]  n_estimators=1118, min_samples_split=5, min_samples_leaf=5, max_features=sqrt, max_depth=10, total=   5.1s\n",
            "[CV] n_estimators=1118, min_samples_split=5, min_samples_leaf=5, max_features=sqrt, max_depth=10 \n",
            "[CV]  n_estimators=1118, min_samples_split=5, min_samples_leaf=5, max_features=sqrt, max_depth=10, total=   5.1s\n",
            "[CV] n_estimators=1118, min_samples_split=5, min_samples_leaf=5, max_features=sqrt, max_depth=10 \n",
            "[CV]  n_estimators=1118, min_samples_split=5, min_samples_leaf=5, max_features=sqrt, max_depth=10, total=   5.1s\n",
            "[CV] n_estimators=1372, min_samples_split=10, min_samples_leaf=2, max_features=sqrt, max_depth=15 \n",
            "[CV]  n_estimators=1372, min_samples_split=10, min_samples_leaf=2, max_features=sqrt, max_depth=15, total=   7.9s\n",
            "[CV] n_estimators=1372, min_samples_split=10, min_samples_leaf=2, max_features=sqrt, max_depth=15 \n",
            "[CV]  n_estimators=1372, min_samples_split=10, min_samples_leaf=2, max_features=sqrt, max_depth=15, total=   7.9s\n",
            "[CV] n_estimators=1372, min_samples_split=10, min_samples_leaf=2, max_features=sqrt, max_depth=15 \n",
            "[CV]  n_estimators=1372, min_samples_split=10, min_samples_leaf=2, max_features=sqrt, max_depth=15, total=   7.9s\n",
            "[CV] n_estimators=1372, min_samples_split=10, min_samples_leaf=2, max_features=sqrt, max_depth=15 \n",
            "[CV]  n_estimators=1372, min_samples_split=10, min_samples_leaf=2, max_features=sqrt, max_depth=15, total=   8.0s\n",
            "[CV] n_estimators=1372, min_samples_split=10, min_samples_leaf=2, max_features=sqrt, max_depth=15 \n",
            "[CV]  n_estimators=1372, min_samples_split=10, min_samples_leaf=2, max_features=sqrt, max_depth=15, total=   7.9s\n",
            "[CV] n_estimators=354, min_samples_split=100, min_samples_leaf=5, max_features=auto, max_depth=15 \n",
            "[CV]  n_estimators=354, min_samples_split=100, min_samples_leaf=5, max_features=auto, max_depth=15, total=   4.5s\n",
            "[CV] n_estimators=354, min_samples_split=100, min_samples_leaf=5, max_features=auto, max_depth=15 \n",
            "[CV]  n_estimators=354, min_samples_split=100, min_samples_leaf=5, max_features=auto, max_depth=15, total=   4.4s\n",
            "[CV] n_estimators=354, min_samples_split=100, min_samples_leaf=5, max_features=auto, max_depth=15 \n",
            "[CV]  n_estimators=354, min_samples_split=100, min_samples_leaf=5, max_features=auto, max_depth=15, total=   4.4s\n",
            "[CV] n_estimators=354, min_samples_split=100, min_samples_leaf=5, max_features=auto, max_depth=15 \n",
            "[CV]  n_estimators=354, min_samples_split=100, min_samples_leaf=5, max_features=auto, max_depth=15, total=   4.3s\n",
            "[CV] n_estimators=354, min_samples_split=100, min_samples_leaf=5, max_features=auto, max_depth=15 \n",
            "[CV]  n_estimators=354, min_samples_split=100, min_samples_leaf=5, max_features=auto, max_depth=15, total=   4.4s\n",
            "[CV] n_estimators=481, min_samples_split=5, min_samples_leaf=5, max_features=auto, max_depth=15 \n",
            "[CV]  n_estimators=481, min_samples_split=5, min_samples_leaf=5, max_features=auto, max_depth=15, total=   8.3s\n",
            "[CV] n_estimators=481, min_samples_split=5, min_samples_leaf=5, max_features=auto, max_depth=15 \n",
            "[CV]  n_estimators=481, min_samples_split=5, min_samples_leaf=5, max_features=auto, max_depth=15, total=   8.2s\n",
            "[CV] n_estimators=481, min_samples_split=5, min_samples_leaf=5, max_features=auto, max_depth=15 \n",
            "[CV]  n_estimators=481, min_samples_split=5, min_samples_leaf=5, max_features=auto, max_depth=15, total=   8.2s\n",
            "[CV] n_estimators=481, min_samples_split=5, min_samples_leaf=5, max_features=auto, max_depth=15 \n",
            "[CV]  n_estimators=481, min_samples_split=5, min_samples_leaf=5, max_features=auto, max_depth=15, total=   8.1s\n",
            "[CV] n_estimators=481, min_samples_split=5, min_samples_leaf=5, max_features=auto, max_depth=15 \n",
            "[CV]  n_estimators=481, min_samples_split=5, min_samples_leaf=5, max_features=auto, max_depth=15, total=   8.2s\n",
            "[CV] n_estimators=863, min_samples_split=5, min_samples_leaf=10, max_features=auto, max_depth=20 \n",
            "[CV]  n_estimators=863, min_samples_split=5, min_samples_leaf=10, max_features=auto, max_depth=20, total=  13.0s\n",
            "[CV] n_estimators=863, min_samples_split=5, min_samples_leaf=10, max_features=auto, max_depth=20 \n",
            "[CV]  n_estimators=863, min_samples_split=5, min_samples_leaf=10, max_features=auto, max_depth=20, total=  12.9s\n",
            "[CV] n_estimators=863, min_samples_split=5, min_samples_leaf=10, max_features=auto, max_depth=20 \n",
            "[CV]  n_estimators=863, min_samples_split=5, min_samples_leaf=10, max_features=auto, max_depth=20, total=  12.9s\n",
            "[CV] n_estimators=863, min_samples_split=5, min_samples_leaf=10, max_features=auto, max_depth=20 \n",
            "[CV]  n_estimators=863, min_samples_split=5, min_samples_leaf=10, max_features=auto, max_depth=20, total=  12.9s\n",
            "[CV] n_estimators=863, min_samples_split=5, min_samples_leaf=10, max_features=auto, max_depth=20 \n",
            "[CV]  n_estimators=863, min_samples_split=5, min_samples_leaf=10, max_features=auto, max_depth=20, total=  13.1s\n",
            "[CV] n_estimators=1245, min_samples_split=2, min_samples_leaf=1, max_features=sqrt, max_depth=25 \n",
            "[CV]  n_estimators=1245, min_samples_split=2, min_samples_leaf=1, max_features=sqrt, max_depth=25, total=  11.6s\n",
            "[CV] n_estimators=1245, min_samples_split=2, min_samples_leaf=1, max_features=sqrt, max_depth=25 \n",
            "[CV]  n_estimators=1245, min_samples_split=2, min_samples_leaf=1, max_features=sqrt, max_depth=25, total=  11.5s\n",
            "[CV] n_estimators=1245, min_samples_split=2, min_samples_leaf=1, max_features=sqrt, max_depth=25 \n",
            "[CV]  n_estimators=1245, min_samples_split=2, min_samples_leaf=1, max_features=sqrt, max_depth=25, total=  11.5s\n",
            "[CV] n_estimators=1245, min_samples_split=2, min_samples_leaf=1, max_features=sqrt, max_depth=25 \n",
            "[CV]  n_estimators=1245, min_samples_split=2, min_samples_leaf=1, max_features=sqrt, max_depth=25, total=  11.6s\n",
            "[CV] n_estimators=1245, min_samples_split=2, min_samples_leaf=1, max_features=sqrt, max_depth=25 \n",
            "[CV]  n_estimators=1245, min_samples_split=2, min_samples_leaf=1, max_features=sqrt, max_depth=25, total=  11.5s\n",
            "[CV] n_estimators=1372, min_samples_split=15, min_samples_leaf=10, max_features=sqrt, max_depth=5 \n",
            "[CV]  n_estimators=1372, min_samples_split=15, min_samples_leaf=10, max_features=sqrt, max_depth=5, total=   4.1s\n",
            "[CV] n_estimators=1372, min_samples_split=15, min_samples_leaf=10, max_features=sqrt, max_depth=5 \n",
            "[CV]  n_estimators=1372, min_samples_split=15, min_samples_leaf=10, max_features=sqrt, max_depth=5, total=   4.1s\n",
            "[CV] n_estimators=1372, min_samples_split=15, min_samples_leaf=10, max_features=sqrt, max_depth=5 \n",
            "[CV]  n_estimators=1372, min_samples_split=15, min_samples_leaf=10, max_features=sqrt, max_depth=5, total=   4.1s\n",
            "[CV] n_estimators=1372, min_samples_split=15, min_samples_leaf=10, max_features=sqrt, max_depth=5 \n",
            "[CV]  n_estimators=1372, min_samples_split=15, min_samples_leaf=10, max_features=sqrt, max_depth=5, total=   4.1s\n",
            "[CV] n_estimators=1372, min_samples_split=15, min_samples_leaf=10, max_features=sqrt, max_depth=5 \n",
            "[CV]  n_estimators=1372, min_samples_split=15, min_samples_leaf=10, max_features=sqrt, max_depth=5, total=   4.1s\n",
            "[CV] n_estimators=354, min_samples_split=15, min_samples_leaf=1, max_features=sqrt, max_depth=15 \n",
            "[CV]  n_estimators=354, min_samples_split=15, min_samples_leaf=1, max_features=sqrt, max_depth=15, total=   2.0s\n",
            "[CV] n_estimators=354, min_samples_split=15, min_samples_leaf=1, max_features=sqrt, max_depth=15 \n",
            "[CV]  n_estimators=354, min_samples_split=15, min_samples_leaf=1, max_features=sqrt, max_depth=15, total=   2.0s\n",
            "[CV] n_estimators=354, min_samples_split=15, min_samples_leaf=1, max_features=sqrt, max_depth=15 \n",
            "[CV]  n_estimators=354, min_samples_split=15, min_samples_leaf=1, max_features=sqrt, max_depth=15, total=   2.0s\n",
            "[CV] n_estimators=354, min_samples_split=15, min_samples_leaf=1, max_features=sqrt, max_depth=15 \n",
            "[CV]  n_estimators=354, min_samples_split=15, min_samples_leaf=1, max_features=sqrt, max_depth=15, total=   2.0s\n",
            "[CV] n_estimators=354, min_samples_split=15, min_samples_leaf=1, max_features=sqrt, max_depth=15 \n",
            "[CV]  n_estimators=354, min_samples_split=15, min_samples_leaf=1, max_features=sqrt, max_depth=15, total=   2.0s\n",
            "[CV] n_estimators=863, min_samples_split=10, min_samples_leaf=2, max_features=sqrt, max_depth=5 \n",
            "[CV]  n_estimators=863, min_samples_split=10, min_samples_leaf=2, max_features=sqrt, max_depth=5, total=   2.6s\n",
            "[CV] n_estimators=863, min_samples_split=10, min_samples_leaf=2, max_features=sqrt, max_depth=5 \n",
            "[CV]  n_estimators=863, min_samples_split=10, min_samples_leaf=2, max_features=sqrt, max_depth=5, total=   2.6s\n",
            "[CV] n_estimators=863, min_samples_split=10, min_samples_leaf=2, max_features=sqrt, max_depth=5 \n",
            "[CV]  n_estimators=863, min_samples_split=10, min_samples_leaf=2, max_features=sqrt, max_depth=5, total=   2.6s\n",
            "[CV] n_estimators=863, min_samples_split=10, min_samples_leaf=2, max_features=sqrt, max_depth=5 \n",
            "[CV]  n_estimators=863, min_samples_split=10, min_samples_leaf=2, max_features=sqrt, max_depth=5, total=   2.6s\n",
            "[CV] n_estimators=863, min_samples_split=10, min_samples_leaf=2, max_features=sqrt, max_depth=5 \n",
            "[CV]  n_estimators=863, min_samples_split=10, min_samples_leaf=2, max_features=sqrt, max_depth=5, total=   2.6s\n",
            "[CV] n_estimators=863, min_samples_split=15, min_samples_leaf=1, max_features=auto, max_depth=20 \n",
            "[CV]  n_estimators=863, min_samples_split=15, min_samples_leaf=1, max_features=auto, max_depth=20, total=  15.8s\n",
            "[CV] n_estimators=863, min_samples_split=15, min_samples_leaf=1, max_features=auto, max_depth=20 \n",
            "[CV]  n_estimators=863, min_samples_split=15, min_samples_leaf=1, max_features=auto, max_depth=20, total=  15.6s\n",
            "[CV] n_estimators=863, min_samples_split=15, min_samples_leaf=1, max_features=auto, max_depth=20 \n",
            "[CV]  n_estimators=863, min_samples_split=15, min_samples_leaf=1, max_features=auto, max_depth=20, total=  15.4s\n",
            "[CV] n_estimators=863, min_samples_split=15, min_samples_leaf=1, max_features=auto, max_depth=20 \n",
            "[CV]  n_estimators=863, min_samples_split=15, min_samples_leaf=1, max_features=auto, max_depth=20, total=  15.6s\n",
            "[CV] n_estimators=863, min_samples_split=15, min_samples_leaf=1, max_features=auto, max_depth=20 \n",
            "[CV]  n_estimators=863, min_samples_split=15, min_samples_leaf=1, max_features=auto, max_depth=20, total=  15.7s\n"
          ],
          "name": "stdout"
        },
        {
          "output_type": "stream",
          "text": [
            "[Parallel(n_jobs=1)]: Done  50 out of  50 | elapsed:  6.2min finished\n"
          ],
          "name": "stderr"
        },
        {
          "output_type": "execute_result",
          "data": {
            "text/plain": [
              "RandomizedSearchCV(cv=5, error_score=nan,\n",
              "                   estimator=RandomForestRegressor(bootstrap=True,\n",
              "                                                   ccp_alpha=0.0,\n",
              "                                                   criterion='mse',\n",
              "                                                   max_depth=None,\n",
              "                                                   max_features='auto',\n",
              "                                                   max_leaf_nodes=None,\n",
              "                                                   max_samples=None,\n",
              "                                                   min_impurity_decrease=0.0,\n",
              "                                                   min_impurity_split=None,\n",
              "                                                   min_samples_leaf=1,\n",
              "                                                   min_samples_split=2,\n",
              "                                                   min_weight_fraction_leaf=0.0,\n",
              "                                                   n_estimators=100,\n",
              "                                                   n_jobs=None, oob_score=Fals...\n",
              "                   iid='deprecated', n_iter=10, n_jobs=1,\n",
              "                   param_distributions={'max_depth': [5, 10, 15, 20, 25, 30],\n",
              "                                        'max_features': ['auto', 'sqrt'],\n",
              "                                        'min_samples_leaf': [1, 2, 5, 10],\n",
              "                                        'min_samples_split': [2, 5, 10, 15,\n",
              "                                                              100],\n",
              "                                        'n_estimators': [100, 227, 354, 481,\n",
              "                                                         609, 736, 863, 990,\n",
              "                                                         1118, 1245, 1372,\n",
              "                                                         1500]},\n",
              "                   pre_dispatch='2*n_jobs', random_state=42, refit=True,\n",
              "                   return_train_score=False, scoring='neg_mean_squared_error',\n",
              "                   verbose=2)"
            ]
          },
          "metadata": {
            "tags": []
          },
          "execution_count": 1217
        }
      ]
    },
    {
      "cell_type": "code",
      "metadata": {
        "colab": {
          "base_uri": "https://localhost:8080/"
        },
        "id": "z1ppNjxoz-bd",
        "outputId": "99b2e38d-14b7-45ce-8b77-4381185bfe9d"
      },
      "source": [
        "\r\n",
        "rf_random.best_params_"
      ],
      "execution_count": 1218,
      "outputs": [
        {
          "output_type": "execute_result",
          "data": {
            "text/plain": [
              "{'max_depth': 20,\n",
              " 'max_features': 'auto',\n",
              " 'min_samples_leaf': 1,\n",
              " 'min_samples_split': 15,\n",
              " 'n_estimators': 863}"
            ]
          },
          "metadata": {
            "tags": []
          },
          "execution_count": 1218
        }
      ]
    },
    {
      "cell_type": "code",
      "metadata": {
        "id": "bF3P5TcD1sKL"
      },
      "source": [
        "prediction = rf_random.predict(X_test)"
      ],
      "execution_count": 1219,
      "outputs": []
    },
    {
      "cell_type": "code",
      "metadata": {
        "colab": {
          "base_uri": "https://localhost:8080/",
          "height": 551
        },
        "id": "gWt0etmB1zyx",
        "outputId": "febec2fc-85a1-439c-b2d9-88cdda89b606"
      },
      "source": [
        "\r\n",
        "plt.figure(figsize = (8,8))\r\n",
        "sns.distplot(y_test-prediction)\r\n",
        "plt.show()"
      ],
      "execution_count": 1220,
      "outputs": [
        {
          "output_type": "stream",
          "text": [
            "/usr/local/lib/python3.6/dist-packages/seaborn/distributions.py:2557: FutureWarning: `distplot` is a deprecated function and will be removed in a future version. Please adapt your code to use either `displot` (a figure-level function with similar flexibility) or `histplot` (an axes-level function for histograms).\n",
            "  warnings.warn(msg, FutureWarning)\n"
          ],
          "name": "stderr"
        },
        {
          "output_type": "display_data",
          "data": {
            "image/png": "[encoded data removed]",
            "text/plain": [
              "<Figure size 576x576 with 1 Axes>"
            ]
          },
          "metadata": {
            "tags": [],
            "needs_background": "light"
          }
        }
      ]
    },
    {
      "cell_type": "code",
      "metadata": {
        "colab": {
          "base_uri": "https://localhost:8080/",
          "height": 497
        },
        "id": "6lb9Qi3P12JU",
        "outputId": "73b039ed-39cf-4344-b6d4-8dd0a24959e5"
      },
      "source": [
        "plt.figure(figsize = (8,8))\r\n",
        "plt.scatter(y_test, prediction, alpha = 0.5)\r\n",
        "plt.xlabel(\"y_test\")\r\n",
        "plt.ylabel(\"y_pred\")\r\n",
        "plt.show()"
      ],
      "execution_count": 1221,
      "outputs": [
        {
          "output_type": "display_data",
          "data": {
            "image/png": "[encoded data removed]",
            "text/plain": [
              "<Figure size 576x576 with 1 Axes>"
            ]
          },
          "metadata": {
            "tags": [],
            "needs_background": "light"
          }
        }
      ]
    },
    {
      "cell_type": "code",
      "metadata": {
        "colab": {
          "base_uri": "https://localhost:8080/"
        },
        "id": "S7afba3I183D",
        "outputId": "2d1d4a79-2c44-49b1-a2b0-c3a1796e8b5e"
      },
      "source": [
        "print('MAE:', metrics.mean_absolute_error(y_test, prediction))\r\n",
        "print('MSE:', metrics.mean_squared_error(y_test, prediction))\r\n",
        "print('RMSE:', np.sqrt(metrics.mean_squared_error(y_test, prediction)))"
      ],
      "execution_count": 1227,
      "outputs": [
        {
          "output_type": "stream",
          "text": [
            "MAE: 1164.834892849765\n",
            "MSE: 4055732.2420726046\n",
            "RMSE: 2013.884863161895\n"
          ],
          "name": "stdout"
        }
      ]
    },
    {
      "cell_type": "code",
      "metadata": {
        "id": "heMlXMan2Lk5"
      },
      "source": [
        "import pickle\r\n",
        "# open a file, where you ant to store the data\r\n",
        "file = open('flight_rf.pkl', 'wb')\r\n",
        "\r\n",
        "# dump information to that file\r\n",
        "pickle.dump(rf_random, file)"
      ],
      "execution_count": 1231,
      "outputs": []
    },
    {
      "cell_type": "code",
      "metadata": {
        "id": "1SiNhb1G2UaA"
      },
      "source": [
        "model = open('flight_rf.pkl','rb')\r\n",
        "forest = pickle.load(model)"
      ],
      "execution_count": 1233,
      "outputs": []
    },
    {
      "cell_type": "code",
      "metadata": {
        "id": "JgFksTr_2Wfa"
      },
      "source": [
        "y_prediction = forest.predict(X_test)"
      ],
      "execution_count": 1234,
      "outputs": []
    },
    {
      "cell_type": "code",
      "metadata": {
        "colab": {
          "base_uri": "https://localhost:8080/"
        },
        "id": "p9Ru8uWX52qk",
        "outputId": "acf79802-0cbd-4e5e-e0f0-30577faf5e17"
      },
      "source": [
        "metrics.r2_score(y_test, y_prediction)"
      ],
      "execution_count": 1235,
      "outputs": [
        {
          "output_type": "execute_result",
          "data": {
            "text/plain": [
              "0.8119041996227477"
            ]
          },
          "metadata": {
            "tags": []
          },
          "execution_count": 1235
        }
      ]
    },
    {
      "cell_type": "code",
      "metadata": {
        "id": "Hsm5azhf54bR"
      },
      "source": [
        ""
      ],
      "execution_count": null,
      "outputs": []
    }
  ]
}